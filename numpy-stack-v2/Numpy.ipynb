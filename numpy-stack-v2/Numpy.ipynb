{
  "nbformat": 4,
  "nbformat_minor": 0,
  "metadata": {
    "colab": {
      "provenance": [],
      "authorship_tag": "ABX9TyP9z7QJ6W95ivbDcS6cDKQv",
      "include_colab_link": true
    },
    "kernelspec": {
      "name": "python3",
      "display_name": "Python 3"
    },
    "language_info": {
      "name": "python"
    }
  },
  "cells": [
    {
      "cell_type": "markdown",
      "metadata": {
        "id": "view-in-github",
        "colab_type": "text"
      },
      "source": [
        "<a href=\"https://colab.research.google.com/github/elifberkman/deep-learning-prereaquisites/blob/master/numpy-stack-v2/Numpy.ipynb\" target=\"_parent\"><img src=\"https://colab.research.google.com/assets/colab-badge.svg\" alt=\"Open In Colab\"/></a>"
      ]
    },
    {
      "cell_type": "markdown",
      "source": [
        "# Numpy"
      ],
      "metadata": {
        "id": "RwgliK1HDc1q"
      }
    },
    {
      "cell_type": "code",
      "execution_count": 1,
      "metadata": {
        "id": "ZcvTExJY7ZGW"
      },
      "outputs": [],
      "source": [
        "import numpy as np"
      ]
    },
    {
      "cell_type": "markdown",
      "source": [
        "## Arrays vs Lists"
      ],
      "metadata": {
        "id": "8uVhD2G1KBJl"
      }
    },
    {
      "cell_type": "code",
      "source": [
        "L = [1,2,3]"
      ],
      "metadata": {
        "id": "GEt9YeKEANi5"
      },
      "execution_count": null,
      "outputs": []
    },
    {
      "cell_type": "code",
      "source": [
        "A = np.array([1,2,3])"
      ],
      "metadata": {
        "id": "fochQhm5AZpM"
      },
      "execution_count": null,
      "outputs": []
    },
    {
      "cell_type": "code",
      "source": [
        "for e in L:\n",
        "  print(e)"
      ],
      "metadata": {
        "colab": {
          "base_uri": "https://localhost:8080/"
        },
        "id": "LdWHXOBHAiF5",
        "outputId": "d5b432a0-66d7-41e5-eb3a-fbf1d08bd723"
      },
      "execution_count": null,
      "outputs": [
        {
          "output_type": "stream",
          "name": "stdout",
          "text": [
            "1\n",
            "2\n",
            "3\n"
          ]
        }
      ]
    },
    {
      "cell_type": "code",
      "source": [
        "for i in A:\n",
        "  print(i)"
      ],
      "metadata": {
        "colab": {
          "base_uri": "https://localhost:8080/"
        },
        "id": "frVf9YR0C7Pd",
        "outputId": "f8366193-fd7c-42dc-c4d5-793fa56fc300"
      },
      "execution_count": null,
      "outputs": [
        {
          "output_type": "stream",
          "name": "stdout",
          "text": [
            "1\n",
            "2\n",
            "3\n"
          ]
        }
      ]
    },
    {
      "cell_type": "code",
      "source": [
        "L.append(4)\n",
        "L"
      ],
      "metadata": {
        "colab": {
          "base_uri": "https://localhost:8080/"
        },
        "id": "p_96tOX3EEgk",
        "outputId": "85c2392a-2c3b-49f6-a256-edf984f6d399"
      },
      "execution_count": null,
      "outputs": [
        {
          "output_type": "execute_result",
          "data": {
            "text/plain": [
              "[1, 2, 3, 4]"
            ]
          },
          "metadata": {},
          "execution_count": 10
        }
      ]
    },
    {
      "cell_type": "code",
      "source": [
        "A.append(4)"
      ],
      "metadata": {
        "colab": {
          "base_uri": "https://localhost:8080/",
          "height": 165
        },
        "id": "35kQErPWEI0W",
        "outputId": "066936f7-d998-44a3-af51-6c8e367f3629"
      },
      "execution_count": null,
      "outputs": [
        {
          "output_type": "error",
          "ename": "AttributeError",
          "evalue": "ignored",
          "traceback": [
            "\u001b[0;31m---------------------------------------------------------------------------\u001b[0m",
            "\u001b[0;31mAttributeError\u001b[0m                            Traceback (most recent call last)",
            "\u001b[0;32m<ipython-input-11-a17c4d6940c3>\u001b[0m in \u001b[0;36m<cell line: 1>\u001b[0;34m()\u001b[0m\n\u001b[0;32m----> 1\u001b[0;31m \u001b[0mA\u001b[0m\u001b[0;34m.\u001b[0m\u001b[0mappend\u001b[0m\u001b[0;34m(\u001b[0m\u001b[0;36m4\u001b[0m\u001b[0;34m)\u001b[0m\u001b[0;34m\u001b[0m\u001b[0;34m\u001b[0m\u001b[0m\n\u001b[0m",
            "\u001b[0;31mAttributeError\u001b[0m: 'numpy.ndarray' object has no attribute 'append'"
          ]
        }
      ]
    },
    {
      "cell_type": "markdown",
      "source": [
        "And so why is that.\n",
        "\n",
        "Well generally speaking the size of a list can change but the size of an array is fixed.\n",
        "\n",
        "There are other ways to kind of get items to an array but these actually instantiate a new array \n",
        "\n",
        "if you're more advanced in programming maybe you understand why that might be the case in terms of memory storage and efficiency.\n",
        "\n",
        "In any case let's consider a similar scenario where we can try to add a new item to a list.\n",
        "\n",
        "So another way of doing this is to simply add two lists together."
      ],
      "metadata": {
        "id": "_SpgYZrcEXjo"
      }
    },
    {
      "cell_type": "code",
      "source": [
        "L + [5]"
      ],
      "metadata": {
        "colab": {
          "base_uri": "https://localhost:8080/"
        },
        "id": "rWj8HceZEMEN",
        "outputId": "5d37980e-e46e-4564-aee2-a2aed90d8992"
      },
      "execution_count": null,
      "outputs": [
        {
          "output_type": "execute_result",
          "data": {
            "text/plain": [
              "[1, 2, 3, 4, 5]"
            ]
          },
          "metadata": {},
          "execution_count": 12
        }
      ]
    },
    {
      "cell_type": "code",
      "source": [
        "A + np.array([4])"
      ],
      "metadata": {
        "colab": {
          "base_uri": "https://localhost:8080/"
        },
        "id": "s_F60v-AE1tY",
        "outputId": "e4b54f26-a8b6-49a0-ca4e-b84722a78ed8"
      },
      "execution_count": null,
      "outputs": [
        {
          "output_type": "execute_result",
          "data": {
            "text/plain": [
              "array([5, 6, 7])"
            ]
          },
          "metadata": {},
          "execution_count": 13
        }
      ]
    },
    {
      "cell_type": "markdown",
      "source": [
        "That's \"broadcasting\""
      ],
      "metadata": {
        "id": "6s0dXxJYFG-z"
      }
    },
    {
      "cell_type": "code",
      "source": [
        "A + np.array([4,5,6])"
      ],
      "metadata": {
        "colab": {
          "base_uri": "https://localhost:8080/"
        },
        "id": "embYyXnVE7PA",
        "outputId": "40fb9ddd-cd6c-4118-df9e-d8b344577310"
      },
      "execution_count": null,
      "outputs": [
        {
          "output_type": "execute_result",
          "data": {
            "text/plain": [
              "array([5, 7, 9])"
            ]
          },
          "metadata": {},
          "execution_count": 14
        }
      ]
    },
    {
      "cell_type": "code",
      "source": [
        "A + np.array([4,5])"
      ],
      "metadata": {
        "colab": {
          "base_uri": "https://localhost:8080/",
          "height": 165
        },
        "id": "PQNqXmI_FilE",
        "outputId": "ea7699bb-35db-4849-f4de-e59b21bb73bd"
      },
      "execution_count": null,
      "outputs": [
        {
          "output_type": "error",
          "ename": "ValueError",
          "evalue": "ignored",
          "traceback": [
            "\u001b[0;31m---------------------------------------------------------------------------\u001b[0m",
            "\u001b[0;31mValueError\u001b[0m                                Traceback (most recent call last)",
            "\u001b[0;32m<ipython-input-15-2a83055a136d>\u001b[0m in \u001b[0;36m<cell line: 1>\u001b[0;34m()\u001b[0m\n\u001b[0;32m----> 1\u001b[0;31m \u001b[0mA\u001b[0m \u001b[0;34m+\u001b[0m \u001b[0mnp\u001b[0m\u001b[0;34m.\u001b[0m\u001b[0marray\u001b[0m\u001b[0;34m(\u001b[0m\u001b[0;34m[\u001b[0m\u001b[0;36m4\u001b[0m\u001b[0;34m,\u001b[0m\u001b[0;36m5\u001b[0m\u001b[0;34m]\u001b[0m\u001b[0;34m)\u001b[0m\u001b[0;34m\u001b[0m\u001b[0;34m\u001b[0m\u001b[0m\n\u001b[0m",
            "\u001b[0;31mValueError\u001b[0m: operands could not be broadcast together with shapes (3,) (2,) "
          ]
        }
      ]
    },
    {
      "cell_type": "code",
      "source": [
        "2 * A"
      ],
      "metadata": {
        "colab": {
          "base_uri": "https://localhost:8080/"
        },
        "id": "p0yiVQDBF056",
        "outputId": "d47df27e-a5b2-4113-cdb7-ee93728ef7d4"
      },
      "execution_count": null,
      "outputs": [
        {
          "output_type": "execute_result",
          "data": {
            "text/plain": [
              "array([2, 4, 6])"
            ]
          },
          "metadata": {},
          "execution_count": 16
        }
      ]
    },
    {
      "cell_type": "code",
      "source": [
        "2 * L"
      ],
      "metadata": {
        "colab": {
          "base_uri": "https://localhost:8080/"
        },
        "id": "Ext8tan_J0dE",
        "outputId": "da098b8f-d9b7-4a01-a38e-5f31accac629"
      },
      "execution_count": null,
      "outputs": [
        {
          "output_type": "execute_result",
          "data": {
            "text/plain": [
              "[1, 2, 3, 4, 1, 2, 3, 4]"
            ]
          },
          "metadata": {},
          "execution_count": 18
        }
      ]
    },
    {
      "cell_type": "code",
      "source": [
        "L + L"
      ],
      "metadata": {
        "colab": {
          "base_uri": "https://localhost:8080/"
        },
        "id": "W9mErgr5KJZl",
        "outputId": "89b50ddb-ffad-4997-d033-cca1fb76ea1d"
      },
      "execution_count": null,
      "outputs": [
        {
          "output_type": "execute_result",
          "data": {
            "text/plain": [
              "[1, 2, 3, 4, 1, 2, 3, 4]"
            ]
          },
          "metadata": {},
          "execution_count": 19
        }
      ]
    },
    {
      "cell_type": "code",
      "source": [
        "L2 = []\n",
        "for e in L:\n",
        "  L2.append(e+3)\n",
        "L2"
      ],
      "metadata": {
        "colab": {
          "base_uri": "https://localhost:8080/"
        },
        "id": "4tCePkTGKKUG",
        "outputId": "83bc4146-48af-4ceb-873d-0f90ac222402"
      },
      "execution_count": null,
      "outputs": [
        {
          "output_type": "execute_result",
          "data": {
            "text/plain": [
              "[4, 5, 6, 7]"
            ]
          },
          "metadata": {},
          "execution_count": 20
        }
      ]
    },
    {
      "cell_type": "code",
      "source": [
        "L2 = [e + 3 for e in L]\n",
        "L2"
      ],
      "metadata": {
        "colab": {
          "base_uri": "https://localhost:8080/"
        },
        "id": "PGiDThvvKYAr",
        "outputId": "33039319-d9bc-4b40-8e25-24aaad91d787"
      },
      "execution_count": null,
      "outputs": [
        {
          "output_type": "execute_result",
          "data": {
            "text/plain": [
              "[4, 5, 6, 7]"
            ]
          },
          "metadata": {},
          "execution_count": 21
        }
      ]
    },
    {
      "cell_type": "code",
      "source": [
        "L**2"
      ],
      "metadata": {
        "colab": {
          "base_uri": "https://localhost:8080/",
          "height": 165
        },
        "id": "80rTGU02KdKS",
        "outputId": "7c6004b1-46a2-456e-e472-a95f86d52196"
      },
      "execution_count": null,
      "outputs": [
        {
          "output_type": "error",
          "ename": "TypeError",
          "evalue": "ignored",
          "traceback": [
            "\u001b[0;31m---------------------------------------------------------------------------\u001b[0m",
            "\u001b[0;31mTypeError\u001b[0m                                 Traceback (most recent call last)",
            "\u001b[0;32m<ipython-input-22-99008242ace2>\u001b[0m in \u001b[0;36m<cell line: 1>\u001b[0;34m()\u001b[0m\n\u001b[0;32m----> 1\u001b[0;31m \u001b[0mL\u001b[0m\u001b[0;34m**\u001b[0m\u001b[0;36m2\u001b[0m\u001b[0;34m\u001b[0m\u001b[0;34m\u001b[0m\u001b[0m\n\u001b[0m",
            "\u001b[0;31mTypeError\u001b[0m: unsupported operand type(s) for ** or pow(): 'list' and 'int'"
          ]
        }
      ]
    },
    {
      "cell_type": "code",
      "source": [
        "L2 = []\n",
        "for e in L:\n",
        "  L2.append(e**2)\n",
        "L2"
      ],
      "metadata": {
        "colab": {
          "base_uri": "https://localhost:8080/"
        },
        "id": "c0PchSWLKgzX",
        "outputId": "066afe65-bc80-4ec7-91a5-450d717a671a"
      },
      "execution_count": null,
      "outputs": [
        {
          "output_type": "execute_result",
          "data": {
            "text/plain": [
              "[1, 4, 9, 16]"
            ]
          },
          "metadata": {},
          "execution_count": 23
        }
      ]
    },
    {
      "cell_type": "code",
      "source": [
        "A**2"
      ],
      "metadata": {
        "colab": {
          "base_uri": "https://localhost:8080/"
        },
        "id": "yu8sglgkKvtu",
        "outputId": "b81afba4-4eee-4b01-8c4c-594f2175ee08"
      },
      "execution_count": null,
      "outputs": [
        {
          "output_type": "execute_result",
          "data": {
            "text/plain": [
              "array([1, 4, 9])"
            ]
          },
          "metadata": {},
          "execution_count": 24
        }
      ]
    },
    {
      "cell_type": "code",
      "source": [
        "np.sqrt(A)"
      ],
      "metadata": {
        "colab": {
          "base_uri": "https://localhost:8080/"
        },
        "id": "07T771UUKwte",
        "outputId": "24539b84-f07a-4138-f075-76c594f2f2c8"
      },
      "execution_count": null,
      "outputs": [
        {
          "output_type": "execute_result",
          "data": {
            "text/plain": [
              "array([1.        , 1.41421356, 1.73205081])"
            ]
          },
          "metadata": {},
          "execution_count": 25
        }
      ]
    },
    {
      "cell_type": "code",
      "source": [
        "np.log(A)"
      ],
      "metadata": {
        "colab": {
          "base_uri": "https://localhost:8080/"
        },
        "id": "q8-5VsFYK0Ys",
        "outputId": "477f2795-90a6-4156-a2a2-8eca8799adf5"
      },
      "execution_count": null,
      "outputs": [
        {
          "output_type": "execute_result",
          "data": {
            "text/plain": [
              "array([0.        , 0.69314718, 1.09861229])"
            ]
          },
          "metadata": {},
          "execution_count": 26
        }
      ]
    },
    {
      "cell_type": "code",
      "source": [
        "np.exp(A)"
      ],
      "metadata": {
        "colab": {
          "base_uri": "https://localhost:8080/"
        },
        "id": "p4KUJNAgK2Yg",
        "outputId": "53de5f8c-6b72-4410-e0fb-88a6201d7fd5"
      },
      "execution_count": null,
      "outputs": [
        {
          "output_type": "execute_result",
          "data": {
            "text/plain": [
              "array([ 2.71828183,  7.3890561 , 20.08553692])"
            ]
          },
          "metadata": {},
          "execution_count": 27
        }
      ]
    },
    {
      "cell_type": "code",
      "source": [
        "np.tanh(A)"
      ],
      "metadata": {
        "colab": {
          "base_uri": "https://localhost:8080/"
        },
        "id": "kUS3xPOtK4D3",
        "outputId": "4fd01aac-452d-4e19-b0c2-f66f91f06af9"
      },
      "execution_count": null,
      "outputs": [
        {
          "output_type": "execute_result",
          "data": {
            "text/plain": [
              "array([0.76159416, 0.96402758, 0.99505475])"
            ]
          },
          "metadata": {},
          "execution_count": 28
        }
      ]
    },
    {
      "cell_type": "markdown",
      "source": [
        "## The Dot Product"
      ],
      "metadata": {
        "id": "iT9lmKgULFPO"
      }
    },
    {
      "cell_type": "markdown",
      "source": [
        "$$ a \\cdot b = a^T b = \\sum_{d=1}^D a_d b_d $$"
      ],
      "metadata": {
        "id": "RFeWVRJFMd8g"
      }
    },
    {
      "cell_type": "code",
      "source": [
        "a = np.array([1,2])\n",
        "b = np.array([3,4])"
      ],
      "metadata": {
        "id": "jFKdvpTAK66N"
      },
      "execution_count": null,
      "outputs": []
    },
    {
      "cell_type": "code",
      "source": [
        "dot = 0\n",
        "for e, f in zip(a, b):\n",
        "  dot += e * f\n",
        "dot"
      ],
      "metadata": {
        "colab": {
          "base_uri": "https://localhost:8080/"
        },
        "id": "xS1t3OP8LN2c",
        "outputId": "40ca7e7f-38e9-40e1-8c32-e2d76362eab7"
      },
      "execution_count": null,
      "outputs": [
        {
          "output_type": "execute_result",
          "data": {
            "text/plain": [
              "11"
            ]
          },
          "metadata": {},
          "execution_count": 30
        }
      ]
    },
    {
      "cell_type": "code",
      "source": [
        "dot = 0\n",
        "for i in range(len(a)):\n",
        "  dot += a[i] * b[i]\n",
        "dot"
      ],
      "metadata": {
        "colab": {
          "base_uri": "https://localhost:8080/"
        },
        "id": "sJDi69ouLVqQ",
        "outputId": "e5a2ce45-614c-4e0b-cd06-3cd92f2ef583"
      },
      "execution_count": null,
      "outputs": [
        {
          "output_type": "execute_result",
          "data": {
            "text/plain": [
              "11"
            ]
          },
          "metadata": {},
          "execution_count": 33
        }
      ]
    },
    {
      "cell_type": "code",
      "source": [
        "a * b"
      ],
      "metadata": {
        "colab": {
          "base_uri": "https://localhost:8080/"
        },
        "id": "XRk6twafLkzC",
        "outputId": "66014ce9-2789-4e35-cf2d-1417c26b1368"
      },
      "execution_count": null,
      "outputs": [
        {
          "output_type": "execute_result",
          "data": {
            "text/plain": [
              "array([3, 8])"
            ]
          },
          "metadata": {},
          "execution_count": 34
        }
      ]
    },
    {
      "cell_type": "code",
      "source": [
        "np.sum(a * b)"
      ],
      "metadata": {
        "colab": {
          "base_uri": "https://localhost:8080/"
        },
        "id": "LmyfsOfuLy4U",
        "outputId": "0345564d-03a3-42cb-cc92-1c8a0ceaf6cf"
      },
      "execution_count": null,
      "outputs": [
        {
          "output_type": "execute_result",
          "data": {
            "text/plain": [
              "11"
            ]
          },
          "metadata": {},
          "execution_count": 35
        }
      ]
    },
    {
      "cell_type": "code",
      "source": [
        "(a * b).sum()"
      ],
      "metadata": {
        "colab": {
          "base_uri": "https://localhost:8080/"
        },
        "id": "5-1Sk5RJL3qj",
        "outputId": "ba18d2a1-1181-4a44-9184-42da4034e5e5"
      },
      "execution_count": null,
      "outputs": [
        {
          "output_type": "execute_result",
          "data": {
            "text/plain": [
              "11"
            ]
          },
          "metadata": {},
          "execution_count": 37
        }
      ]
    },
    {
      "cell_type": "code",
      "source": [
        "np.dot(a, b)"
      ],
      "metadata": {
        "colab": {
          "base_uri": "https://localhost:8080/"
        },
        "id": "CG2SuUSNL5nV",
        "outputId": "9d287b90-59aa-438f-a3ff-3dc0221c9423"
      },
      "execution_count": null,
      "outputs": [
        {
          "output_type": "execute_result",
          "data": {
            "text/plain": [
              "11"
            ]
          },
          "metadata": {},
          "execution_count": 38
        }
      ]
    },
    {
      "cell_type": "code",
      "source": [
        "a.dot(b)"
      ],
      "metadata": {
        "colab": {
          "base_uri": "https://localhost:8080/"
        },
        "id": "VbhFp30SMDjP",
        "outputId": "6e05b036-f440-43b5-8c24-c72e86fd4514"
      },
      "execution_count": null,
      "outputs": [
        {
          "output_type": "execute_result",
          "data": {
            "text/plain": [
              "11"
            ]
          },
          "metadata": {},
          "execution_count": 39
        }
      ]
    },
    {
      "cell_type": "code",
      "source": [
        "a @ b # newer version of numpy"
      ],
      "metadata": {
        "colab": {
          "base_uri": "https://localhost:8080/"
        },
        "id": "VJ4GO9gnMGJ0",
        "outputId": "74b25cdc-2f9b-4db0-e0bb-ac051d1d2997"
      },
      "execution_count": null,
      "outputs": [
        {
          "output_type": "execute_result",
          "data": {
            "text/plain": [
              "11"
            ]
          },
          "metadata": {},
          "execution_count": 40
        }
      ]
    },
    {
      "cell_type": "markdown",
      "source": [
        "$$ a^T b = \\left\\lVert a \\right\\rVert \\left\\lVert b \\right\\rVert \\cos \\theta_{ab}$$\n",
        "\n",
        "$$ \\cos \\theta_{ab} = \\frac{a^T b}{\\left\\lVert a \\right\\rVert \\left\\lVert b \\right\\rVert} $$"
      ],
      "metadata": {
        "id": "gcN_9ZsoMkRM"
      }
    },
    {
      "cell_type": "markdown",
      "source": [
        "$$ \\left\\lVert a \\right\\rVert = \\sqrt{\\sum_{d=1}^D a_d^2 } $$"
      ],
      "metadata": {
        "id": "D-ln7BikMm2q"
      }
    },
    {
      "cell_type": "code",
      "source": [
        "amag = np.sqrt((a * a).sum())\n",
        "amag"
      ],
      "metadata": {
        "colab": {
          "base_uri": "https://localhost:8080/"
        },
        "id": "e4FsqT8ZMQPf",
        "outputId": "dd539709-3309-4951-9a5b-e34b8ef08029"
      },
      "execution_count": null,
      "outputs": [
        {
          "output_type": "execute_result",
          "data": {
            "text/plain": [
              "2.23606797749979"
            ]
          },
          "metadata": {},
          "execution_count": 41
        }
      ]
    },
    {
      "cell_type": "code",
      "source": [
        "np.linalg.norm(a)"
      ],
      "metadata": {
        "colab": {
          "base_uri": "https://localhost:8080/"
        },
        "id": "Zxk4jlv9MkwO",
        "outputId": "c253ace6-7a57-4b32-9d0d-245f04a48f84"
      },
      "execution_count": null,
      "outputs": [
        {
          "output_type": "execute_result",
          "data": {
            "text/plain": [
              "2.23606797749979"
            ]
          },
          "metadata": {},
          "execution_count": 42
        }
      ]
    },
    {
      "cell_type": "code",
      "source": [
        "cosangle = a.dot(b) / (np.linalg.norm(a) * np.linalg.norm(b))\n",
        "cosangle"
      ],
      "metadata": {
        "colab": {
          "base_uri": "https://localhost:8080/"
        },
        "id": "WfMD9un5NCPd",
        "outputId": "1e9aa5b1-a9b4-4446-db7e-0fe79b1315a9"
      },
      "execution_count": null,
      "outputs": [
        {
          "output_type": "execute_result",
          "data": {
            "text/plain": [
              "0.9838699100999074"
            ]
          },
          "metadata": {},
          "execution_count": 43
        }
      ]
    },
    {
      "cell_type": "code",
      "source": [
        "angle = np.arccos(cosangle) \n",
        "# You might want to double check this but I'm pretty sure this is in radians and not degrees.\n",
        "angle"
      ],
      "metadata": {
        "colab": {
          "base_uri": "https://localhost:8080/"
        },
        "id": "YZfBv_xGNTBP",
        "outputId": "3b7f8d23-a8c3-4689-9a56-37fc5651c2c2"
      },
      "execution_count": null,
      "outputs": [
        {
          "output_type": "execute_result",
          "data": {
            "text/plain": [
              "0.17985349979247847"
            ]
          },
          "metadata": {},
          "execution_count": 44
        }
      ]
    },
    {
      "cell_type": "markdown",
      "source": [
        "## Speed Test"
      ],
      "metadata": {
        "id": "e-afPReTNm1e"
      }
    },
    {
      "cell_type": "code",
      "source": [
        "## speed comparison ##\n",
        "from datetime import datetime\n",
        "\n",
        "# note: you can also use %timeit\n",
        "\n",
        "a = np.random.randn(100)\n",
        "b = np.random.randn(100)\n",
        "T = 100000\n",
        "\n",
        "def slow_dot_product(a, b):\n",
        "  result = 0\n",
        "  for e, f in zip(a, b):\n",
        "    result += e*f\n",
        "  return result\n",
        "\n",
        "t0 = datetime.now()\n",
        "for t in range(T):\n",
        "  slow_dot_product(a, b)\n",
        "dt1 = datetime.now() - t0\n",
        "\n",
        "t0 = datetime.now()\n",
        "for t in range(T):\n",
        "  a.dot(b)\n",
        "dt2 = datetime.now() - t0\n",
        "\n",
        "print(\"dt1 / dt2:\", dt1.total_seconds() / dt2.total_seconds())\n"
      ],
      "metadata": {
        "colab": {
          "base_uri": "https://localhost:8080/"
        },
        "id": "MebuSWbDNX4u",
        "outputId": "be1c41ca-192b-4e68-bb85-152e810a5e59"
      },
      "execution_count": null,
      "outputs": [
        {
          "output_type": "stream",
          "name": "stdout",
          "text": [
            "dt1 / dt2: 48.87237630022689\n"
          ]
        }
      ]
    },
    {
      "cell_type": "markdown",
      "source": [
        "## Matrices"
      ],
      "metadata": {
        "id": "u3zrkNMTP9dF"
      }
    },
    {
      "cell_type": "markdown",
      "source": [
        "First let's start with the fact that there is an actual object in numpy called Matrix. \n",
        "But this is not recommended to use basically a matrix by definition must be two dimensional whereas \n",
        "a numpy array can be any dimensional whether that's 1 2 3 or more.\n",
        "\n",
        "So if you ever see a matrix out in the wild you should probably convert it to an array first before you do any processing.\n",
        "\n",
        "One exception to that is sparse matrices in scipy but that's a story for another day."
      ],
      "metadata": {
        "id": "-Lwaas5hQru0"
      }
    },
    {
      "cell_type": "code",
      "source": [
        "L = [[1,2], [3,4]]\n",
        "L"
      ],
      "metadata": {
        "colab": {
          "base_uri": "https://localhost:8080/"
        },
        "id": "6sBgrT78PYX7",
        "outputId": "f3042087-009c-4799-90bf-d590aeffae9f"
      },
      "execution_count": null,
      "outputs": [
        {
          "output_type": "execute_result",
          "data": {
            "text/plain": [
              "[[1, 2], [3, 4]]"
            ]
          },
          "metadata": {},
          "execution_count": 55
        }
      ]
    },
    {
      "cell_type": "code",
      "source": [
        "L[0]"
      ],
      "metadata": {
        "colab": {
          "base_uri": "https://localhost:8080/"
        },
        "id": "nmh3QakhRU_3",
        "outputId": "ab70cb55-2b61-4aab-aca4-ca6b4bc0cb7f"
      },
      "execution_count": null,
      "outputs": [
        {
          "output_type": "execute_result",
          "data": {
            "text/plain": [
              "[1, 2]"
            ]
          },
          "metadata": {},
          "execution_count": 56
        }
      ]
    },
    {
      "cell_type": "code",
      "source": [
        "L[0][1]"
      ],
      "metadata": {
        "colab": {
          "base_uri": "https://localhost:8080/"
        },
        "id": "QgQXJkZbRX8e",
        "outputId": "8535b4f2-adb9-48c8-d93b-1f76dfde03e1"
      },
      "execution_count": null,
      "outputs": [
        {
          "output_type": "execute_result",
          "data": {
            "text/plain": [
              "2"
            ]
          },
          "metadata": {},
          "execution_count": 57
        }
      ]
    },
    {
      "cell_type": "code",
      "source": [
        "A = np.array([[1,2],[3,4]])\n",
        "A"
      ],
      "metadata": {
        "colab": {
          "base_uri": "https://localhost:8080/"
        },
        "id": "2IiLWGQvRcy8",
        "outputId": "79a9fce2-d41b-4d27-c9ea-71715b86adba"
      },
      "execution_count": null,
      "outputs": [
        {
          "output_type": "execute_result",
          "data": {
            "text/plain": [
              "array([[1, 2],\n",
              "       [3, 4]])"
            ]
          },
          "metadata": {},
          "execution_count": 58
        }
      ]
    },
    {
      "cell_type": "code",
      "source": [
        "A[0][1]"
      ],
      "metadata": {
        "colab": {
          "base_uri": "https://localhost:8080/"
        },
        "id": "--eFBeu9Rphc",
        "outputId": "a2877535-2a0d-4e22-8838-7402e593a315"
      },
      "execution_count": null,
      "outputs": [
        {
          "output_type": "execute_result",
          "data": {
            "text/plain": [
              "2"
            ]
          },
          "metadata": {},
          "execution_count": 59
        }
      ]
    },
    {
      "cell_type": "code",
      "source": [
        "A[0, 1]"
      ],
      "metadata": {
        "colab": {
          "base_uri": "https://localhost:8080/"
        },
        "id": "8zkz1KJ4RseM",
        "outputId": "3c0bc611-c6f1-4571-d74a-49cecd0f7616"
      },
      "execution_count": null,
      "outputs": [
        {
          "output_type": "execute_result",
          "data": {
            "text/plain": [
              "2"
            ]
          },
          "metadata": {},
          "execution_count": 60
        }
      ]
    },
    {
      "cell_type": "code",
      "source": [
        "A[:, 0]"
      ],
      "metadata": {
        "colab": {
          "base_uri": "https://localhost:8080/"
        },
        "id": "W_zmImRuRt8k",
        "outputId": "e14cdb1c-ad37-4eea-8f95-fd20db42edeb"
      },
      "execution_count": null,
      "outputs": [
        {
          "output_type": "execute_result",
          "data": {
            "text/plain": [
              "array([1, 3])"
            ]
          },
          "metadata": {},
          "execution_count": 61
        }
      ]
    },
    {
      "cell_type": "code",
      "source": [
        "A.T"
      ],
      "metadata": {
        "colab": {
          "base_uri": "https://localhost:8080/"
        },
        "id": "T-dzQkONRyIY",
        "outputId": "46f28a52-2241-4d8a-8556-0d0175cde417"
      },
      "execution_count": null,
      "outputs": [
        {
          "output_type": "execute_result",
          "data": {
            "text/plain": [
              "array([[1, 3],\n",
              "       [2, 4]])"
            ]
          },
          "metadata": {},
          "execution_count": 62
        }
      ]
    },
    {
      "cell_type": "code",
      "source": [
        "np.exp(A)"
      ],
      "metadata": {
        "colab": {
          "base_uri": "https://localhost:8080/"
        },
        "id": "lImXpZGrR2US",
        "outputId": "75be752b-f2c7-459a-9910-7a126ae12590"
      },
      "execution_count": null,
      "outputs": [
        {
          "output_type": "execute_result",
          "data": {
            "text/plain": [
              "array([[ 2.71828183,  7.3890561 ],\n",
              "       [20.08553692, 54.59815003]])"
            ]
          },
          "metadata": {},
          "execution_count": 63
        }
      ]
    },
    {
      "cell_type": "code",
      "source": [
        "np.exp(L)"
      ],
      "metadata": {
        "colab": {
          "base_uri": "https://localhost:8080/"
        },
        "id": "5UcDrgj_R7Ft",
        "outputId": "ee9a00e1-e4b0-4e86-f037-13fa0488daf5"
      },
      "execution_count": null,
      "outputs": [
        {
          "output_type": "execute_result",
          "data": {
            "text/plain": [
              "array([[ 2.71828183,  7.3890561 ],\n",
              "       [20.08553692, 54.59815003]])"
            ]
          },
          "metadata": {},
          "execution_count": 64
        }
      ]
    },
    {
      "cell_type": "markdown",
      "source": [
        "So what's interesting about this is numpy already knows what your list represents and treats it as if it were a numpy array.\n",
        "\n",
        "In addition the thing you get back is an actual numpy array and you'll find that things work like this all throughout the numpy staff.\n",
        "\n",
        "So for example if I want to pass in some data into a scikitlearn or matplotlib it's OK to just pass in a list. There's no need to convert it into a numpy array first."
      ],
      "metadata": {
        "id": "YKfed_k-Ty-j"
      }
    },
    {
      "cell_type": "code",
      "source": [
        "B = np.array([[1,2,3], [4,5,6]])\n",
        "B"
      ],
      "metadata": {
        "colab": {
          "base_uri": "https://localhost:8080/"
        },
        "id": "X-c29po4R9SC",
        "outputId": "85c3aea5-a2c8-43e6-c903-98aec304a472"
      },
      "execution_count": null,
      "outputs": [
        {
          "output_type": "execute_result",
          "data": {
            "text/plain": [
              "array([[1, 2, 3],\n",
              "       [4, 5, 6]])"
            ]
          },
          "metadata": {},
          "execution_count": 67
        }
      ]
    },
    {
      "cell_type": "code",
      "source": [
        "A.dot(B)"
      ],
      "metadata": {
        "colab": {
          "base_uri": "https://localhost:8080/"
        },
        "id": "psnH5Y_kSDQz",
        "outputId": "af02ce9f-7f82-47af-879a-8327055540c3"
      },
      "execution_count": null,
      "outputs": [
        {
          "output_type": "execute_result",
          "data": {
            "text/plain": [
              "array([[ 9, 12, 15],\n",
              "       [19, 26, 33]])"
            ]
          },
          "metadata": {},
          "execution_count": 68
        }
      ]
    },
    {
      "cell_type": "markdown",
      "source": [
        "Now you might wonder why is it a dot B not a star B as you may recall the star does elementwise multiplication which is not the same as matrix multiplication.\n",
        "\n",
        "And as we mentioned earlier matrix multiplication is a generalization of the dot product.\n",
        "\n",
        "Hence it makes perfect sense for matrix multiplication to be performed by the DOT function. \n",
        "\n",
        "I usually like to emphasize the rule that in matrix multiplication the inner dimensions must match."
      ],
      "metadata": {
        "id": "RH8VBFDgUt12"
      }
    },
    {
      "cell_type": "code",
      "source": [
        "# error! inner dimensions must match\n",
        "A.dot(B.T)"
      ],
      "metadata": {
        "colab": {
          "base_uri": "https://localhost:8080/",
          "height": 183
        },
        "id": "k_LBStHVUih1",
        "outputId": "670b999b-c807-4706-a39a-4cee1c80377c"
      },
      "execution_count": null,
      "outputs": [
        {
          "output_type": "error",
          "ename": "ValueError",
          "evalue": "ignored",
          "traceback": [
            "\u001b[0;31m---------------------------------------------------------------------------\u001b[0m",
            "\u001b[0;31mValueError\u001b[0m                                Traceback (most recent call last)",
            "\u001b[0;32m<ipython-input-69-33688f1b9b55>\u001b[0m in \u001b[0;36m<cell line: 2>\u001b[0;34m()\u001b[0m\n\u001b[1;32m      1\u001b[0m \u001b[0;31m# error! inner dimensions must match\u001b[0m\u001b[0;34m\u001b[0m\u001b[0;34m\u001b[0m\u001b[0m\n\u001b[0;32m----> 2\u001b[0;31m \u001b[0mA\u001b[0m\u001b[0;34m.\u001b[0m\u001b[0mdot\u001b[0m\u001b[0;34m(\u001b[0m\u001b[0mB\u001b[0m\u001b[0;34m.\u001b[0m\u001b[0mT\u001b[0m\u001b[0;34m)\u001b[0m\u001b[0;34m\u001b[0m\u001b[0;34m\u001b[0m\u001b[0m\n\u001b[0m",
            "\u001b[0;31mValueError\u001b[0m: shapes (2,2) and (3,2) not aligned: 2 (dim 1) != 3 (dim 0)"
          ]
        }
      ]
    },
    {
      "cell_type": "code",
      "source": [
        "np.linalg.det(A)"
      ],
      "metadata": {
        "colab": {
          "base_uri": "https://localhost:8080/"
        },
        "id": "g6bZg-0sVQFO",
        "outputId": "d1848ae8-6bbf-4102-dd45-d597a4bbd91e"
      },
      "execution_count": null,
      "outputs": [
        {
          "output_type": "execute_result",
          "data": {
            "text/plain": [
              "-2.0000000000000004"
            ]
          },
          "metadata": {},
          "execution_count": 70
        }
      ]
    },
    {
      "cell_type": "code",
      "source": [
        "np.linalg.inv(A)"
      ],
      "metadata": {
        "colab": {
          "base_uri": "https://localhost:8080/"
        },
        "id": "3FyZnNekVd5w",
        "outputId": "b29592c6-f2ae-45f8-a95e-f01c5213611a"
      },
      "execution_count": null,
      "outputs": [
        {
          "output_type": "execute_result",
          "data": {
            "text/plain": [
              "array([[-2. ,  1. ],\n",
              "       [ 1.5, -0.5]])"
            ]
          },
          "metadata": {},
          "execution_count": 71
        }
      ]
    },
    {
      "cell_type": "code",
      "source": [
        "np.linalg.inv(A).dot(A)"
      ],
      "metadata": {
        "colab": {
          "base_uri": "https://localhost:8080/"
        },
        "id": "vWdCC5RtVg0Q",
        "outputId": "82a4db1d-03ab-47c5-8010-2cea101a84fb"
      },
      "execution_count": null,
      "outputs": [
        {
          "output_type": "execute_result",
          "data": {
            "text/plain": [
              "array([[1.00000000e+00, 0.00000000e+00],\n",
              "       [1.11022302e-16, 1.00000000e+00]])"
            ]
          },
          "metadata": {},
          "execution_count": 72
        }
      ]
    },
    {
      "cell_type": "code",
      "source": [
        "A.dot(np.linalg.inv(A))"
      ],
      "metadata": {
        "colab": {
          "base_uri": "https://localhost:8080/"
        },
        "id": "_W3yZ60HVl-f",
        "outputId": "3cebb823-b248-4121-9d82-37f0c723ec97"
      },
      "execution_count": null,
      "outputs": [
        {
          "output_type": "execute_result",
          "data": {
            "text/plain": [
              "array([[1.0000000e+00, 0.0000000e+00],\n",
              "       [8.8817842e-16, 1.0000000e+00]])"
            ]
          },
          "metadata": {},
          "execution_count": 73
        }
      ]
    },
    {
      "cell_type": "markdown",
      "source": [
        "Well we get this because inverting a matrix is an inaccurate operation in a computer.\n",
        "\n",
        "The algorithms that we use to actually compute these operations are not exact.\n",
        "\n",
        "So always be careful when you're using the matrix inverse and think about whether you actually need\n",
        "to do it or if your equation can be simplified also recall it."
      ],
      "metadata": {
        "id": "moqRmNuDV2IO"
      }
    },
    {
      "cell_type": "code",
      "source": [
        "np.trace(A)"
      ],
      "metadata": {
        "colab": {
          "base_uri": "https://localhost:8080/"
        },
        "id": "oIUNrvItVreS",
        "outputId": "7dad4f0c-9181-4d23-9464-99c1a36dfa58"
      },
      "execution_count": null,
      "outputs": [
        {
          "output_type": "execute_result",
          "data": {
            "text/plain": [
              "5"
            ]
          },
          "metadata": {},
          "execution_count": 74
        }
      ]
    },
    {
      "cell_type": "code",
      "source": [
        "np.diag(A)"
      ],
      "metadata": {
        "colab": {
          "base_uri": "https://localhost:8080/"
        },
        "id": "B1ZO8xOhWD9-",
        "outputId": "89f45d69-ee7a-45ff-a01e-4475079e7431"
      },
      "execution_count": null,
      "outputs": [
        {
          "output_type": "execute_result",
          "data": {
            "text/plain": [
              "array([1, 4])"
            ]
          },
          "metadata": {},
          "execution_count": 75
        }
      ]
    },
    {
      "cell_type": "code",
      "source": [
        "np.diag([1,4])"
      ],
      "metadata": {
        "colab": {
          "base_uri": "https://localhost:8080/"
        },
        "id": "VIaHenLmWczu",
        "outputId": "5dc75165-f525-4404-93ab-399db3fdfd18"
      },
      "execution_count": null,
      "outputs": [
        {
          "output_type": "execute_result",
          "data": {
            "text/plain": [
              "array([[1, 0],\n",
              "       [0, 4]])"
            ]
          },
          "metadata": {},
          "execution_count": 76
        }
      ]
    },
    {
      "cell_type": "markdown",
      "source": [
        "This is by the way called a diagonal matrix.\n",
        "\n",
        "So just keep in mind that this function is overloaded.\n",
        "\n",
        "If you put in a matrix you get a vector."
      ],
      "metadata": {
        "id": "BVXPlBzZWmp6"
      }
    },
    {
      "cell_type": "code",
      "source": [
        "np.linalg.eig(A)"
      ],
      "metadata": {
        "colab": {
          "base_uri": "https://localhost:8080/"
        },
        "id": "3Uzi-qe2Wme_",
        "outputId": "301b487c-2ba2-4a42-bcb8-8440361811e4"
      },
      "execution_count": null,
      "outputs": [
        {
          "output_type": "execute_result",
          "data": {
            "text/plain": [
              "(array([-0.37228132,  5.37228132]),\n",
              " array([[-0.82456484, -0.41597356],\n",
              "        [ 0.56576746, -0.90937671]]))"
            ]
          },
          "metadata": {},
          "execution_count": 77
        }
      ]
    },
    {
      "cell_type": "markdown",
      "source": [
        "Basically the first return value is an array containing all the eigenvalues and the second return value is an array containing all the ion vectors organized into a matrix."
      ],
      "metadata": {
        "id": "gHijuEPOWzVd"
      }
    },
    {
      "cell_type": "code",
      "source": [
        "Lam, V = np.linalg.eig(A)"
      ],
      "metadata": {
        "id": "GvJBqPiLWg3K"
      },
      "execution_count": null,
      "outputs": []
    },
    {
      "cell_type": "code",
      "source": [
        "Lam"
      ],
      "metadata": {
        "colab": {
          "base_uri": "https://localhost:8080/"
        },
        "id": "zSW5UxIVYvva",
        "outputId": "53bc0d71-c595-49e0-c7e4-c499cb96fca7"
      },
      "execution_count": null,
      "outputs": [
        {
          "output_type": "execute_result",
          "data": {
            "text/plain": [
              "array([-0.37228132,  5.37228132])"
            ]
          },
          "metadata": {},
          "execution_count": 82
        }
      ]
    },
    {
      "cell_type": "code",
      "source": [
        "V"
      ],
      "metadata": {
        "colab": {
          "base_uri": "https://localhost:8080/"
        },
        "id": "_o-yUj57Yxxh",
        "outputId": "d07dd51d-511b-4660-e1d8-63855d517770"
      },
      "execution_count": null,
      "outputs": [
        {
          "output_type": "execute_result",
          "data": {
            "text/plain": [
              "array([[-0.82456484, -0.41597356],\n",
              "       [ 0.56576746, -0.90937671]])"
            ]
          },
          "metadata": {},
          "execution_count": 83
        }
      ]
    },
    {
      "cell_type": "markdown",
      "source": [
        "Now by convention eigen vectors are stored as column vectors inside V."
      ],
      "metadata": {
        "id": "mTz0kXfMXA37"
      }
    },
    {
      "cell_type": "code",
      "source": [
        "V[:, 0] * Lam[0] == A @ V[:, 0]"
      ],
      "metadata": {
        "colab": {
          "base_uri": "https://localhost:8080/"
        },
        "id": "k3R6DH5BW9Fo",
        "outputId": "178e0fed-49cf-4d1b-d9d7-526d3c255686"
      },
      "execution_count": null,
      "outputs": [
        {
          "output_type": "execute_result",
          "data": {
            "text/plain": [
              "array([ True, False])"
            ]
          },
          "metadata": {},
          "execution_count": 79
        }
      ]
    },
    {
      "cell_type": "markdown",
      "source": [
        "So interestingly we get back in array containing 1 true and 1 false. This might be surprising to you since equals equals just returns a true or false.\n",
        "\n",
        "But in fact like many numpy operators this too operates element wise both the left hand side and right hand side return a vector of size 2 and therefore we're comparing two vectors of size 2 with the equals equals."
      ],
      "metadata": {
        "id": "jvL0B4YdXcub"
      }
    },
    {
      "cell_type": "code",
      "source": [
        "V[:, 0] * Lam[0], A @ V[:, 0]"
      ],
      "metadata": {
        "colab": {
          "base_uri": "https://localhost:8080/"
        },
        "id": "-ueBLxOVXU7B",
        "outputId": "4d8f2baf-5aa7-4434-bda0-e566096e2a98"
      },
      "execution_count": null,
      "outputs": [
        {
          "output_type": "execute_result",
          "data": {
            "text/plain": [
              "(array([ 0.30697009, -0.21062466]), array([ 0.30697009, -0.21062466]))"
            ]
          },
          "metadata": {},
          "execution_count": 80
        }
      ]
    },
    {
      "cell_type": "markdown",
      "source": [
        "Interestingly the values do look like they are the same. And yet numpy thinks they are not equal.\n",
        "\n",
        "Of course this is due to a numerical position since computers don't have an infinite amount of memory.\n",
        "\n",
        "They can't have an infinite amount of precision and therefore numbers have to be rounded off at some point.\n",
        "\n",
        "That's why you'll see terms like 32 bit or 64 bit which tells you how much space each floating point\n",
        "number takes off.\n",
        "\n",
        "So in numpy the correct way to compare whether to arrays are equal is to use the numpy all close function"
      ],
      "metadata": {
        "id": "kmgfc8DRX2pm"
      }
    },
    {
      "cell_type": "code",
      "source": [
        "np.allclose(V[:, 0] * Lam[0], A @ V[:, 0])"
      ],
      "metadata": {
        "colab": {
          "base_uri": "https://localhost:8080/"
        },
        "id": "kI1EkuNYXsTl",
        "outputId": "0c17b7e2-dff7-4a25-ebad-74bbcfb773de"
      },
      "execution_count": null,
      "outputs": [
        {
          "output_type": "execute_result",
          "data": {
            "text/plain": [
              "True"
            ]
          },
          "metadata": {},
          "execution_count": 81
        }
      ]
    },
    {
      "cell_type": "code",
      "source": [
        "np.allclose(V @ np.diag(Lam), A @ V)"
      ],
      "metadata": {
        "colab": {
          "base_uri": "https://localhost:8080/"
        },
        "id": "FqvDVFatYWG5",
        "outputId": "a0d4ad03-bad8-494a-d338-11be9881eb53"
      },
      "execution_count": null,
      "outputs": [
        {
          "output_type": "execute_result",
          "data": {
            "text/plain": [
              "True"
            ]
          },
          "metadata": {},
          "execution_count": 84
        }
      ]
    },
    {
      "cell_type": "markdown",
      "source": [
        "if you know that your matrix is symmetric then you can use the function and beat up the linalg.eigh which is better for that scenario.\n",
        "\n",
        "The h here stands for Hermitian  (conjugate symmetric) which is the complex analogue of the matrix transpose.\n",
        "\n",
        "It does both a transpose and takes the complex conjugate of the elements.\n",
        "\n",
        "So just so you're aware numpy does handle complex numbers.\n",
        "\n",
        "If you're doing signal processing or quantum mechanics or something like that. \n",
        "\n",
        "In practice usually you'll use eigen decomposition on a symmetric matrix like the covariance.\n",
        "\n",
        "So when that's the case you should use eigh instead which has the same API."
      ],
      "metadata": {
        "id": "8NJ83YLEZbs2"
      }
    },
    {
      "cell_type": "markdown",
      "source": [
        "## Solving Linear Systems"
      ],
      "metadata": {
        "id": "kEjZ6Z8cabbp"
      }
    },
    {
      "cell_type": "markdown",
      "source": [
        "![image.png](data:image/png;base64,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)"
      ],
      "metadata": {
        "id": "nglTlhTBakt8"
      }
    },
    {
      "cell_type": "markdown",
      "source": [
        "![image.png](data:image/png;base64,iVBORw0KGgoAAAANSUhEUgAAA2cAAAGzCAYAAACre291AAAAAXNSR0IArs4c6QAAAARnQU1BAACxjwv8YQUAAAAJcEhZcwAADsMAAA7DAcdvqGQAAP+lSURBVHhe7J0FgF3F1YDPuls27k7cEyBAggenSIFCcS/WYm2hhdIWaIHS9qe00OLubsUpFjRAAiRoiLtv1vf+55v7Zvdls75vN7vJ+WDy3t43d+7omXPGblygiGEYhmEYhmEYhrFFiY98GoZhGIZhGIZhGFsQM84MwzAMwzAMwzDaAGacGYZhGIZhGIZhtAHMODMMwzAMwzAMw2gDmHFmGIZhGIZhGIbRBjDjzDAMwzAMwzAMow1gxplhGIZhGIZhGEYbwIwzwzAMwzAMwzCMNoAZZ4ZhGIZhGIZhGG0AM84MwzAMwzAMwzDaAGacGYZhGIZhGIZhtAHMODMMwzAMwzAMw2gDmHFmGIZhGIZhGIbRBjDjzDAMwzAMwzAMow0QFyiR74ZRJ0FQoS4Q/dCao5Z9fLzExemXSqhK0X8bRlsglvXSi8ttoZ63zfZsUsYwDMPYmom5cVZWVq4dZxhkQmKi+2wqZWVYAUHMwjMaDjleodkf6D/xqglVVJRLaVmZVJSXq4GmP+q1hIQESU5K0t/jneHGXfF6TfRvY+sDUVFeXhFRjLUSqGFOHWiLUEWpu0EF8kPjzEBCfNPjStorqOMRcRmn/7m6vpVRQTo137Rj0BRqWrXxx7t8axvmULnGi3L1xIXFoTGNfKmE+FJKoDLMlb/JJcMwDKPtE1PjrKysVDZsKHCzKShtaWlpzVLeSktKpLCoUBUGkdTUVElNSYn8YrQ0TkkrL5Pi4mJZt3adfDX7C5kzZ44sWbpMNhYWS3JKqvTo0UPGjx8rffv2lRQtm0Q11DDW2qrCbjQPDHPqQ0lpqZZxorZJLfM2OmBSVlYmhYUqO1SRJ47JycmSlERcm2ZkkPai4iIpKSl1xgrhJackq+3SNoyWWEF++TLGoEHmJmmbbgsQtyLtDyiDhqPlo/9TXqSFNBmGYRhGWyY2xllQrsp8nMz5/DO55trrJD4pRXr06iPHHnucDBrQV8rVukpg+qVBaHSCUEH43+uvyBNPPysFRaWy9977ycEH7y8ZaqQR4a1LJWpbBFqeRarYfvrJDHnt1dfkheefl1mff66GMkpbmTPcUFBRdjIyM2TIsBEyafvtZejQITJll11kYP9+bqZh0yWPRvuFGbNymT/3e3nu+Rfks5mfS7eevWXa3tNk3NjRqvi2JQMtlB+zv/xc7rv3Plm8dIX07T9Ypk7dVbafOFYNtTiJi29EfN1sWbksWLBAHn/8Cfng408lt0Mn2WGHHWXvvfaQjh1ythJ5VOFmxxctWCgvvfSypvMTyc3rKHvutZemdZKkpSRtuTRGZuVXrlgmTzz+mLzx5ruuv0FOxWu/wn+B/u28utKgPChnNcTik6QiIUl2Ubl06EH7SacOue53wzAMw2izYJw1l4rS4qC8rCx446XngrTEuCAtPT1ISU0N/vWf29zvhUVF7rNBlJcFZWWFwQdvvhD06poXxMfHB3FxiUFGTtfgzgceC8rVS1FpaejXiD0V5UF5cUHw2Yz3gknjRgbxcXFBSkJ8kJ6SHKSlpQWp6jIyMoLMzEz9TA+Sk5ODxKSUIDE1M+jdt39w+z0PBBUVFYEa15EAjfZMhbbH8rLiYMWyJcFVv/+ttsW4ICEhMUhITg/23Oeg4Ktvf1A/5dpmyyJ3bGG0/gYqP9549flg4litv/GJQVJqTrDvQUcGn8/+xskp4ttgKjT9xeuCpx65Oxjcv3eQkJiiac8Idp6ye/C/t9/XdJcHJe1dHpEfWs4rliwIrrzsV0HHvJwgISk1iE9KD6buPi147a3pQZm26bLG5FssqdD8LS8KFnz/RXDWyccEyQkJKpcSXF2sy8XHq7/E9EDSOgbHnnFB8N28RQQWcYZhGIbRNonRGo9wtDI+LnCj6G75YRBIUXGJu964ceVyKS0tk+effUqWLF0jmVmZkpyeLaUl5fLqG+9KsfoIR76r9h0YMSJgj06ZLJ7/g1x71ZXy2aezJCU1WeKSkqRC87xT5y6y5157yznnnCsXXnihnH766TJt2j6y4847y7jxE2W/gw5zMxSqGLnljcbWAXuP1q9b7WbOkhLiJT0jTRKTk2Tt+nWydOVK9RDXho599bJINK5aD1UeJSUmyAfvvSe333WPrFq7PpzRdbMxDSAuXpavWCkzPvpAli9fJmlpqZKUlCJlZSLFjVpe13ZhL115RYUsWbxYvpg5Swo3FklGRqamM1nmz18oc775VqUyMrwxcjzWBK5Mk7X+paUkS0pKqqSlZ0rHTl2kW7fu6rpt4ro711W6qOuo37NysiN7BLd0OgzDMAyjbmJqnLH8p6ykTI2rUGnByGo8LIEU6de3r2SoIhSUa9j6f0pSgvTq3UfoXsP94NbBxpTIHrPSsgr58ovP5blnnkHndge8JCWnySE/Pkpuu+Mueeyxx+Xqq6+Syy+/XP7yl+vl8ccflxeefU6efvIJ+et110i/nl3C8NrNksZAkx4umzJqwBVjoMZ2omRnprulYijyHLSRlpKihlqG89a24FTRchdPZBD7p1asWC7vvvWWzP7me7d8r1zrer1omygvK5ZPP/lAnn7uv7JuY4nby1ZWVqJtpUR/K8dTi1cdgg80Li2GtlWaa5aWb6eOHSRRBXB5WaleCyQnL0fy8zu0AWmr6ddyC7Tc2P9XXl4qAwdtJ7+57Pdy7333y1133Sn33nuvc/fcc4/cc+89cvc9d8vdd98pd99+i5x8wvGS3yEvEpZhGIZhtF1iPOBdXYFoQpcen+RG5w899mQ55ujDJS09VfKyU2SX3feUM085QZgzS4jnOe1F+W9fsLdo9dp1UliiRnJysgRxCTJs9Hj585+vld2m7iIJEaPLK4sJzKSkJUvn/GxJTdq8BrRpMEgrlV4+21XsWwXmxOLiEqVj566y2+57yMihgyUjPUP69u0tU/fcWwb07ad+Ivt72gTR5ajx0vKNDzA0ymTh4kUy49OZUopRVc+Jos4IUANl6ZLF8tKLr8onn81xBkwZI0MRY56wW4XIc/hoiUdySAbF17tvTzni6CNktz2maBmnuJnyvfY5QKbsNFnbPf62oMzl0REXrzIHl5aRJYO3206mTtlZdt99d9l1112d22233fRzN5mq33efupPsM2WSjBvSRzIRUIZhGIbRxom5ceb70JCqbw1HoxSfrAp/rlx73V/lqSeekIceeVxu/c8/pXvHcJQ+aUsqCVs1zCIFUlxSImVBnJTHJUlubr4ccdTR0r1znhQVV70mwS0Nc/B31exT+ygZZn7KZf26NfLdt9/JvPkLZN26ghZRfNs9lDOnE6amye6qqD/6+JPy+BNPyUMPPyYX/vwcyU5PUgM+4q9NENZHcNHSso6rKNVLgcxbsFTj/4x8Musrd6ANs3+1ojcHUi7z5/0gs2Z9zoiQMwgqIveEYbc8GzcWyPz582Xu9z/IihWr1LBsiaWUmpK4BJHEVNlxyu5y0803ydNPPyVPPfmkXPTzs6RTXnarpbcuOOyD7EdGOTlVXCLFRcVSVloipcXFUl5W5l71wKmO5ZHZUecqypx/wzAMw2gPxNg489237wib2CHGMT8WSFpOB5m0w46y8+RJ0qVjluuYmxph36E3Fx9OS4Sn/0SuNo8wXo0Ly/vmXpaB8Tar0iBJUrO7yXZDh7sjw5PcSXfVVbRQbYtzMxFbTn2rzMP6CMpFyotU6V0jLzz7hBx88MFyyGFHybXX3yCr1xZEPDUOfXLl8xsUh0bQqPDUa0vEISzXBElKSZNe/QbI5B0myaihgyQrLZyJaFqpt0x+udhEIuTCd39EZvbKS+Wbzz+TN998U8pUia/t2ezBYqhh7ZrVMv3N1+WTTz4L89ZZBrXf1xB8musNQ+tpEJTKJx9/LD8/+yw54ICD5FeXXiEff/qlXo/EpYm4Z2/2fNqvyt34JOnSrZdMnDhJRo/YTvJzs9yvTSvjGFIZ3aoBwIQ4To3Fbk6QhMQk9x5MZvKZCeRaYkKScwnxiVGDSXUTXT71llEjaW6Yjbm36lmxTYNhGIbR8jTV1ml54hK0c4lz77TBMRpa74QZnVG1DowOinvZB8d+Eb5Hfol8NhzCIgzC8s7tv2lEUJWdposqe1qqwmNJYTgDVT8uCPfgTR/u48heseq/NYTwfowzkTJJUl0tU1JUKWfGDGWoWbj4NoIG+Ce+7CEK0xwe8++v13w/10pUAy+QwrUr5LtvvpaZs2bLo489LzO//NbdUlrecCUKf+w92qROuP1MDbvf+XPP2tR/mK4Kl6awXmzuJxqU9TJ9blU98uHGDoJjSSDGu0uj/l1Xk6wtDi7PNI6bxDVmeNU9nOPVknQDChwKwus8Vq5arQbOLFm4ZEW4TK+mZ3Otoky+/GKWPP7kU7J89XpJTkmRtNRUN2sfh4GGt9B3nZA273x5km7aZyiLag7FyQGt10Ub18uShT/InNmz5fkXX5M3p38sZVrWoaFYRwz4rYbf3eEfkRmlzWVNaKBpkUTiGPqptYxreUZ1Qi/1+2sQvnj9Vxd41MUmUyVHSLtPf1V/0QhqyJOwzteW7x69r9Z7w7gxM8jfdRFdzxoiOwzDMIy2Rds1ziLwQmNGQusb+URBLtOOiM4IUMqcQuQ6w1AxwvlrKD76h/NbH9yDEVbhRrM3DQslKXwmzwv91wV+MchQBPwofGW89HfCYMN7XaCX+bR6v5XPjsQNGhKfzQnjAy7HUSQiykRT99hwF++6c/HVtDcE4hCdvuq4/NIyZ3ki0eJvd12fw6xIuMQJAyKM+yboPXFSLsmJ8ZKekiyJSSlSkZwmxWVhOfi8xdUG/vzSKReXSL6HcSH+kS914J+FUeWfFd6v4amrCreqLmvI7nvoF8/6fyRvvX//GV5T53zHBvYeJWp7ZCa1rhZJ/H0+BloeYSRIh49XmCYuuzTqtYinGBCKNR+/3PyOst2wYZKZlSHFRQXy/vTp8uIrrzpDs2rPoYdTATXuxYXy7ewvZfaXX0kQFy/DRo2UY35yqHTvkq2KL0sL63/ROukjrdTFIFIuYdmE+RB+r2qv0eCnQg3EhIQKSdF6mpSY6N4fWRYkuPpNfnlXHe51zy0vjdSZMC7+WS5sTXZtuc0seBzLHJG5tchdwnHGC/W/hvh7fFwwRms3ShqGq3EB7zQL/w4//ELr2lJTH+RL2Aar8id0vrycvHb5XPcznF+X7+RJxD/57h3NgEuh903AaCY/yygzJ9N8XSEe6ohT5JqrS4TvA3OPCb9UYLxFxZ3LhEH/yKdhGIbR9kn4nRL53nRUiWCma/7cr+Xeex+QuMQkZ8zsvuc02WmHiU5JS0ysX5mpIuxUioqKZP36dVJaWuKMtERVUGqCDnHturVSqP7dszjIgg5SO7qNhUXy7ddz5O133pXv5s5zo85JSUkaXvhSVQy/uqBD5OSy4qJCWbF8mXz00Yfy0ccfy1dffyPffPe9FJeUSUZ6qsYtReNcUWd4dJqMZhZqWAUbCmTZkkXyyYyP3bKpb76dK2vXrnfxIp0Jml8owJtAZ6sfRYUbZcP69W5GEcUxMSHRdcooEQsXzJd3331PVq1eKympqe7o783CqQF8oMij+H0950t59tkXJEENluQgXiZMGiejRwxxSnZ4HHXjQLHZsGG9lkWhy89ErR91HS5Aea7X9BXiX/OMI72jjXOUjjLNR15UvmbNapk3d658/vnnMm/+Qiku1XJXA4YweFacxjchqkz4rVgV7/XrNsjq5cvlxZdfl5Xri6Vrr35y0EH7SWZqvJRouDjCqP5soBxRpHj+cg1j5qefyowZn8gXs7+S776fp+ksltS0NL030eVrTYdlkIaSkhItxw1az0u0vWhdpBxV6ULh3bBhg3zzzdda12a4vUYJ+ptbuuXKGoNL/ysPlTeUcE4j/OSTGfLxx5/IcvVP2l0dUv9EIr6eAzDqR/Nc2wHxKtQ2hdJNPa2pHIkTbbdA/RZrOREB2gVpI09XrlwhM2fNlBmffCqr1qzVX+PC9GlZabTrrBv1owEEZTLvh+/l5ZdelkWLl0l+5+4ycYedJC05XubPmyvrNL+DuCSZNGmC5Odmu3sqy1jjzuskvvh8ptxx253y8czZkpyVLZN33kl2HDdcPn7/PVmxeqP06NnbHULRv19vF2eW01WHtFJHeKH7urVrXT39VNPMHrb5CxZJof7m2rvWE9IeXc9KS4o0rwtk6eKl8snHH8pX386T3E49ZKedJsuQAT1U7hS7l8KXal1xy/k0f0MFXbTu6r0FBZFXmUTyXv2Vl5XI4sWL5eMZM2TBoqVaN5K0nqrsimrTxLlQ5Qt73ZilIV64aPCzcSN+NrpBF2RCjQNoGp9iF5cNTu6xz69x/YAHo6JC1q9dLW//702ZMfNL4RDfzl26y9TddpVBA/s6X/XJ8s0JjSniRnq/+/YbbW8fyayZn6t8/1oWLVriXpdA+w3bUhj3zdLpCNNaoPlOuTDf6Os87XXpkqXaNmfID/MXhfmuspm8ICTaC7KuoGBj+DwNP7yOYV8qa1atlJkztd58/qWs37DRlUei9mH480YYYeC/ROvNgvkL5KMPPpDPv/hS1qxbR4RdHWEGmXuaLwsMwzCMliROBXvYozeDoKzIKTvvvPas7LvvjyQuNV1KVEn+w5+ul4t+/jOnJKSmJEd81w8dEiO7zz3ztNxz7/2SlZUrR/7kaJm2926uA6KTBxRt1aRk0cKFctnlV0iBKl29+vaVSy6+UErVAFq+eIE8/9xz8sAjj8ucr7/VDi1ZevXuK6PGjJYjjvqJTJ28g4adWYvxEmYLStLC+fPlqaeelCefflpmf/W1KperndKL6927j+y6255yxhlnyqD+vSRFO00ODtgU7TjpoFUxeu2NN+VTNcjmz5+niuNi+fbbb7UDLZB4Vbzz8ztJ334D5MeHHy5HHXmo5OTkaNyIh8ZPi4ljvYtLyuWFpx+X+x96XDI6dJIpu+4hRx9xsBSocfrFZ5/I3//vBnnr3fclv2M32W2vveSyyy6Vzh1ywmjUBR18eYkrt+efekyOO/5UqUhM00fHy4GH/lhu/MffJDs1WRWKsINvMBrusmVL5eZ//lO+/OobzftxcvTRR0vvXt21LNkzEh2WppXyXLRY/va362XegsUydsx4OfXUU6WDpgEFhEeXqHH1ww8/yH+fe1ZeffV1VXjmq3Gy2g0KdO3Ke466Ojdw0GAtm91kzKhRmo9EJVBFeYO8/srzctftt8rG9RvlnekfyaqiCunQtY9sr0Zoqirw8WqkcnT8dtsNlXPPO09yszMj8SMMNe7U8FigRvCLLzwnTz39jMxRo2zVqjVq+KuSnpQi3Xv2lF2mTJGTTjxOnz1CUlJSquoYzY0wtE18MH263Hn3fbKxtFzGjJ8gx/zkCEmQUlkw73t54fnn5fEnn5G58xa6+k9cdt1jDzUgD5A+Pbu6mZSNqgiuWb1Ky32GPPHkU/LKa2/IEjXMcnLytB71c++eO/TQQ2XShDGSnpHetGly4itqDGq7m/P5LLn1jrtl4ZJVMmrsBDnyyMOlb69uzgvlGCqKFbJBFcKXX/yvPPrk05KWkS27qQK977S9ZeOGdfLFrM/k4Uce1XbwP1m+cpXkdciX/v0HytQpU11c+/fv4xRXliA2CTXMpKJY3vzf6/Kri34l78/4XHoPHCannXWupAUb5crfXyFrN1bIsJFj5HdXXC77TdvVKcLOuMEw0zQUrF0hd996s1x+5TVquBdKv0HbyVlnny7ds+Lkist/J1//sFbGb7+z/OEPf5A9dt/J1WMM8SrU8FZFffaXX8j/tL3PmfOV1peFMo82v2iRGzBKTU+Xzl27y7hx47WtHyG77LKTpGu6XTXRPHz7zTfk3rvulMUL58uXX86W7+cvlfQO3WToiNHSo0ueJMQx+CAyaMgQOfbon8jgAf1d3jNA8+qrr8gjjz2phluc7LzzznLwQftJekqCzPnyc7n77nvl8Wf+KwkpGVoue8qZZ5wiE8cM1zyjEONk8ZLF8vjjT8jb77wjfVQWHXzQQVp/xofJirBk0QJ59JHH5K3pH8h2Q4a6Ojla6zl1oEqWah3XtvbiC/+Vx558VnLyOskhhx0qu+y8o8vvRpUuZRqUyqJ538qf/niV3HHf41KibW34qHHC2OJ+03Zz5cagT8PBMCtzbWjWzM80zY/Jy6+8Jt+rXKFtakokPT1DevbqJQO3GyL77Luf7L3XHtK5Y75bIrtJn6H5XlFeKq+8/LK22WdlzfoiLc9d5KAD95WcrHT5/uuvNN/vlkf0t1Jt4bvsupecdeYpMmnsCDcTvUGNzie1/b7w6ptOfuy//74yZacdpaK0SL78fKb+9oS8pHFbuXq95HfqIiO17u6///4yZcpO0qNbZ1fuDPatWLZY3tVye+qZZ+S99z6QDWo8d+zUVfpp+9pZ29dBB+4vQ4cMdn1xo/LfMAzDaF20U2s2FaWFgSoFwZsvPRlkJsYFWZmZgSqkwTV/vdH9XlhU7D4bRkVQUrQxKCwsDP7wu98GaggEyRrWGWedr7pTRVBcXBTxFwRl5SVBeXlxMOuzj4KMtOQgLj4+yMzrGKjSFey3165Bj065geokQUJCgoaRHCQmJrjw1KgKMjr1DC79w5+DjRq38vJIgJVUaNilQak+6+3XXgwmjR0ZJOp97l59RnJyskufGoloNEFScmowfPzk4PGn/+vuLt8kwAq9UBxsWL86+Ps1Vwaq9AeJqgcSTpKGowpAkKn5lZaW5q7FaZhZ2Z2C8y/+bVBaVq5hlYWhVJQHpUXrgjWrVwa/v+T8QDtXvT8lGDNpSvDcCy8FZ55yUtAhOyNI1LSmpaUHmVm5wYTJewbzlq5299eL5m1FmeaFluXMD94JJo4cqvFJDJLTcoPuPfsG9z3+QlBUXByUlpa4cmgI+CsrKQnmfv9dcMDeezA9EfTs3Te454HHImVZEvEZgXDLSoKZn34YqKHr8nv4iJHBrC++cvlQuLEgKCosCF554fFg0phhQZJarvihfFWh17xMc+WSmJjoyrhjl67BRb+9IijV4igtKQ/K9HmrVq0MrrvmaiyOAHuC0//jBQvYvZ/BxRGXkJAU7Dxlj2DJ8jUurhUVWg5aBmUlhcEHb78R7Dp5YpCWpOWlfql3vk4k6nPj4vT5iSnBkDGTgkeffj4oKS0Nyn2ead2o0DxUYzq4+z83BzkZGeo/PujTr39w1rk/D/bbd++gU4esIFnbEekgXNKHn8TkjGD46EnBP2+6OXjpxeeCs888JRg9fHDQISdT0xIXJCUlaf1KCusR8dI49B86Nvj37Xe7ulTm49AYNM1Buba50rXB/zTfhw/u58LuP2ho8O877tcwg6CEf/BK/mj5LVu8MLji0os1HhonraMjxowPTjzltGDC+HFBblZGkKD3+7T5uCalpAfjtp8SPPjo05pFFdXaUCOo0DpVtj7436tPB5PHD3fl0WPgqOC6f90ZvPX6y8HOE0dqvqQFGR37BieeeX6waPkqbaH6PI07MqxM6/jXsz4OTj36EFeuGTkdghPOPCf4fsH3weMP/CMY2idLZUF8MGn7qcF/X/yfprcsKCkpjTyc7CrTcEqDb76aHZx+8vFBUkK8S2+CxiMlJTXI0PLGpbi0h+U6etyE4OEnnnHhqFGn7bAouOe2f2s9yHXtXM0+V0fJJ1dH1fl6N3X3PYM33n7X3VdUuDFYv2ZV8Jc//THIycp0Ye+62x7Bgw8+EFz5+0uDAb27BWnJGo9UTX9mVrDb3gcEL78xXeMc1klt/MGc2Z8Hxx97tKtPHTp1Da6+5vpIeeA0fzRtSxbMDS467yxX1zKyOwQ/+/kvgwVLlrs6HtZzdZqfX3/5aXDSMYe7sDp37xNce8PNQZH+RF67etVQKjR/yzcGC7+fGZx78k+C7LTUIFXzcvzEycFTz77o4oRcaijUU9rzutXLg5tvvD4YOWRAkJwQ5m+lfK9sd+G1zNz84IQzzglmfqmySJ9HOUcCc/lWVrQ+uPGvfw56duvs8n3nXXYN7rvn7uDaKy8PRmibyUhFPqiMysgMtp86LXj6pTe0vIuCMpW3yxZ8F5xz2kmaphR370477xyccsrJwU7bT3QyPTlR+wrNa1zYXrQMVS7vd9BhwWNPPBk8+MA9wdFHHBIMGdAnyExPdfEmDUnaxlw9cS452GWP/YKX3nhb5SHpD9usYRiG0faI8foG9IZomj4+x51uA34So6EaTZZl6MXoEMPRyzj30tSc7ExJTU12M2Z//MMf5cWX/ycr1hRIalauDBk6RPbccw+ZMH60dMjNkrT0TCkq2Ci33Hq7vPnep8JqGM2LMFAH+05EViyZL1dffaV89OksSUlNkfTMbOk/aDvZc6+9ZJ9pe8t2gwdrWBmSlJYt33z+idxx111uGReLcDbJC41nqlqJvI9nl8kT3PuDCGenXabIscceJ6edepocdsgh0rdP3zBuZaXy8muvy8rVGypnCUM4FCVO0lKSJUUjnZ2aLosXzJWLL7xAbr/zHiksC2TwkOFy2BHHyCmnnSXnnXu2dMjL3axUakTDVcNQww+k98CBctyxR0tuRqrL75WrNsi//vlPeeeDTzWsOCktK6mWX7URzqSooiM9u3eVuMRU2VCWLJ/M+sItu2M55ibos1VtkKL169y77liempKRKwnUAfXPcrO1a9fIf198ST6aOVvSNX4dcvNk6LDh7jS7o448UvabtpeMHz9BBg0dLpOn7CEHHXCgK0s3qq+OGRJmS7t07uReuMuSJUhKTpT8Th2lS7du0q1HXxkyfKzsvsc09Zvt8o+dLWpky5LFC+SRhx6Qd6d/5PYAZebkSu8+/WTK1F1l332nyahRwyU7N0fU2JDvvv5WbvzXf+TLb+bq/XFuSS0ZSp66OqHpy9bwU9Tv0qUr5aZ//VPT9oqs3VAiuR06ydixY2Xq1KkyeNAgyczIlESN/5wvPpHf/uY3ctxxJ8i/br5VvvjqOykpF+nVp4/ssovWr513kn59ertR/+TkVLeMj6Pvl61aI7yjrmHlVjPJSQnuRdRJiSlSVp4ghSVl4nY8abgODZt8IkvTUxIlR8uHGcg5X3whd95+u8yY8ZkUlVZI5y7dZPy4SW62rK/GOzMzR5ITk+WrObPltbemy8biMi2zpoomn8EuOgppxon07t1Ldtphe8lNVzmxYa289+478vqbb4d5EjAjH0hF2UaZPfNj+eijjyRJ62PXLl1k8qSJ0lXbUVlJidYf3x5JaeRBUahy7VxnrUs7ThovI4cMkh49e8mIUWNl7332k+OPP1FOPP4E2W3XXaVb126u7Dni/4NPvpSNJRXhUjeNS6bmc3etix3zO0pqWrqrgyxrzdb63qVrF+navZv06jdQBg8d4cJBLpDvuLSUJK0vGZKYlClff/2DXHPNtfL3G26SBUtXSbde/WTa/gfJ8af8TI7+6XEybOjgsA3QSPQpiQlxkpGaKBlpKa7+kBaeTR6pkq/hV2i7yZXJ20+U4UOGSnFRqbz99rvy7nsfuGWQtHc3k1RRKnO/+1q+/+5blY/p0l/l0tAhQyI79fR5TShfYkhVi871qu/RV+vGp+ezTz52M4BffTtXklNSJTs7WwYP3k7LZjfZc/c9ZNTw4dKxQ75kah/CUf0vPf+cvPzK61KgaSZfXKWKQN6kaR+RmZGlZZih6Z4v1//1ern+hn/KnLkLpWO3XrL3fgfIT084Tdvu8TJq2BBXZsQbuZSZkaZtVttWSpp8+OFHcsftd8p7H34shaVaB7v1lJ123FH7jh2lT69ekpGZKRXlRfLqiy/IWT/7mZxxxtny0CNPyPfzF7uZN/q7qVOnyKSJ46V7l84arsqO5BSZ/u778vobb8vadRvcKgScYRiG0QbRTqrZVM2cPVFt5uyf7vdGzZxVVASlRQVu5uzPV/7O9aPMnJ18zgX86GazKqkIZ86+mvVx0CmXWSNmnhKD7JzcoP+AgcFOu+wWXPb7K4OPZnwSrF61Ipj3/ezg7NOPD9LT0oKM7PwgPSM7uPh317qgSkv96HdFUF5a7Eain330niAzIS7ITEsO0rPygn0PPiz437vvB+vWrQ/WrFwefDD97eBHBx4QxCdnBPGpHYKBIyYGH8yYFYZRXjWaHgSMFBe5Edcl878LnnzqiWD6hx8HC5csw6sbyS0o2BDc8Z+bgoz01CAxNTsYNmFK8PXcxZH78VOm+bImWLt6VXDNZRe40ejs1NQgLiFJ8yc16Nmrb3DI4UcFL736v6CoBP/M9rjgnWsY3KBlVboumD9vdnDQtN2CpKTkIDUzL0hOywx22fvA4KOZXwYbCouCkpJi94y6cLN9JYXB8qWLg9+cf4abTUrK6xvscfDRwfLV6yOewg8iW6H5U7RxQ/Dsw3cGPTqkqf/kYMJOewbfzlviRqpLCtcE3371aXDgtCku/bl5ecFRx5wQfPDxp8H6DQUuf9evWRF88/XXwcefzgoWLl3pgo+McbtnlGq8v/vmy+CxR+4Prr7it0GX3JwgKTEpGD5qbHDTLbcGTz7zbPD8i69qmJ8Hq9cWRm7TuGl5btywOnj83n8HvTvlBKkJiUFWTodg12kHBi+8/HqwdNnyoGD9muCj998Kjjjs4ECN9iA5Iy/o0WtA8Nd/3RqUlVdouWhMmBHS+sXM2YO33xJ06ZAXJDBDmZKu6dE6NHhosO9+Bwf/d8O/gtlfzgmWLVkUvPjMk8FeU3cOkrUsEhK1zOOT3Ah8n379gkk77hice8FFwXMvvRIsXLQwWLZ4QfDkow8GU3fawdWLlIycYPvJU4MZs76sTEujYIajbGMQlKwO3n3p8WDCiIFq6sQFvfptF1x3053BRg2uiAyO5BGzPiuWzA/+fPlFQUZSfJCk+cTMcucu3YPhI8cGh//4J8Hddz+gZfRdsHTxwuDpJx4Jpu2xe5CsbSguvXOw6/5HBTNmfuXiiUxpNMxwlhcE/3v1mWDHcSOCRC3b7gPHBdf+6x7N943Buy8/Geyxs+ZNUlqQmdc9OPOi3wZrNiK/ilSOFQRzZn0YnHzUIUFaYmKQnpkb7LX/4cH0jz4NCtYuD+668Q/B4K5pWvbMnE0JXnhp85kzB3mm8diwdnXw6YfTg5defDn4dObsYNWa9WFdUvfFzM+CY478sZZlcpCU1SP4yWkXB98vXOFmYcjvhfO+DV5+4bnghuuvD3acOEHrSLzm+cDg/F9eEjzx1FPBM88+G7z5znvBDwuXupnhMO+1Xq1dEdxw7R+DjrlZQXxCsrahNDdD3617j2DafgcGt9/zQCQersiq0PZVobL02zkzgzNP+EmQqs/L79QjuOqav7q6W1amD6E1lWmb0HyaPeuT4PifHB4kJqcF6fm9g7N/9cdgycp1QZnW7dKSomDN8kXBX/7wy6BHp+wgSWXHkSeeFXz53Xw30xqZaG04kZmzRd/PDH5+8k+CHD9zNmly8PSzLzrZXSW/G4LK23Urgmv/8OugZ8esIC05KcjL7xz89PiTgzfefDdYtXJ1sHblimDWxx8El1z0i6BPzx5u1johKT3Y94DDgnc/+CSciSZPyETN+/Li9cEt//hL0K9nN1emtNHEpCTNw07BzrvvGfzr1ruCJctVHql3n+/lZSWa5yXBioXfBRefc0qQnZmm8pyZzXRtL92CEdpefnrsicEDDz2q8nh+sHTBD8HNN/wtGD18mKY/TcNXGallnJObFwzQ/m6PvfYOfn/lVcFb704Plixdov3d18H/XfenYMSQwdofp6vsyAxOPfP84LsfFmj8mQWlTA3DMIy2RuOHL+vEj176EcWqkcXGEYbD2LRH+zP9Nxxp3BxmRDj4IEEyczvImeeeL3ff94A89Oijcumll8jY0aMkNydPevYeIJdfdqlM2Wm8FG9cI2o8yNpVq8IQ3Cimoo9h1JcDQP73+mvuoIYySZCe/QbL3/5+g+y0/QTJzMwQVY5lzNixcuG5p0pGSjyHiMnyBQvknekfugFVRpGrYKQ43HfUuWc/OfCAg2TSuDHSvXNHtxetTJ+Vlprk3h+Vo2FzmEphUYmoERi5H6rSTfjMxGhPLulZuTJlz33lbzfcKLfeeqvsvusukpQYSGkZB0WEx2DXlGM1g88wHzt27ChnnXWmDO7XU0oLN4gkJMv0d96V0087Sz744GMpLS2XEnfgQO0QR072S0tLkiHbDZTsLE1bSaE7RGP5qjWhp0gRB/wXlLuDJH6Y+50UFBS6gwoys3PcC5ADzTv2Z6xePE/mfvutsKA0Ozdf9jv4MBk3ZqSboSH2mTkdZMCAATJm5DDp1inP1ZvKuUcNg8MX+vXvJ/vus68M7d9T1FDS5Gr4yTkyYsz2cuD++8nee+4q48cMldzs1PA+DYODA9auWS/TtXwXrtL8SEmTbj37yrnnnid77z5VOnXo4GarxowZJ7+84DwZP2KQlBetdwcNsGfR4QqDBGvdiBQKp+Kpge3COvu8i+SBBx+VO+++W372szNk8HaDtBw6yZTddpPzzztL+vbspukpk7TsDjJ5173lltvvkUcffUKuvvJK2WeP3d0MSqcuXWWfffaTX5xzluTnZLsyKioulVWrVru8jjy2cdA21IXzYoQQpoEj5cPwCJhr0YQzAuzzZG/Q76+6Rh559HH597//Lcccc4T069dL8vM7yO677S5HHnawZGodiSsp1vJdKvMWLmTQyG2DahrEijiH31xY2qbUUpGBQ4fJHlpeKckJbu/gB++8L++++5GWbyAlRQXy9ZzP5f0P9W+9s0vPPrL/QQfJiOHDNJA4qdDqXqrOzZq49NYSQTcrFC8ZWdkyctz2sseeu8vI4YPd7D6H+JQUFmq5dpBB/fpIqtbHUk33mjVr3MEZSI3yIEG69+wte+y9l4weM0LS2Oep4VXEp0rPvoNVfhwo++27rztsqXf3ztrGiJP6cWXE8yOloulOTk2X8dvvIr/93R/lppv+I0cfeaSLh+rl4ZH8zqeHeOu9mN/86WbBon3oVa2rKmylT98esuOOE6VLfpZsXLdWFs9fJKtXq0zVdsKJrEuXLZVZX34ty1YXSH6XbiorR2n97KwhhKsSmkp0rlM/OBiEdNI+KeOanJpD6jtyF4dX6TVePv/Rx5/Kqg3FUq71YrvhI+WYn/5Udt5pB8nJy1XZki3Dtd8448zT5UcHTpO05FCmz523SL6dt1D7BDKd/PIxQn45KcZDJCklRUaPmyCX/u73ctttd8gJxx0jnbS++3wP63bYnlzpIgcIMz5JRmid+d0fr5YHH35Y/u8fN8jhhx8qPXt0l07derg4Hn3koZKXk0ELlIy8zvKT40+Rux94WO6+93656IILZfL220uXTp2kZ59+cvKpp8gRhx0kWenJ2q+UyboN65xMakYRGIZhGC0MvUuLUWnwNJpIRxr5AIyfzQkv0imy5Ee0k83N76Id0mmy/aTx0qFDruoXFc5QoZMuL14v6bm5suuUycLRwnTanDgGfnkbD02I03tK1rsN/SUahwpJVqVogCpMXWVjUakznlBcEoIC6dOzowwb2FuCogI1WEpkzrdzXacZj7EYnQCIT3AdfElJmZSpcVOhHXW8PjcpJdmloays2C0rooMvUWWjUJW2zdHuXP3iq1yVg9GTdpS//PVvcgib/tPTNF0ozaqUJcVLIlpbY0HhiE/R+1Nl8tTd5MKfny0dczJVK90o8WrMctLcpb/5nTz17IvuZEyUMfK4RigeDS5VbRw2onfrmCsVxRtl/crVMm/RstBPJZpXQakUqiH41VdzZKMmnaU4nbp2d8t9KlSbYcnjunXrZP36DRIkJGpZdlMFum+oFGkcKMNA48OhCOVaFoEqIxh0m6B+pbxQ83+VrFu1QoqLVVnTskLpXrWhSEr1OYV6rUzDIG3RcFrh2rVrNR6qqCdlyoChI2XchPFSqmVaVhoexc1hNt16qeI6cWxoeGs469XIJodQ6kM1MawXgdYzFOkgLlEV2O5y8KGHypjRQyVLlWfqBmXJQQMJcWXSZ/BgGTJ4gN4Vr4ZDkiSl5cqQEaOlS5dOWocStL7os/X5Ffr8pPhy6dyti+SqcRbodU4UXaWGpcvjyLMbB2WDC7+GhKmIvrRJVtP21cWrcTZkxBjZ98CDZdCAPpKhZcmhMyyNlbJCNTxKpb8q+n17ddW4F2v7KpRVquRjjOOaBHHVWHG3C0H/DG2pwC0jHaNK96B+Pd1AwTdzZstzz70gawuK3SmXb7/5P1mwdKXEpWTKkGEjZbfdd5VkNeRcWGo0STmmfgPalcYdOUAbKXXpRQaxbFDbexLKeLmkaBtNSSJMrW+abk7vdEsw9T4MnPKSAjUYVZkuWOeuqV0n6wrLZUNxuRqWJVrHq17BQBpJolP1yXd9TpzW67ETJsmll10mJ59yvPRQQ87nBy+UT9LGUZXDoZHAp4c8q/rLo2kP4iU1LUt69ekrXTvlOINn4YJF7qRS7sAoX6vGJvlZXhaoodBVBvfvJ1maj1qhawizoUQipI60YvjjXHEr0QYZDpkQYAghriN+PCtWrFADcqUUl8VJSk5nmbzb3jJizBj3jkMMKFfdNf97dsuXPXffRePfmzErWbx8mRpoi6W4VEu3cqCFVq1ovFyfp+181LiJctEll8kpJ52kfUR3l5fIKZ/vGKguSpGOzT1P5UCgdWzEyHGy5557ycD+fd3SfsqYtl1eXOgOkhk6bKh079bJGcol5fFuyeR2Q4aES9j12aVR/lPUquzctYtbNkkE16/nlM0i90zDMAyjbdIE7b2FCfuqzajlssKsFYqQ/qcdXUGRKlnLVPHXzi5RFSA6Q/bKxCdy/HCqKg5pkt+xk+sYUYQK1DjjezjqzH90tiJFKxbK3LnzXNgJ8cnSv98ASdFONS05yc3oJKnhgPKTqUr1mFGMrHMceiCLlq2Q9ap3ohxVVwgA5SwlRZXr5ESNE4YQKWOfSmLlHg8i4GLiRnxrQHt619nrfanp2W52xc0Qqf8kVfhCQ7P2HKsX1ULiE9IkMz1DDjnqGLn01xdKp+wMiSsrUgOtRN5750359SW/lQceflzWFxSERhoa0GaEaUvQtHXo2k369uwiiWoYbVi3Otx3FnpyOJ9qVBSuXyLfffeDVGi+c2rfwIEDJDMtQY0cfYYqhRhOhRzVpsZZTl4H6dCxoyu7ZFXSUIri9Dp71DDsOLK6xnzQ/ImPpwySpEKzinqDkZyq9/GSYVc+7tRNFPEqiAMnoKHtZaWkyujRI6Vbp1ytH6GBzQxYQlK6pKXnSs/evfTJWi9V0XNHZBeVuT1joWEdQcswNOTjZePaVbJ4CfVW0xZwhD+zTgmazGR1qRqnTMnLz3dpxWhbtXy1rFmz1gXDy8F5Fxb1Ml79x2ncEtSlpKW7stxQUCQLFi91fpuOazER1zDI12JVzhcsX+VOkWSmLUFTnKL5nkIcU7UNpaRJTueu0rVrZ72jTIoKC9SQXO1mrijPxhPGMTRxImie0z5on0FimoydNFkOOGA/rd9JsmH9cpn58bvy9Vcco/6pPPb0f2VtYZnk5neW8ePHqdHYQ8sw8noG/Rd5EBox9ecDM+Wc7Jes6UUGMfDCYIFedmXFHiXkAWW+SXz1GyfBUu5akK6uI0sID4MuVY2cZK1viRpuQlQd9fe7T21zFaroZ2flqCLfVbOW1xio4Z7oqn8N+LINpaD7TwPaPJV6EStFS7JXr95uj1aihvnVV5/L29Pfl3UbOXq+QhYunOtO0cV44gTVrp276D0a2uYBNoIwfqHxxamtZTJv/hL5+JOZ8uEHH8hHH34oHzrHd3Uf6fePPpLPZ3/tTsSNBgNlgzoGy3p06yGTxo6U7vnsfRR1WsLIjuRMdTnSu89A6d2ju0qyCikpVGN53Uo34x7ZjRdxSDPNM5UrzNXn5XZUw66ra5fsIaTcNj+BlFIHn9/6cDV0V65cKms5Al/vY6AwWesQR+Gzx5V4ZWXnSEYGpwyrXCwslDXLV7gTQIkf9q/zr3UmXvuTeK3vSclpej+yMEkN5rWyZq2G7Z4cPt0wDMNoWzRF+2kFGthpoD3wEflHdS9NUYKkpqQ4JYgDELRr5FcHv6t6pAqDKjwKI5mlZWVSGnmc6yCdEpcgc7/7Xjuyla5Tw3DKzunIgr+q0NCw9PkJCRnSOb+Du4QCVaTKaGm576rrQT240V1udM8OL/MQvjPSDuHv0dCRqyftnJep4ovyr/qEdv6Rn2MBinFCsuRkZcjxp5whl1x8gXTMTpeykg2SkprmjpL/1a8ulX/cdJusW7/BHSPvlN/qUXUKSIKkZ+fLsO0GaR7yHiXe4fWNy6PKDCW9qiitWbRIfliwRHXLNEnPyAoPEVDllXc04RkFFeOzoiLOKRkrV6rSr7+wRLVh6IMwgPTpKNwYgS6tThMNI+OjVIle4LnM9vDePUDhzu+Qr+qOpplnu1F0QsWYT1DjQ41DgtUMYSYPhZJwI94UvqhCzmNViY6PT3EGIcZXtBKHL288hofjKBpfZqR4B5sr980KHsMuRTIys/RrohQVl8uKVWt98ppAGNfQNQzn2yWYg11SQ2PZxTU6Es6DUyQx2LiLFy/zrjrapHtawx8ZRdRNWtSUAbPkzuDRfOzaJV+m7r6r9O/TQ8qKN8p3330nd95xu1t2OXfeEklKy5AxEybJIQftL2kJzA5jnKmhreE0qF3Xgo8HR8PHuePh+R66qjZerZDcMyPtnd/UG/kYGog1E4bFi8IDWbdutaxctdrVxfrlQxgH1xTCb+7fzXBtRmTIdoNlj913k66dcmXVyiXyzjtvqyE0R1YsWybvv/uOfDt3vmTl5suo0aNlwIB+rg5v/pqRxhBGzC2dVFnz2aefyi9+frbsvdeest9++8ne06bJNNw+fO7tli7vNW1fOfPcC2T6hzOcfMKogxIVWMx4k795uXnOMcSHQeQqDWAsqYztkJMlnXOztK2rvCgtkZKijW6VRGWRRXB/attnqTKzhrxeg2XdNb0Db1PCgOJcxvNOtWRXV11+RcuCSB3gnWvOKHf+VWYkImu0nenvyCkP8WMAMlXlNYMhpGftuo2yQfsLwzAMo+3SnJ5yyxPphyq7I/0SHogednbRY9EhqtJo58XpVfzC78ycbVTl1fnUzpuRVDq0NRu0EytkPxKzWnGSlJrhgnVLGiOw5wulOsd17IQXLmNDcQifXP35IaGSpmHpszgBroTli6qU6lXtXLVIIvGv+W4IVbN49Zei8Ut2nb9TLWKLpo+R++yMNDnutDPl6qv+IEP695X4ikJJSqyQ1WtXy7V/ukZ+d9W1snDxMmf8kqZNwZhK1DzPlmEjRrgCKivZKCuXLK48vZD0ovhyAuCyVetk2er1UhaXLFn5PWTQgP4u/1miyTvW2KvTWV18UCqrFn0v709/x71Hj6U8VQpuPUS8Oe+urOq+j9xG5wkqiqWklCVBek8cJ2eGv4fKXFUYGI8oQ+6Fu1hj+jfpi/yqLmx2brZE6xMLFTXn3DV3lToQhd7ulC83O6jhxGldCd/9hNpeU+ypR+QZCly43LGoJDxFFP9Ng/saey8x06e6+GLAhldD9A+2vKphmpqS7t7phyFXqPFcumKNbCxheXHk/sai4TCr7LI8Eu0wjyhHyiRB+vYdIDvuMEmN7GRZuGiR3HHHbe79XtS1/A4dZLddd5ERwweHdY8C0ACYyWZfJHWhoYRtPZy1wyCgHFgCG+6DIqoatguwKtAwrhBepzZEP7Lq91pQzwTJnYkJSZKcyBAC90WHUhPh72R75Jv7d3OIkTgjduTYCTJqxFCR0gJZMv879/7G2bNny/QPPpINKta2Gz7G7YPNz8t0y4Epm6ZDfNRRsORfebGUFRWEL80uLHQvcuZ7ITJdv2/U78WFRW5Zb4nmP+IGGUsYvly4kqSyBVcZvnM+vyokQ+Uf+2WZ5eSxpbQllTchoV+Pq7LqeOcagw5h+9zUTxXhr5FbIv8SL+ZoaduhD4+PFe84xDiL1HIXBlCjomWg/43BntDIow5q/UNWElpt0TIMwzC2KM3pKdsnqrUw4+A6K1UUitUwKlYjDOgm6dvoxHmhtfbp6j3SaSdFFJxI58e/bkZDf8/OzBQ3F6e/cY37a+z39DrL3Fge556mnXCZKs7FpeWyes16p1SkpmpIzgAMn1MzYXfsOl59JkvlWgxGjxOSJTMtRQ4/5li55porZdSwQRJXXuKW/6zbsEHuuuUW+cOVf5YFbh+ZxooM8DjFM9EdVc0elaTkBE1euWzU+4o2loZ+HHGaL4GsXLte1hWo8ZeUKL379JLePbtpEBgajCTHSZc+A9xyQvafsVTp0YcfkTenz9DfEqS0tHQT5aRmKPdI6dRYSDXgbtFyK9rgXqQcEqpN0Uoe4I94pmp6mV2jTjhlC63OPa/6Q6uUq8qforz4qLIMLiOdfSMKz4vcUvVkT+SKxiO8N4xfGQMBWjfJy9bBx0o/o+Ib9UXRlOufKJpuVlCjVsq+vnXrw72Akbg3HtIYSSeP1vroyonnxWt9VoOob58e8qOD9pdhg/ur3Rju3aK9s9+yd+++MnrECEnk2doW/UxmGEYkBQ2IFrPi5S7sMn1yhRYJS3MDd2R+UVGpO0CGfaL6EI1uzeXirjbgWZtQGckwH8IspJbV/Iym4PJC61P3bt1lYL8+bh/V6jWrZOHCBfL93Lkyb/5CFR2pMnjoSBk6bJjraGJV9ajDtLOMzHQZOGigjBkzptKNHo0bLWNw+jf7yPoNHiyZ2dnu+Qy0AIa2XzZO3GrqCF181XF0fU5entYDlV1u1i7SnmulKqF1FV3oK/ThjTqI+roJvi2kaP+Vro5DkSKF69j0vrD98wzkUZj3DBKUS6nWy9BfVTwNwzCMtsNWYZzRsfluhsHZqg6qFnwvpg6lDOXZ4W4MFbmi4mLtyOKE/VJOeQpKBd0N3GEN6tyyQ31eaOjpDygNfNH73Z/OdwhhVuhziksKZQ1KzIL58uEH76lx8ZDc/M8b5feXXyZX/+kaWcEphqoE6MO5K7y5FjAMQ3Ux+kktgMYnSExxexl232dfueGGv8suO46X+IoyVcpEikrL5JH775HfXvY7WbB4ucuHKJ3BwcxPRka2KqNZmm9xsn5Dgaxzex80lZqPLPtjhofrxcXMzIl0ys+WvNxM1FpNJYpRnGRnd5Qdd9hBcrOzVDkplc8/+UguufQ3MuOzz53Ry4EcXompGf2tzt+rQ32gLMIlTaUlLK/kclX5EBx1odIIU1e1B4/ncS0sKU36ZrhQqDZVf20CiigzhxmpqU4hIyQ36aS/hb6jA+U7i3kT3NJens0SrHVq9HKgRMjmz9gSuFbiNEhG9hFFtBE1IiOHZ0SnqlG48lUFVAPAgVN+Sbf7Ww39hDQZMXqc7LPnbuF+MIxDredZOfmyx157ax2bSANzhmNVPCIGTqjpRsKsGeogMxQcOLRq5Ur59ttv5I03Xpf7771bbrj2z3LV7/8gjz35rKwvKAoj6WbOYwdhhTWuKlS3bC5G+BMrOXRp+PDhbl/bqpUr5Jlnn5annnle1qzd6Iyn7t07S25WuFIhJk/XQNh/xdK+4SNHy5+uuV6eeeZZeeKJJ+Tpp5+OuGece+rJJ+XZp5+UG667WrYfOyqcQVJ5Rby90Uz+xGtDccstXXZRD8OY+jizJDcxhRNjmeOmjtLWnRelKn+r8Pkeuiq/NeOfU53q192SbnVpGp+MZJUFTv67X9RVD6Hqb8oqrLIVsrGwQNYWFEox6aQMDcMwjDbHViOdfVfku8Sa8KOm/gW3KFrlUR0tKq0Px6tKXGF5f9fOebJOlay1a9nDsUJWr17lZm5Wr16tRkeGZDEA7paa6f/VI6AXOEVvjfp99snH5KLzfy7HH/dT+elPfyonnHiiXPzrS+Qf/7pJHnrsKVmlSjRKYbj3oWYI3ruqlLcc7jl08EkpmkfxMmr8RLnu2mvk0P33kiQpdUYSe/eeVgXpT9f9VVZV23yPZsBen+ycHMnP7+gM21Wr18qCRYs1a1RRwnhRP+40xNUr3Qlvifq8Duo/VfMeGxglOUEVkuzsdDnooAPktOOOlJS4UkmKK5fPZ30m5/z8fHn+pdeksDiMS2hQhTnUUOrMSQ0KZdw5/YO9Uyh7K1dpPVizRlau1HqhjuPE16xRo1PTy3HaKMjUB7ckLhJUdTYz5aM9crPey8yLM7aiLAK+1RxmOKNLnqOQsQxrncaJ1x+E97R8nakfn+ZQ4YzTvAwVSBRnZjX8702Flqv3h/8rpDqSYwy4qJbeuVMH2XnHSTK4f0+tc+V6KUVGjBwjB+y3j2SlJLpBmJBwsIF66K/UiXqmLn/z1Wz597/+IeecdaYcf+wxcuxPj5YzfnaWXH7VtfLPW++Rl954R9asZ/+Pti015r2q3ZxU14bPg5iBDNXgeGn+hAmTZOzI4SqySuSdN/8nTz2lxtn6Ihk2dITstMMEyUxP1iqs+R8WcDMI25JvLywV5cCV/A450rlzZ+nSpYt07crhMt2kS+S1El07d5SueRmSmYx092j90riylxB4DUey389ZQx6x16tC21I4IMJ/DSHaV8PuaEjuhPKHGlO/f/IKwplGvgWyYf0GWbe+0O0RjqGtbhiGYcSQ0ErZStmk73Ed1ea9EZd91xmqc96PGlTqyrQD531ITz50n/zi4kvlF7+4QC44/0K5UN0Fv/iF/OaSX8q9Dz6qBgb7CwJZp8ZbUWG44TrcZ6RODa2CgnVy3123yjnnniv33PegvPbGWzJ33gJV4FOFo+LTMjLd8hnXi7oIeWWyZsKQw5F8DrVoyY6WoJ1D4U9Ok8SEZBkxerxc+Yffy15TJ6shoIakGmgFRYXyxMMPyv0PPeKWz3jlAGWIPVqZOVnSp2dXzY5SWb9ylXw39weXjjL1ix1RUrxBli2er8+Kk8TkdMnLy4/kRfh8p8QmJEmP/gPkjHPOlH2n7Sppifqc0o3yyYfvyW8uu0Lue+hxNZrXh8q0i0NlJJpJVWmw02P16vXy8IP3y0UX/0p+rvXggvPPlwsv+IUa3r+Q32qduOueB9RIVCVQ79tYUiLF6lCsao4PZY6rSeVyOa//q1MDZpO7uQUX+TMavHMgjn6o05qpyj9LG6Em/1sa4uk+NXLM8Pi/q35pOuR55VJbPghSPxOTM2TiLnvKccceKwP795aB2w2WHadOke0GD3J+UGpd+1LHbc5tFp3oC+pD2zqK/9ezP5e//eUaueL3f5CHH3tSpr//saxavU6NgBRt6+mSqm09KTXVhQ/86xXv2OFj7f+NJZQRh1/EycABfWXHiaMlJzXJHUrBTFNaZq5MmLS9jB4xPMyWmKSsKj3gXjegDhpn+BEhFylHUmKSc5uGHk34S3WzzLeuTfHXfNdac4gNpaa7XVI1+IaGjGz1+cOp/yoWXfKrx9wwDMNoG/geZKvAdza+09q886p2RbWhcIlKeJ1/2UcRwnU6MmZiCuX155+Ue++8Ve677z6599573ed9Dzwod939gLz0yptSwnq1hDRZumSxrF27xoUVHiDAMq0y+ey9N+VPV10lK1Wpz83JkR7de8iIEaNk2j77yo9//GM57rhj5eijj5K0tBR9NDNJtRdNdCpio/Q0Bn1eXIIEanj06tNb/vF/18u+u+/s8omj4lesWSe33X6nzFu41CkRlcaI5kFmVo6MGzXUGXMbC1bIF1997WYjUH7jRK+tWyFfzf7Szfhkdugg2w0dGj6uMokEyJJPkb69+sh1f/uL/OSIH0lmeqobwefFspf88lK54spr5PsFi5xxxAxGQw00X/Q1+uY3dRjszPIUFRfIW6+/Knfdcbs8+MADYX249z65/7775Z57H5LXXn/HHTRTHp8sa9cXyNp1G1wQDYtLJCL1UFdIhKDRVMI6GNbF6urllkYjqBEimq6MI5HjoyqbXCKaQNiua81u1rfFJ7p3QJ36s7PlAS3Du+68Tc4963TJykx1eefO2XGEcUBWbD57VvVXuDw3kNWrVsijD9yjsuEeYdl0Xm6O9OvbT7bffns54IAD5KgjjpCjf3KUjBs3VqOh8aCtb9Lem5rmmiB+tWVCM2H/nsaV2ey+/fpIh7wcl68cctKzVw+ZNGmsdO6U556+6SmdMUKDdFlXJSCaQD35E6lAleMm2mdsYqDXeGvz0uoeo27zgYAIxIm6XVe8o6A8yCNmZkkGfZwfqzAMwzDaHtEawVZDjX2aXqzqjyLftJMKO8Lwb/71HaL74B7tjDnIKy83Wzrl57ulM926dZPuPbpLr969nYHSvVdPye+k1zt3lk6qiLnT3QgtMorOiZBPPfWkLF+5QVLSMtxLQ//yfzfKHaq83XrbbfLvf98sN9xwg1MMU5MTw4403BxBLDZj06tVqWo1VCOKS05RhSVJOvcZIOecd557SWtpcaFb6rdk0UJ5/c23VAlgySIqhJpemqb0tDQZNXw76ZCVKsVFBe59ZutKeTFvontv0PpVq2T+wmUiiYnStUcPGTZ8uHtcqNdF0ok2pkawJKZJ16495MILL5JzzjhF0hNV8QhK1CDaqAbTnXLRry6Vjz6dpd7DTfyxwuc9hwNkZ2ud6JQvnTrmS9cunZ3B3bNXb+mt9aJHj57u3U7dOnWWrKwsp9i3allpRDEiQyKKHNf0L3+1TVAtMqHe2cx8cmFunkrqYXgceQRnEPEusDwZNXqsjB05VDrnZUTqm0dzztXhMF6Mm9SJely8cIHM/mKWG3RIycyR/Q46VG76z61yy213yn9uvU3++a+b5PLLLpPJ209SI1AfpvHAr5sBjwTjAuLZ4R9tFI2dxp29nuvXrnPv2grLTyQ5JcW9pzBMQ0ulgnBjE3atdc5dp+aEfUXDiI6X3tfwG1sEzDJiT4yYyw/f2FdfRTYMwzC2FC1snNXS4cWKasFXf1ptfWJ1f34UMdq/X2LEcfmc9nX+hRfIZZf9Vq688o/yt7//TW66+Sa5/fY75K677pa772UW7X554IF75V83XCd9e3V19zLyzixRaUn4Xq8S7eh5Meyue+4rPz70IDVUhkqHiDHHARIb1q+VspLi8LmR57dZMNCSUt1yoNHjd5CTTzheeIFrghqka1aukP++8oYUs4zOKZxkRKIqa/EyeMhg6dWjmzukYuHCRbJiZYEkcbx+6UZZvnylrFirf6ekSd9+A6RP715OhdgsH9B2EsKXM/cdNEzOOvfncsHPz5LeXfKkQvO6pKRIXnjqcbnij1fLt3MXuLhWKV96r9eWKoemN3tCjeDLjdJrUB06dJSfHnec/O6K38uVf7xS/v73v8tN//633K6G4R133SN33Xuv3HP/fXL3/ffIH6/4nfRWA57n+pP/Gg3R90loMOFN/OdnzrY8NaQ/zNjwuyM6sbGIcx1hYKCpoe0MCGd5bT4X7aLnHP9WD6tavLW9r1i2UH747ls0Ya0nXWSXKbvKHrvvKoMG9nMnblKHeH3Ghg3r3LLp0IjWdhKpj5vFNvoRTSQGQWxG+I5GkQXzF8uMGTNk7Zo1bikt9WzN2rWyaNlSlQG8eiDa6Iw1DQ8Zn6GhuPk9rl3Xyqa/+b9cSFE/1RyCPrGBUWygNwf9U8MhZjgX44hr3PMMwzCM1qNFjbPW0gWjO8WGPTL6Dt9x8S+zL+6ruxKgNMWnSVZ+Nznl9LPk7LPPkhNPPEEOP/ww2XfffWXXXafKLrvsIjvtvItM3mknmbz9WJk4eqBkqRECvAQ2Lr5CDYYCWb0+PCQDY6bvgAHuvTvrC8P35fhdLczGcHJYUw6z2CI4xTZJsjNSZO+9dpde3bo4w6ikLE6+X7BU5i9FWYsX3m8Up/7i4tRvp+6S16mTW+q5ZuVSWb9mpUt7cWmRzP1hvqwvKJO0tGwZPHiQaLCq65IX7mGRT4/+zfLKinLJzcmUM9VAu+7aq2TCyO0kOb5UbcFEeeu1l+WSy66Q+UtWOP9sgnf5Wq1i+r+8wrPpk/hLnf7G724MWssnOztLDjzoUDnj9NPlhJNOksN+fITso3ViitaJnabsIjvvspNMnTxJpk4aI2OG9NM6wRIwQqqejnpw3vWfSDQaxKbJc/dxqVnt0T2/MZGogWhNtkaif/eRbUKk3S1R9/G1nsRTLu5Uu2rpc9fdN5TsWtplZbq0HVcUy8b1a2Td6jV6PVGSk7MkJS1TirXyFZawvNRFxj0rnB3XZ3CN0z1d+NVwQW8apybTOI2+Htw8pFSUFcsXX3wmH378mbbzJElLTpSkhHhZOH+BvPr6G/LNd3PVL68UiN3s9aY0PG/wWeU7LAdPnQMX0T9F3xb16E3DjYZ6FfkaI5wh2dRBnhjHxTAMw4g9LWqcxZK6RzariO4a671DO7hQHwrvYlSVZYwhLDVK1L+TnVJVUFTsFKvislK3VI/ZNhyduncclb/JqXxu53Wo0Llj9/mmBgVGQrKmJzUlWRJUkXEvotXY0t8SZ5Qe7gldW0eVD1UyU1JTJDc7Q6OseaB5t7GkXPPNv3wgTFV5kCAJqXmSmZ3jjKrCDWukYMNa/SnOLYmaNWu226eVmZklY0eN1NxXalJYK9FnJyRJYnKqpKtBvM/++8n1zkAbIqVFG6WotFzee/N1ee6/L7n3yYUKosYloti4snZRi3yG/0T+rU5YHmHZhLo0L7elXEv00x04wf/qousFF9ynUnO4DQMTgRMYGxZG+Lzq+Ks1/9oAaIMNbIe1U9f9xMw7aHJMK2+tfJqWAd+bEnuSHBal+ydytSa0UnBiKwfRlOvzMNoCzjeNl+REXiKu9V/rXpiFhBOpT5Fwa4ob5R59PbxLXU2e64B7YgoNQFmzcqV8PH26fP3td9KhY0c5+EeHyL777KVtt0RmfTJDPlCjDXnnlm82m5YIg7/rCVflQ1hO9ccg5vlcE8gv+oxG56mrOeFXwzAMo83SwsaZ7zya/5iwS1FFt1GdS3W/Pj41d2ph6P4e/ISqUbwaVEkJiU7BSNJOkaU7rn9Uh9HoHf5wlaEzs6TXCadSOVHFjcMznCfv3DPVRQzDKjXNf7ZhiCIZkaBp17yJNixZpuX0zog3kpeoxlSuGmf8UFZcKKvXrNZfMHTKZcHCRarIlUlaRpr06NbFXccQrhfNc0lIcTMRoyZNlksu/bUMGdBLKkqKZfX6Mnn5lddlxer17t1IznTWMH2ofHrjyRvm/jdP9VLgd9IZKtq8IJtDENQX/6uLrhdccJ8xoCrWDUC9RpITftcPXCNC2JyGlEW91BGGi2T0783IN73V3U1w0UE2Ogk+gOoBVafqN/a1MeseCEv6cPpb5c/Vw9D6Efnm2eRv8lz/d9eqe6wDvDbCe4TqcasdfOKWr1op3/ywUNYVlEpOfkfZe7/9ZJ9pe0lWZposWrBIPp/5pWxYvzGUf82uP01L1aZwP+2VkybDfsm3/81wlylH/RLlp6bm3NyUNQZXJRr1QDzjmpt3hmEYRmvQwsaZpxGdgut0vP+o+yK90SZ9Ukz7Gt+BhcG6WQqULP3Oe5cCvyqnUUPWejfxpjeP9OjMrvFiWnBXIjNrod/I13YIxgkv4/ZLNDHUEnmTdCS7+MBoYbawb5/ezi/7bhYvXuLyt6y0Qtau3+BOr+OgjayMjPC+mjShzcAASlIbLVkrdCCjxk6UvfeY6vb8lakh/MWXX8lX3y9wPt2AvwaJwuwNKpQvlqx5JS0yybk5GJ+Vp0W4u9xnuFStpSFvG5IXGpda4tOQu7c2Wi/NPEldZLmie6m2/lleUeZODN00IpuXj/u5pmLT+h82AUofcR3KpKbQ1PtqgjgFFSXyww/fy9dzf5CKhETp2KW7dMLl50r3Lh2luLRU5i1YKAu1jbctVDYlsmeVufnwnXSujFwpRBVU5Z+a565NqXPloRfDQtkyuOdHvhuGYRhbHS1qnFUp1o1VCxrY88RS21Dof93sj8Y7IzVNkjjmWpX2UjUiikpLIr4aQxjBuKRkd1IhYARgnIWLgpSoNPC1ahS3PfW+xFlT5KIczhJmpqe5I+6dLRRJSlx8IBkZ8TJ29AjJysqWgo0l8tnnc6SgoFDKigplfcEGVZoSpUPHzpKRnevuafgJ3BiHSZKi5ZaWliQD+vaWlLhyqSgpVOMpTgrVuOZtB5VxUSU6KSnJNQDXCDDOIvtianyk+k/QMkxJzwjLCecM6xbGVYewTlQ2pzrBU80ew1CMlgODLFHriNb9zHT9mxdqRxT/TTK/QQXpcDJUZRIDAQwCIB+2eDm6CCTIyuUr5J0335RZX34lWR06ycQddpLhw4fLiGFDZfuJ4yVBDdNPZ3wk777/gRSx9LctVEDioI6ZM2dAK6VaPry4nqzevI3FSVlJqRQXF1cuTXc0vAhbgLaQkYZhGEZL0ULG2aY9V9PHelsTP/Oj37SHzkQRV0MBhWjN6tWyfFW4/K5RHSPLZlR/j49PlcyszPCaGgrlZeW8qiuSTfoP/lwuBfrs0FVqEe0BjSZ7bMrK9Etckjt9snN+B8nPS3cpcAaWUzLjNE8TpF+/PtKlY54UFZXI119/J+vWr5cNBeo2Frrjt/sNGCDZWRmhYRdRoBoCy0EreCGRuqCcvT9hBWfGgVm1MDeJDLMbiWowp0t6ihpo7JMrVQO8qKDWLCfc+EStEykY2aool5dIiRqUsLlCZ2yTuFn1eElNSZWMDK37zpiqUKU+2ohvRGXRupiSnCwZaamuHldoneaU0y1NOMtcLl/PmSPT350u6wtKZODgEbLzzpOlY36W9OnbR3adOlV69+gi8+d+J6//7x35fv5CJ+H8XrUtBc0bF85+hdKB/ahl7mAmJEiVAMCY5ErBhg2ybs0a92J9d5/+sMnq29bGJ8IwDMPYKmm45ttQXMdRXQFpRE9C31fpv2V6oJrVI32W/s9v9L/JqrSnJHGaWoWUr18nK9eu0z65sUvYSAwzcUmSrEYJcP/G4iJneIQRUXUgfLRTEMJI8JfbHdX2cVHVfCkulcJiNYji1ThLSJKOuXmSQfpU8QkrGX8k6Uey5HTsLAN6d3czkrwTbdmyJbJs6RJZvW6DZObkyfjx4yQ7RaSU7HAKVEPRmqMZW1JSLsuWr5Ri6mFCiqSooZ2XlS6UgNv7ouWRlJQq+fn5kpeZLnEVpVJaXOAUsJrw5UA5JiQmu+8o3Iymtx7EwlWYdkID49oKlRx50qhm20iiFXpEakJCgtavsN5y8E2FU+rDHIlW6n0OccnJvMigTDh7zg1xkpmZKfl5eVp3mcEvkKLCja6O10RU0E2kYWVGXFkuvGDhPJk3f74b+BgwcKAMHTxIG22pVGgbHzRktAwb2F/KNq6Tb+d8Jd9894OTfZvMPm0BvAHG0lNedk95bdjArL3ma7X0h8a1yIb162Xd6rVSoeItLNukylm3LQEGIvXJMAzD2DqJcQ8T6TEiPUeoZDRFaYjcF9UBuRHLRlLbc2u9rj+w5yk+vlS6d+ssHXMyVNkoVEWkQhYsWurSVf9Mjg+d+OKXz/DQCCBPSkrLxJ9jiP+4ODVg1KWlpbuTB53+UodR4hS5NgR7xlatXCVr16zVmMVLanqmDB48UH/hr6q48hcnYGakZ8nIIQNUFy2RjatXyPx58+SHufPdoR35PQbIsGHDnP+GL2mMoI8ibziVsUCVLcbCK+KTpUNervTonB/xpIHGJWoZp0g6SyCT4yQhKFWFV8ukNGJsReptNJRbvCqhKanhXrhyNc42OuMsLN+a7qmRxqapEsJv4DNqocmPbhItnR+NIyZtpsa4Vg+Xl6rHqQIfvjohNEiqBlqIB0fnJ+vvWWmpkhSvdVR/D2Xm5g9ITIh3g0TuNdUVJe4woZqqWnipuZlZfx4xY0ZU165aIV/P/kJWrlotWdk50qt3H8nNDQ/6wXXIzZZeXfMlLTFOli1bJnPnL3SvD4lnI2gDntNy8GzyP0mSk5OxtmTR0pXyw8LFLn5BtNxlo7G69evWyloG5zR/2auWrvIrOYUXbEeKjc/wo3WofNiWzEfDMAyjpajP0mg82nF4RYgBXvpqdA9GTMORyCoX/tiwDgavLYvf6K2ZEpRJXo9u0q1rB1WICqWkrFTen/6+FJdH4g18eMeHu87v0cPa9KLhKGdiYlJ4SSlT44zXd5EnKFsVGv6qVWtk5sxZUlSi4cQlazjhGG/9NMRP4wnLx38P/97MacGiWHLK4uOPPSIrVi53BydmZGfI0CHbhTdXgzSlpWXIdvp7Qly5FBaskFkzP5fv5y5wo9F9e/eSXj26kpP6d81pczmtz9d/wvoTcS4+ZWVSuHGDLF4SHkKQkpIiPXt2l+wMVaa40aHVXoNOSk2W7OxMTQOzG2VSVFTownXKtE8j96jjO/vhmMng/g0by2T2V9+4VwAQS4y16nCvv38TvEbnaGj5be6voXcazc8rFjzz3+ZEXdOv1G/esZeoyj8zYcgD6gb1h+Vz/M27AJcvXSIrVyxT39Vbuf4VVT+ovyyRZKkzs3DlyI4ywgnrJJ9U/7CKcZ93XAmvxhSeWV4m33z9lbz73keyel2RW6a8/cQxkpeXre1f056YIN26d5Gx48dK126dZfHC+fLu2+/J3B8WhfHdvKk0GCeiq7KnCYT5w8vAcSxvXr5ipcreObJs+WpXVr6cVDhrfhfL999/L/NUxpHPGRnZktuhoyQmp2juxjKPa6hd1YJ2vzcr7YZhGEZ7IPbGmRJ2WuESkMLCQlV6i1Vh3igbC9TxGXEFGwuluMY9FDX1QDV0gs5b7R1k9VD835tej7qXH/RP+uXk9DwZORwDAmWiRN579135fPZcKSsrd0qR0zDUo1O+1CAo03SsX79BVq1eG1meCKp6qZHFy6U7dshzV3gP2uqVq6WkSJUyDado43r5+ttv5D833yC/uuS3UlhUqqWSiEeNSvUUhGyqJtac9iah8cFQWbVyhcyZPVu+/vob+fbb72Tu3O/VzZWFCxfK8mXLZfny5bJs6VKZv2CefPbpDLn95n/If267XeMdHinfuWtnGT50kCpR7PaKrmIaazXAkpKT1U9XSU1OkA3r1snrr70mn342yxk/nTvlS0dV8gK1XmuaOeNwBZZAzp8/T5WqFaocrpUCNao2qisuLnKj3J++/5aGN9OtEstSA2zcmJGSkYxSWeHi5NC4pud1kL59+2h58a6yEjUuV7pZUozmcr2Gc7MaEZgNyc3JUgU0QVZrXX762RfkhVffdPdS5tQL/Dtjz+0PKtU6XiBr169z9cZBcVF/XAlqOTZY06y6x1NryUe8VP0eXvB/13pfjTTOdxW+llbFt0aaGnxjcFPw9cSjDpwRxH+u3GqHX3HMrORo3eJ7eaQe0O4rSotk3dpV8v70t+SGv18vTz33gpRqfXOGQPWwI1HOzcuRbj26ito8rp6tXr3aLbMjvFKtc+79fVgNkVtcHPQLs9SVgTiqhV8j3m80/hr7OTUP4uKlWGXWzI/el89mfSGJqekyYtQoGTF8iCTwCGRAguZBdpaMGj9Bhg8fLEFZkXz68Yfy8YwZbsCu4XV+c7zka3IY3Kf/d+vSWfr06CapSfESFBXJx+9/KB/N+ESKS0pDA02NMtrxYpVxr73yinzz7fdamIH06NFT+vXvo+XBXGYVDcndmiEdETlQPU3V/nRUPii8rz6c95rCNgzDMNosMTXO6AhQDFBM0Rc++egjeezxp+XB+++XBx98SN2DEfeAPPzww/LIo4/KSy+/JitXhIdteP2kqhuh04p8jVzdtItxT3Tf6Nxw4Z4id8n/FBL9XQk7w/Bkxsow8cM1t3wtXXbbbTdJS1Jlo7xIvp89U35+7jny7AsvyldqtMydN0/mLZgv38/9Vj7+8D353+uvyt133yN/v+Ffsmz5KhcceVDBu8/UIOmYl+vei8V5Fd99M1t++PZbmf/9N/LEY4/I6SefIldefZ1sKFBDVe+Jc71+VLw2IZJO/UZa490+lWg1oYlo5jN7VLChQB556H456ID95fDDDpVDDjlUfvzjI+TII46U008/Q3572WVy+eWXySWX/EpOOuE4OeLwH8nfb7xJCkpJZ5LkZmm+TZ0ivbp1cMG6fI5GKwhLR7Oy89yBHAUFBfLuu2/LO+9/4PIpPS1V1GbbxCiC0CAud4bZdVdfJSeccIL8/g+/l3/ceKM89Mgj8sQTj8uTjz8qN//j/+SS3/xOvp27RBKTEyUnJ0kGDehTmb4QjZMWREpqtnTq3l3KtYwKCkvk/Q8+ks++mC2rVmGALlW3TI1tNaRVuSYdWRlpMnLYEOmQmSbxpRvlh2++kj9dc508+dyLzpCdN2++Go3z5Qc1Zmd99qm8+eabcv9Dj8r9Dz4qy1asctXLv7eNXHHvWXJ1MKJIV2ZV6GcTqKfqz7/iYZN6W53I7fio8hv6riHkhsGNGvcw3u7fyGfNhP7CtNXmr+pqGDscdbqOYBsML4AO0x55fpMTDmGECCYMk7/5w12u+nTESZoaZ9k51P94KSoskkULF8hClRdffDpD/vHXv8rPfnauPPDo07K+iE1MiW5AgzBcFuNcXMNAU9MzJDO3g8QlJrrl0J988om8+uorsnTJYlm5fLmsWLZUVq1crs/hcBofgsaR5ddYSXx38W04Po3ORa45NGK8bH3NmtXy5ew5snjxCumQ30nGjRsnffr01qYdvvuPZcPU68GDB8ikiRMkPSNVfpj/g3z6+ZeunTFbGElkI3F3kqLwr8YlK0TjpQJd+vbtLjtMGi9d8lmKWSyzVb4/8tjj8p7KgCWLFsnSpUvl268+l4cfvE+ef+VtlW9xkpSSJAMG9JP+fXpJgsYEm9p3oZEYVf7nr9SN+qzMa/0L19B73T2h/Ijc6PJmk1vJ48hF959/iGEYhtGmCXuWGIHwT0jQDlQ78ArtoB+49245WRX48847R04/43R1Z6iCf7qcwae6U0/7mRx7/Ely7wMPu/v9eRhAF0JHX7m0LdKpVO9a+BsvzNKxnIbZl9o7oDBwZmQSEjh9Tw2KhCT/SIX71MUnS5IaZRMmbS/jRg+SijJVfIISeeeNl+Wkk06SI4/6iZx86ily8imnqJFwov59pPzk6KPlvF9cLHfe87CsXLXOhVZRoR2iGizJaiQMGTxI8tI1buWlsnj+d3LR+WfLqaecKudf8Ct5f8YXMm78BDnhuGMkjdMDSXdSSqhgKa5TDb+5pBH/RKKJP4bUK4vR+2s8Lg8Y3VcDZo0aJ99+P1fmzPlCZs38TD5WI/vDjz6Q559/Tm655T/yn//8R+6882557Y235fsfFkuRllt8shq0GZkybf9D5awzThVi5fSvalFC+aZcc7KzJb9Dnj43kNKyCikqLlNjKVN69u7nbvHFDuhAoalWLsXFG+Xrr76UN954Q/59801yuRqLp5x8spx40olyiubnH6+6Rr6fv1TikpOckrz9lN3d0f3kYaLLK+IVh52nz8uSbj16SpJag+UVpfLKS/+VU089TS686Jfyy1/+Sn7560vl+r/dqHkxX+McLxlpSbLb3nvIoQfvo/lfrgZAmXz8/nuuLh93/Aly0ikny8laP05Sw/GYY46Ro445Vn529vly9wOPyup1BfpcDMSq2oZhzZ4iDidAoa0q581BLXV55/yj0KMe1uSf8ANJ0rqdmZGun1qftE2w3IyXIzeeyD36wX4hwk3g+bxXDsVwE6rCp4wTaZMYH+T7Zn6rIFqhUaZpw7/LD8Kqbe64PvS+eDUUNL7IBF4+3phTP2uCeBBHyivBGR9hHF38XFxDmFlKdcZZnnsVR8GG9fLYww/I6aedKmee8TO5/u83yjo1UHbfYzcZM2a0ixev2nBTY5FwKoPTsJKSUyWvY0f37j9awczPZsjll18u5557nvzq17+WX/7qV3LlVX+Wd6Z/oP7JrzKtH+R/WE9UUhBQlKsH0uTkCmWhaaxsiITNOwzLZNnSRbJg4Xwn4zvkd5ceXbtKkv5WwVpt9wx9ZhAvuTm5MqB/P+mUnyelLA+c+4P8sGBhaDM0wTgjXS7/1YWGRvjZuLD0PpXLSanpMnGHHWT8mBGSnBQnxRvXygP33OVkCX3U2WedJcefeLL8+dq/a1qX6HMSpHOP/jJlt72kf79+Lls2PRSE9unbM+0jUud89tVCGHf2HJM2BrioV4SrFxjprAFkgWtf2q7jWS7PPTVAOZJNqSoLU1U+00cmUM/UPyVpGIZhtE2ie5dm4AU9xlSK69hTEgK3kT2FUw9TVHFPSalyyaFLS0uT8rJS+W7uPHd3hXY6IfqpQSarHzZgO6XNaSy46CiH19jfwb4MDkhLQEGJRGeTLtt51fipy8rOkg65OcLh6s74q96307lKgnTqPUDOv+hiGTlskGSrYZWWniSlxYVqsMyUV199XV55+VV5553psmjJCiksrZCcvI7So1d/SU7hHUc8LlRyklX5H7f9DjJ8xAgXR5b5MNP29rvTpTwhVSbvtIv88Y9Xy/m/+IV07pAjKfEVkqz+NCmOSt2DfND45uV3kHT2SgXlrjNnNmWzNDQSl2UaXzrwTp06yZCB/aRP7+7SuVMHycnJlIzMDM3jNM2DVPfOtoz0dP3MkJT0TI1LvvTtv50cesQxatRcKD27dXRLg3w5eMgPrsWrYcPhAb17dg/zSMu4QvM7K6+zDBs+0vkNyzuEb+FfanRonerWtYtzHXJyJEvLnePwk1BQtNwSNE5JGXo9r4vsttc0uegX50r3zvlqFGnd0LIAF56Gn5GZKeMnbC9jRwyW1IQy9060WTM+lkceesDN7j70wAPy/HMvyMJFy5wyU6ZKZ3ct3xNOOF4mjR0h2RlarxMrpLSoQD779FN57dXX5LXXX5c3tU58/d082VhYqkZonnTsrMorhw9oGD5ZCWpdZ+Vma95maBmWax3xaVSiy5IbtHw5Ia5Dx3zJ1HJAtUrW9Cbob9SRyvsc+GdfX6p079bVtT2321ErEX7JgU391wOeqV+qbKZkZml8c1z4riwjIfl/Q+MPAy5RsjRvmQVlr5QrS9LkPkLfwCWMmbTUVOncubMzJjlAhjreBN09Cr1Z/3dyQw2zjIwUycgK3zPYeDS+Gn9eWMx+w3T2KalsS1KFnki6NPi4RvIlMytH+g8cJF265KtQK5X5836QV159Q2Z99b3kdOouPz78CLnissvkwH2nSY62pxQ1JJMTwntd9jhHnsepLEmWMWPHye677yZ52Vr2gYY39zt55umn5IH77peHHnxQnnnmWZkz51uXZupEtsYzW9tqYoK2Kgqf8Ool9EQ9Y9UAxkWV0cMn7VkldHmRzPnyc/lizjeSlpEl2203RAYOGuxkkJNDHgyL+GTp0bOvDOzTW5I0Hz7/9DP54MMZUsISYNLaYNSv+k9SI5a8TeUdlGqUcCpsGG9XCnhsGM6wTpChw4bJYYccLBNGDZGsFJXTKncXzpsrL774ojz19HPy8SdfyMYSTXeSGshabgcdfKhM22OKZKTSP6iB5B6t/zBLi/zS9pFNP6R1AxuovkrsilvbR7IaT3kqD7PSU1ROqJGmsqHG7HE3BJKuz8jrkOsG/Rgkos8j+WHbrn5jhYadLfnaZ4QHy6hH91x+a0SeGYZhGK1Gwu+UyPcmQ0dFZ1uwYY2sWL7MddiDBw+T7QYP0s9BMiji+D548ODQbTdYBg4eKn0Hbic777yTjBs9QrsRjRA9DCeCqaJdpobQokVLJDEtU/1MkSmTt3ezcuGJX4o+My6ocIZePAZabgcZosr9tD1QZLLwoF58Z6XfGUlUxwtik1PSJLNDZxk3frxM3WkHp+A7n84/vZd2fGqoDNS07KGKUW5Ottsnx6+c9JWtSkJubq706dNHhqnRNWn7HWWf/Q6SE088SYYNGSDab4aGn0MNVVWqBw8YJGvWrpEKVU6SVcEYMGiIHHbkT+R3v/u9jBo5TI22ElX+0iU7v6MMGTlK9pi6i9t/RZRwhJeUGEiXTh3d8e8duvSScRN3kCk77+AUBhftyvQ2Er2PvGFf1cCB/WWPPXaV7TVNgwdvJz1791RFv5tTzFHeUEbSMzKld5/+MnzUGDn40MPkl7++RH7602PUmGOZEKPANceDuiKazhI1dL75cqa8+9FnqoykqKGZJNuNGisnnXySdMhCqa8qO/51X9Vh3A8aMECGDR0qPXv1kt69eksXVexztCy6dO0u3Xv2kRFjxsmJJ52ixu550rdXN7f8aJP4RNLKjEqPXn1k8g6TNW8xopOkY8dO0r17D+nTr7/0HzxSJu2wi+bvZM3zPL1NjT+tEz169JBpe+0l+Xm5UlJc5IJMVmWRekWd6NunlwwbNlzGTtpB9thnHzn80ENkxLAhWnYMXvBsjLN4Nc7y3IxIamauDB4+WqbssqN7/xsqE0q2I5L4FOLWqbMaxxmS26mbjBk/QXbacYJkpydX5Q+4z0ANnpTwCHY1fHv0GygTJ05whzawx8b5x1tDiehwCUlpUl5aIqvXFkq3Xv1k8k47ajkMUrWU+BIHyozXUCRKbrbWleQ06dilm4zXOjppwljJy0xRn9HlGuZFWlqy+s9SQ0qN3979ZKLm25iRwyUzNYxrVeIaApENtK0WyNp1GzS8vrL3fvvLAfvvK/m5WZE4Njw851/jyKAAAxSc0pelcmPYqHGy4w6TpGuXTiQkLFf1i2RK0rLqoc/t2rmT2x/GbGBObr6Mm7CDnHPueXLqKSdLj+5dnUzJycmVvM7dZOzESeGhGtmZLs2hoYOLk67a9saM0d/UL/tX8zp0kG7dukuf3n1kgMqU0WMnydSpU2RA355upjBL62Bmphox2Z1cPCfvMF46qTLv4ldb2rmsjhmZDRvWyZp166Rj126y4+QdZcyoEfpTONjCe9aWLlkqawuKZfCIcXLoj4+QnSdPlCStAC4PwtC0CLQcNA2kL40BudRM6dStp5up7t+vr2SmURfUS23xicb5CSRVw8nMynIzk3kduzrZs+OO27uTdYn8pjNZdUDeqmPmacSI4TJhwng3s8SBQsg33rWYpe2yY+cu0k/7p4nbT5YzfnaWyvafSg99Fm2TfArD0k+qnJZLbl4HzfdcSczIl2EjR8vOO47XOqCymv9qSCfX4oS+QOt/XkdJTcuWzDztkyZtLxPHjZa8LK0LGs/KMnPxLte4qQzAf3qOdNL83HHnHWXksMGSpp2OC7PSv36qQZ2jdSpN+7uMLJVNgwa5/nbwgD6SQpmFPg3DMIw2RFzQlPUlNVLuluxxAAiGDTMh4Aw3960G1ABjlRdLpVKxZirBTAvUiGEJzQpZtmqNdsZdpFfXjuHPNUAyCouLpVS7m2zt7DbvCj3EhpH5CiksKdMnxathllhLJ6V+2aek6eF49nlzv5cvZs+WlStXa18cLhHpzemCvXur4tzJKSG+X9wUTY+Go2alrFm9Qj6bNVvmL1ziDIAJEydKiirtKAZ0+BifRaWlUqb5R7w2XbBC3DU+ahxxwmNRqX4mJEtGSkSJjQlh/kSP+rIxfsOG9bJixQpZvGixLFiwSJJUSe3dp5/07KNpV4OCeLIqlUHcWuyyEI6nLiuS9QVFct+t/5Bzf/UHNazTVfHPlsOOPUb+7/o/SwarvDSczfPSx4ny0+/qSrTMN2zYIKtWrXIHIyQkJUsHVV45Ph+cwV9rfAgDH3EunCVLl2k4q7VOqiKoRlBqWqaGw2xViqgtFYF7NA2qKJVpOS1evEg+/3y2O0yEOoLx2LNnD3e0eIeOnd3sEXrc5lGI1HH9KCmp0LxT4zAlwS1XhZr9ax7rowvVf6CKaJqWO/m+uV/yKUxXeZm2C/Wvmqh7bQDJ2Nx/fRAepStStLHQ7TUqKo9zM3n5HbKqxQG/oeMwjKJinp0syWrcMNm0OZG4ap5zaEpRqf6doAoyeRF6aCRheO5AlhLeuZWkxlJKOOijND7tEJWmsjIpLmHmhxUBvHA9/GXTcEmPlqvWqYUL5suXc77RdJWrwT7CLfNLjKds9B4tQ9JMeCpMtDyZ2aiJMH9KSytcPV++YrnWmVI3G5uWnqkGUJ66LDcgFJa7lpaKieISrV/6jBStJ9Sr+tMeprG4sECWL18pGwpL3LsAO2k5h4Rh02aKVXYWl4eH+6iYql1+qivXuBL3MpWjyM2UJK23Nd9QB2FYpKK0tExKND8ZwOOVBNp9NBHNd9qyxr5wY5EsXLRIvvt+rjvwiOXHGMF9+vZVGd9bstRQijy+9jLSH8P2qR7VX2qy5nu96STQMA5ataSYlztq5jDL5WXBpuA/fBZnaRVr+07Q59CH1FUG+Of9j6F/LQONGP7rrxOGYRhGaxND4yyCdnbh0qX6xb5/cK2juZFOiBjWN8KKccMKE/zXHp4nNPzcXhj1X29M2aAE8dFLfaogblxlKR/Prvn56qOCkxhJT2Jl2svxr3+EBoQasmhVPIcRU+ejJjStqjzgJxx9jT0c203Gk173DEalGbnlWsQPD6as2WpCkklDvXFRxS4oL3GHbLzx9P1y0qlnyvKiZMnt0Fsu+O2v5PwzTyTQOpUaDGvK26WcPMD6IVKRh1NEGFjEqf66oFB3SInmO+G4FNaZr+RLWCcY2WYPW3XIMwYeXDz078qR9k0gHGYkWGxUfzlSFqSb+kGy6vPv8prMcPXWVb1m4jLH5Q3hEQf3p/stGtLFL7TfsN7U/WjCJa76lTpGXjQ7rkA8wnIgvGan3+enixxxrD3A8ARGLVttN1X1I/z0t7l6rOGxhJCfag9N4bkuf5A1fIFa8olwSTR5T6LrC7sJELxPVlhitYFHF3H9v/mxcG3AfQvTHoMQNTG0ZQ3JlVV4tYowv3kusqSuMudmf6Il3uoQYZvDfTxby6shaXJyAJ+RTKj7Hg074t/JccMwDKNNE3tJrYoGyqZT6OtxtRsyHjrLSIcXueI60xqg0wn3PdTdTYXocxMiyxgbAkq7U9zDY/M5GpvRW95XxvHsTsFSb4kuDrWFqtfjeX9Zgjt2HeOEo7AxD6tmdjRfiFe9yiwGCfms/iNXYo0LX41XNpx7IxYjhiWZzBiVaT5woiKvA2AfXcNG5gFfpC8sAw5NYN8FS9u2GzBAOOai0hjehKpyd0t9NE4cae8NM3dUucYnVHZDY6hhdUHRcnMHbFDXSCOGrzqn39YI9ZclRGpkqx9mzMI6EckX6oTeTNQS9Z+aDTMgHIb9GxZP12Y0zQTXoDuoR5Sjfq01Co2CB6uxQ/5owsmemoMlXfpsl0eUdX0QLmXJPXyPXI4BYV2IUfp9frq01R2g8xOv9UN14vIybTNaR8ix6NtcPXbhNSDJeNJEEAZGna+n1NHNqinPpm2oYGlQ2DVAvdZHbB52BPKTmlt/7SUCWgD15FdDqeo36ntuQ9FQtJyQ7+Tnpm253MkVnskBK/WVOWlkaWWT4qb3Issaep9rK/hv0LMIO2xfhmEYRtunzUtrFBjXMUb+ji0N7wwdGhcOH0lOTnb7k9hbwoED9XbaUZAeDkxgj0OKftZ2Z0NCbJk8qQXSiOKhcWYpE3sz2P/SmLQDyiXGNu8k+37ufFm9rtyFlZyaKvkdwqWIqKCNwkUNRbcBClQdcC/7GcMTEUMFsD4oT/auhHUiki/UiYbcHEXTY936uLxBMYz8HTvCEMN/G1kHamTL5yoKcWKSthmtIw0eLKgDV0e13YUn74V1tCVSSVQ16m0gB1sP5MembTmxSX0P/relfDMMwzBiSzscSrNur93CbAvD8VIqq1ctkf+9M10KmEVLTJXczp2lY374brSaT3Kzct+2sPI2DMMwDGPbw9Y5GK0GS7F4dUJpcYnM+ug9efW1/0myW5qYJBMmTJAe3bsJO8kYrTYMwzAMwzCMbQ3Tgo1Wgb1qFWUlUly4QT589025+ZY7ZF1BqUhSuvTsO0gO/tHBkpES7vtoztJEwzAMwzAMw2ivxP60RsOIgurFu5F++O5bWbRgniya/4Pccedd8vo7H0paarokpGXLUcedLFf+8TI1zsQdkGKmWeygcVt+GoZhGIZhtA/MODNaDKoWpxfyYvI/XHapPPLoo+4wgw0FhZKQmCrJmdmy+7QD5be/+ZUMHtg7PP3NLAnDMAzDMAxjG8WWNRotDsdTr1m3VgqKy6UiLlHSs/Old/9BcvwpZ8jvr/itDFXDjPfymmFmGIZhGIZhbMvYzJnRYlC1OARkzZrVcvedt8k777wvXbv3km7de8iOO+0skyfvIEm8Pk792iiBYRiGYRiGsa1jxpnRSvDy3MjXCLy6m5foJpplZhiGYRiGYRhmnBmtQTiDRk0LAtYu8ipqNco4Rt+WMhqGYRiGYRiGw4wzwzAMwzAMwzCMNoAtKDMMwzAMwzAMw2gDmHFmGIZhGIZhGIbRBjDjzDAMwzAMwzAMow1gxplhGIZhGIZhGEYbwIwzwzAMwzAMwzCMNoAZZ4ZhGIZhGIZhGG0AM84MwzAMwzAMwzDaAGacGYZhGIZhGIZhtAHMODMMwzAMwzAMw2gDmHFmGIZhGIZhGIbRBjDjzDAMwzAMwzAMow1gxplhGIZhGIZhGEYbwIwzwzAMwzAMwzCMNoAZZ4ZhGIZhGIZhGG0AM84MwzAMwzAMwzDaAGacGYZhGIZhGIZhtAHMODMMwzAMwzAMw2gDmHFmGIZhGIZhGIbRBjDjzDAMwzAMwzAMow1gxplhGIZhGIZhGEYbwIwzwzAMwzAMwzCMNoAZZ4ZhGIZhGIZhGG0AM84MwzAMwzAMwzDaAGacGYZhGIZhGIZhtAHMODMMwzAMwzAMw2gDmHFmGIZhGIZhGIbRBjDjzDAMwzAMwzAMow1gxplhGIZhGIZhGEYbwIwzwzAMwzAMwzCMNoAZZ4ZhGIZhGIZhGG0AM84MwzAMwzAMwzDaAGacGYZhGIZhGIZhtAHMODMMwzAMwzAMw2gDmHFmGIZhGIZhGIbRBjDjzDAMwzAMwzAMow1gxplhGIZhGIZhGEYbwIwzwzAMwzAMwzCMNoAZZ4ZhGIZhGIZhGG0AM84MwzAMwzAMwzDaAGacGYZhGIZhGIZhtAHMODMMwzAMwzAMw2gDmHFmtEmCIHBua2VrTpthxJKtXRZs7VjZGdsKJqvaHu21TMw4M9ocNKTy8nKpqKiIXNl6IG1lZWUufSbEDaN+kANbqzzY2rGyM7YlvO5ifXvboLou2Z7KJU4ja7XIaBNQFUtLS2XhwoUye/Zs6dChg4wfP14SExMjPto3pG/dunXy2WefyYYNG2TEiBHSs2dPiYuLi/gwDMNDe1mxYoWTBcXFxbLddttZe2knUHaU09dffy3ffvutk+WDBw+WnJwcKz9jq8Kr0OvXr5cvv/zSyaxx48ZJly5dXF23+t76YIzFx8fL6tWr5f3335ekpCSnbyGHuI5r6yT8Tol8N4wtAsINV1JSInPmzJF///vfcsMNNziFbOrUqZKcnFzZ2bdnSAOG54033ij//Oc/Xfr69esnGRkZlWkzQW5sy3hFh9nlxYsXy2OPPSbXXXedfPLJJ065p71YG2n7+HJ86aWX5Prrr5fXX3/dyTkU1pSUFKccWTka7R3qOTMzDLr+97//lT//+c/y/PPPy9ixY91AkjcCrK63LpQJef/999/LFVdcIffdd58b5O/du7ekpaW1C/ljxpmxxWGUA0Nl1qxZctNNN8kzzzzjZsyOO+44GThwoGtEW4twYwQnPT3djbC9++67snLlSqdw5ubmmsJibPN4ZWfRokXy0EMPyV133SUJCQly5JFHyq677urajrWR9kNeXp4rz/fee08+/fRTJ/9QWjHUwMrSaK+gtyCvMMzQWf7xj3+4mRpk1Z577ulmia1P3zJ4oxg5g26FroVjAoAVGH5AvC2XjRlnxhbFG2ZffPGFmzF77rnnZNSoUXLxxRfLzjvv7PxsTcIN5aRbt27StWtXt1zrnXfekaKiIqewdO7c2fkxYW5si6Do4ObPny+PP/643H///e76iSeeKIcccoh06tSpzXeoRghlRFlmZWW50WoMtOnTpzs5z7UePXpUGtpWnkZ7A70Ft2bNGjdj9te//tUtZ2RA+bTTTnP9u9XrLQ/6FsYYs2UMDr3yyitu5r5Pnz6SmZnZpuWPGWfGFiPaMGMZI8sBRo4cKeeff75MnjzZNRo/ArI14IUAMwG9evWSjh07uhm0N9980+1BGzRokI22GdskKPLIgyVLljij7NZbb3XXTzjhBDniiCOcYQZbkzzY2kGGUa4oQf3793ey/sMPP3RLVDHQkIGpqakm74x2B8uuN27c6JZds0WBJdjHHnusnHTSSU5WWZ1uGyB/GBhivxmyBgPt5Zdfdr+xTJ4ZtLZaVmacGVsEGg2Hf3z33XduxoyRchrLOeecI3vvvbdrLBgxW5uA8+liH1337t0lOztbPv74Y6ewsDxi2LBhbimQ92sYWzvIAhxLgh5++GG55ZZbnCL/k5/8RI4++mg3Ck0HaoZZ+wMZRtlijCHvUGg/+ugjNyjFciOWdDOq7f0aRluH+sxqlxdffFH+9re/ybx58+Swww5zM2asgPF6i9XnLQ9l4PuOAQMGOAON5Y3oWwwGjhkzxsmftlheZpwZrQ7CjYbB4RiMkDNSjkHys5/9TA4//HA3Fb01GmbRkDYMNEbZMFI5wZE9d6QdIxVlhnzamvPAMLwsWLt2rbzwwgvyn//8x82eHXjggW4kmj2nbUkWEF+wdtlwvFGdn5/vVgugzHKCGvIfgw2FFrlHnlq+Gm0ZZBWzZizR5aCizz//XHbZZRe56KKL3MoXZBX1vTH1GJlS3UEs2oIPqyXCBh9edWIZ9+o0Nmz8U24sZ2TwG7kzc+ZMN4uP/KGP4Tfvt61gxpnRqtBIcKzPZpT85ptvdgLtqKOOcntLvFGyLYySk05GbRjRYdaMEWVOq2Q2DYGB8dZYQW8Y7QXqP7KgoKDAnebHhnqUHWbOzz77bLcUBdqSLCDOtMdtsU16ZakpaeceyprBKGbM2FfIgBT9APs/2IfLaWom64y2CvWfJXIsjfv73//uZmCGDx/uVvtwdD71tzEDSb490S6q4+UMNKVN+Pv59M/xNDfsaHz40c7TnLB9OORN9fCbEnf6EMJCpxoyZIgbIGL2HiON2fu+ffs6P21J3zLjzGg1aFgIt8LCQjdKzhHLjJjvtddebp8Zy5cAAbctgBDAMWrDiPLy5cudcrpgwQL3NxtZvbBoKwLDMGKFlweMYDJj9sEHHzhl5+STT5Ydd9yxzQxOEE//yWlfjJy3pdm8lsannxl+nFdimgJ5hpwnzG+++cYpSOQnA1TIvLakHBmGx7cBBhWYMeNgCVb7/OIXv3CDSexdaqxh5h1LJBmgQi9CviATgbBw/tkNDRsjxPtleThLiQmb59B+Cc//Xv2zIfj4APEl7uyZ5xm0ZT/I0pywSQOOMHl/HM8gLeBn2aPT0RCQLeQtM/i80gPZw2A4KzUYDGcWrS3JdTPOjFaDxoaAQAnjXV+cVjhhwgQ55ZRT3CeNZ1sxzKIh3bwckRkzZs/IF4xWpuAZUfZ+DGNrgo5y7ty5cvfdd8vTTz/t2gBLGX/0ox+5trClFPVo5QP4G4cCguxi8IQOnv0LWxvV0w7IbZQ69ml89dVXbnVDU47C935RrjDQyE9GrlGSCI/BKMKGtqIgGQb1n3bByYy82uOBBx5w11ntw75YZEFDlXrfvghz6dKlrk29/fbb7lUTDFLNmDHDbW/ACKTNMXDrt3lAfc8gfMKmbdFWCZslmMgtv7edF8OzUocwkWE+zIbGH4dRxnkBhM2AMi+aJ1x0Fw5HISzastdbGho2cadfYKCa+OJIBwM5GFI8g2dzyBD5Ag0J2+Pjwwmy5C35TpiU7cSJE9vUgWxmnBmtAo2OURUa8f/93/+5mTOmks8991w54IAD3O++sW1LIARwCASW+zA6hMLCe57IL5Z2ITC8P8No73gFZdmyZW5pM466jlF2zDHHuBHMLVXfvfLhHaAsENf//e9/blAJxYmXzG6NB/dUTz9ymYNaUOo4lQ5lidlNv8qhsWnHP/mJ8Y1BhnGOccb7Hjle3ytN3q9hbGmor/TLnCZN+6dv3mOPPdysGUtyG6PM056YBeKE6meffdaFiUHGMjtemMx1lku++uqrbtkvg7SsIMAY8SsJaoP2Slx/+OEHeeONN+SJJ55wr+pB5+IaRgiDv4T91ltvuXRwD2HzWov60uHlAW2V8DmpEoOS+2jL/M4ziD+GFDNoyEjaM+HWl0fcj+GFsUfYvKIAowlZQdox2NirShrIQ+LNb02Z7cI/s/UYft6wJK4MiLeVA4rMODNaHN+o6eTvvPNOefDBB11jO/jgg90+MxoZDbwuwbM14wUXQgHFlA2rKEGMrCEwWCPtp/K3tMAwjOaALMAxg84+M5YzMiq6ww47uNPORo8e7fxtKVmAckPc/FIjjDJGsh955BG54447nJFCp84hAMz0wdbSJr0S6pdCrVq1yiktvHuSE3UpL97FyMvAmdFvqjzyypRX3BiBR5lD6ePI/ba2vMjYdkFvoR5iFHAyI4YDM7wcXsY+s/oMJg8yD5gNw7BhBo6w2dLBIWgHHXSQTJs2TXbbbTcZP368a4MYIfhF/tBOODjHz3TV1DZ4BroDbZV7OImQsHlH5H777ecMyilTprh9nxiBvMIH441lgxiZDA7XFraHWTEOcEOPo62iv3F4E7NODFhtv/32Tj7yfNJI/jDgUt+JiMSdvMFwZD8fxioDdbzQe+rUqa5fmDRpkssbBvJYbcGgDroRcsTPLDYE4sDzMB7Zb0Y4GGjIIJY3crALbGl91Iwzo8WhITAiwogK67VReGhkF154oWsM/N6YxrU1gxBDECMwGO1i+QFCmXyqT3AaRluHto5SQv2m80Y5YMaEI/P33HPPOpWP1gBjhPfgIKtY8uJHmRndxojEYONdjBhnLGeC9t4mKRNgRhADjKVQKKMohswWoiT62S0UL5Sl5s5u8kwGnNj7wSAUyiIzB355IwrXtjpYZ7QNfLug3jNrzGof9BQGkQ499FBXVxs7iIBBxIwWxtCpp57qtnPQBjCMqPPMSGMcYIwwm4WRg+zBePCvnoheigjegMSgQaYy24RRw4oknsMgEvdilGEoYbTxiX9W6RA+xmBt71n1+cCA1X333Sc33XST7LTTTnLWWWe5e9BX8IPjOwM3nDiNHEGWMrvFjBR5VVObJv7ATOFll13mdB7OIMCY9AYjfjCmiB9GIDokRiID/qNGjXJLKPEXHe+68GGS3+imyDtmEjFUKRPKojHhtQRmnBktCg2AERFGJRglp8HSIHiTPgKOym+dcNXsGQIIIYqwRDlkpIoRbUakEEyG0V6h86aOo+ywbwOHbGDk9fjjj6+cjdkS8sArIBiL9957r5shYxSa6zvvvLMbHMF4YGnN1mqcoQii8LCPBMWNfSsocswQIIcw3hgtZ3S/ucYZ99E3MBiFEsryRhRQDDWMdfKbUXfv1zBaG9oF/TDGFDM1tH0OKmLWjBeoe8OsofWTvapXXXWVM1ww8DDKPNFh0C4wSoYOHeoGg9CdGKilfdAeaR/RRiH+MTAwnBhUuvjii12bZfCDNHgHfNKu/Ot6mLWmbbNSh7+j3/vlIXxgkOraa691z77yyiudoQjIa+8IH30F2YhhyPtrOd0S/aWmA38Im3uIAwfEoR+efvrpTjf0xpx33j8QfwbSWNGAoclSa3Qn768h+HhQDhhmDL7hyDdm6cgn4rClMOPMaDFodDQmRkJYEoTSQ4VnRIRRF9tLtSk+Lxh9wjGajFBmNIeRHASQF7iWZ0Z7gjoLjL6+9tprTh6gkKOAsHyFZY3U6cZ0rrHEtz0/Mrvvvvs6BYF9cMQNxYxZpK3ROPNpZ3k5I9wstWIpFOlnlozfmEVDOWTmLBbGGVDW1AuUI05lwzikTgDKF9fx05xnGEZTQG+h3lEnWe3DJ4Om7DPDQKN/bkz9ZxAK4wn5wWm0GFjUfW+A+LBw/M3zmSFjZop9XRgvDGrR/zOrxmyUfzb+0RUeffRR9zJsZn68oRLtfNhAfGjLGFIMAjPbxiwUK5qIm4+L1zXQQa6++mrnl6WSyEd0OZ7j4wH+Gb5dY5ghO4g3Sx8ZiPFhA88nD5588km54YYbXHoxzrwBWt04ImzuQVbxbPbtYfSSZgb9o8OuD/yRz+QlA4PId05uROeiD+BMBJ7f0PBizZbpCY1tBoQAS2LY3MlILA2Wjp9RFRrZlqr4bRXyA4HAyDH5RH4xgo/wooNA6JFvhtGeoN7i6PjYw8RyGpbbsM8C48crD1sa2hsKCiPIzBIxgl1dQdhawdgk3aQfJQllNHrJUktAmfMMRtZ5Lsobyij9BUuXrH8wWhtf19lzySmynECIEs8MOnu2MAyolw2pmz4s5B5LGhn4YNaNe+tS/PmNZ7KlgYEgf+AGR/gzq89MGb8D+gD6AQNLtCOMprrkKdf5HeOPsDFqeB6DL15Pq97mMbI48ZFnYJzWdYAI17iXeCBHmIl76aWX3EwXcfbh8slzyWeWjzNLOHnyZGcUEUZdcpffmbljDyx9yTPPPOMG/tiPFh3v+vD5zMFrGJwYauhbt99+u1s9wG8+n1sbM86MFoEGgmOkiKUyjOzQsFmrjDIGNG6jZlAKeX8KwhaBQ/4hODm9CRojgAyjLUDny9p+ls0xU8LeImbRmYWhPtfU0W8JfIfs3bbU1kirTzdKH5+US0uVjVfw2NjPoQgMSmGUoWyhhDK4Z7LOaE38oDHGFMvyMB4wBKifjT0EiLCov9RllH0GIujDGzLA6p/BEjsGjZgpIgz2ZnlDBJjVYskhYdN2kK314dsdSwJZvYAhxX0siyR+/O7bHUs7We3ArBIzWhhczITVp78Rvt8/inHqjUofLp/4YTYOx3fkAIZfXW3eG23kCeEjI7gfo7KpkHes4OD5pAtdC0OYsBtSVi2BacdGi0GjZjM5x8VSwVHCjjjiCNfAoa6RkaZCo66rYXu8v4b43VKwRptlRUy5s+yAfGRPDGwpgWEYTQElnwEGlqHQUVO3WeZCR0+njGsLEA/kUrRrK3FrDVBMtkTaUQ4ZkWfmjpkJ9sKwzMjv+2vLctrYeqCeUedZQoisYpktsotBJGbOmG1qDL7eYjRh3Pz1r3+V2267zRlZ9c3y+LbHKiNm0GibGDeE4wctcCxHxEDDoPjLX/5SecBHXXjji7bG8kbaH+2deBGeH5wBnsesGcYb8WDguD684cbyZPwTH+LFKbA+XTyf5/iTqclbdB0ve2qD+7kPo4/wMVrpU/yS6LrytCZ4FmnFSGUlB7OUxPepp55y+4x9Prc2ZpwZMcc3OtZJM91O42Y0hHXBzATxeyw7ff8834i889ei8b/57/6zur8tCXmDwGCDLssOWEqBMGZjMMssEJ6xzD/DaCl82/Kju4zMopSwYZ3jnf0+Ad+Zt0W29bbWGvKR8FHMkHeM5qPEMRjlZ1lbIw6GASjqLMNDVnmDhOWILPuty2ioCS87mNVh5QCzRzfffLM7+ZE6Xled5l4cRojfnw/IUuLo7yUcjAkMCfQtDl5jUKMm/cdDWPxGeny6uIZu4dsb9wOGDw65zTJCjBf/W30wCOcPAmHGj1lIjzc2We7ITCDGmV9iWR88H6MM/3yy7wwjjzg2ZeCauJD+ffbZxxlpzAyyyoPXPkXP9rUmZpwZMYeKTGOjcjM1DDQiRp8wOBrasBsDz8RhxOC8YKqpUfEbjkbnR6C8/7YEQgpFhdkzhLNfFsZsZG1pM4y2BHWUzpL9DCjaLHNmXT+DNGxsb8tGWU1Ym2sZyFcUIj97hqLGYBRH+zPI1xbls7F1QR0DZnEYBEXhB97rxyFALH1DgfdGUkPwfr3xwwwVq2AI2yv99dVrZGS0nIw2zMAbM/6TGSQMuPrC9r9Hh+3zAHybwzBjJpG/McwaI7PJM2/8YTBGzxiSHxwWxymwXMMv4Tcmf9GLuM+faomRyv11pbsmSBP5yrH8vH+XcsKgZvaM+FXP89bAjDMjplCBqcgIODb+0yDZEEqni5Dj98Y07rogLBwjPQgQNpJzMhCOUS+WxkSPuuIYZWKECUURfxzdynQ7whKDsq1B3iEw2LBKvhJ3BAbLJCBamBpGW4L2RkfJHgb2LLAvgGsso+E0LJbUQGM64y0Bcd7Waekyok/gGRzCwr5kRujJdwaiOIzAK12G0VJQ3zASWMLHDBe6Avua9t9/f/dJ/WtqHeQUVPpxZsEYfGCGGPnn631dID8xYrw8ZXALY8ffy8E9yFO2jXDYCO+LZLbP+6kNfiNMZsu88cESRAZGCNeHzzHz6Eb87n/je13gBzCc2KdHXEgDL/HGKPXPY1UVhh/fWV3FLJi/tyGQnzwD0PcwSutKc30QFuWN/CEuHK2PHuvT35qYcWbEFBoWjY9OFQOJRokwYdaM2TOMicY0vtqgoRAWRgovOuSN9Uzp80xO/uGlkX/605/c8gFGqvCLcEBJ5CQe1pMjhBmZveuuu5x/ZqUQGm0J8orZMw4HQRCRBuKJwuLzwDDaItRP2hOdJoMgdMR0/uzdQJloTie6pYiF7GpvtFaaqS/UCZRYfzCAP0GO0WvvxzBaAuoehgjLaVesWOGuIacYGEVpb0o7QP/hPk4h5P1jv/zlL+Xyyy93xpk3dGqDvp36zmwTs8fIUu7BAPN7xADj59xzz5Vf//rX8pvf/EZOOOEEpyvUhdfDmHFiwBedjWsMnPl7CZ/nsxTR60WNNZ4Ig3bMJwYOz8IA9noLg/gYwUDafJoa+gzKhXvw718iDU2REz69DBChrxIfVlbxPk6/n6019S0zzoyYQuVGsPHiRjpWZn7Y9M8SJmhMw64NnoGw8Kd6YZTRkDgKFcHEC64ZnUIh5KWJGGwIAA7TwC8NmveB/PSnP3X7uRg54iWTt9xyi2vghN+ajbA2yCs6DIQls46shSZexJG0Yai1RwXX2PrxnSOdP0cdf/XVV67NchgQs+iM8kIs5EFr4tNlxB5fF5BzKEfMVqBsIb9ZsoQCaRgtBfWP2X1OaWRJG0YP7/RjzxS/NaftMyjFjBYvn+aTAeuGyj5eoUOfT9+P3OR9p+g79P2EgWPZJfoMJw5ysiRGVF0gi0kPxhF7vjBC0Is4GZK48izCx5/f48ZzvPHUUAgDQ9KH5Q09n5f8zaw4+PRAQ/Pahw3MMFbfL9cYeDb3sbTyxz/+ceX73phFRQb57TKthWl2Rsyg4lKB/f4SKjZCiFkfBAaNprGNuyYIB8PkxRdfdEsZeVHsBRdc4EanGFXiBB+EFAcO8I6Sxx57zC1h5Fhc3qWDX4xFlhUwzc5BBQgIGiEnygECpCEQl4YKkqZCPrJZHoMTAUrHgbBg9swLFMNoS/g2wXJjZqtZNoxCwTtsOH0MrN4a1fHKEa9boa6geLE0ns3+LH+Clpa3xraF78MZSEKfoJ6hxzCDyxJb9AT6WVxzoG7j/PPqg+dhbLDChz6fv1l1QLyijRJobNge9CPaF7NZtLfdd9/dtT/geVxnYNuH6WepGgpxJK7+fvI1GlY1+SXL0WHX9wz/O/tUvU5J2AzgNCb91SG+3M/hdRi8Pix0TQzZxqS9uZhxZsQEKjEOownDgWl4Gg2jD8z6YFQgPGIBDZDOmsNGMPwOOOAA9yzCx6hCoCBgMNQQboyE8fZ5fsNgIy40ZA4n4Lhmlg3wG0K4vn0wpDFaEBIXntFSEA8EBhtfOUSBNPFMbwBXF3aG0Rag3lI3GexgEIElLWwMp9PDOPP1uj1QXRb4DtuIPT6vGcxjkI0lUYzcI8NRJJHthhFLaM/UO2b4Mc7oX4FXfSCrYiWn0FG8qy5TqoN+4ePEKYfEiX1QBx54oNseUj1OjQnbp5cVQwycobNhQHHwGAZJ9DvM0It4tpd5/np9z/Dgnzh5CC9afmKYcQ0aEneP9xf9iWxorj5EOMQPPZC+igFF8gOdli0wxDVWemx9tI/e0WgXUGlZm8sxtDQ6GjwdLC8KhOhG2hRoNDQOjCnWhRM2y198Y2cq3zsaGc/DP0sCWOuMkYhxAxho+GPpAkojG2hZbsBeB39vbfh4MMKG0sASQy8UogVPLGF5KLN+OGDEiX19pC1WnYdhxAraEO2D2WhmzaijvGCYGRGW6fI7rj3SXuPdHvD1gjrC6gaWNiJTUVKRdyiS/N1SctbYtqAeUd8wQBjsZfk139EJ2G/W2NMDY4Ef+EV+PvLII06nYpCCbRvIT3SX5sQJ3QX9BsMMXY2BM9J6+OGHV8pm5HVdz2hM+4vWpXg2VA/blwOusWH7sMg3wm/M/TXhw2MlFrOJPIPJBmbP/LLJ1sC0OqPZUFlpFH4KnpFyKjRLGhl9QsD5xtdUqj+DddLsG+Nofn6LFgDAKIrfHIqgwehiiQL4Bs2s3tFHHy0nn3yynHPOOXLiiSc6oQzV48qzMTgJk4MNWAf+8MMPy5VXXumWS7LsgHjgWgLiw9p3jDOMXoxB9mGQF6S1pZ5rGE2B9sJBICjVLIthBJK9En6gpj1jba3lQM6Rv4xW8y489iujjLKfBJnL0iLLfyNW+FkQ6hUrUejHkV1sIUBWeUOouj7QktCfEwdmazi4DOOJfbonnXRS5f63puLbDoO6GH4MWjMTd/rpp7uVOX6vmvfnDR5o7HMJg3t8mOANT48Pm2vRBmG0n7qIvoewfXk2B8Lj+ex9ZRkpf/McVmtxMJH/vaUx48yIGRguLAugI6VBMhuFUKFix6Iy0ygYOWWanxkwTtWB6oYZsH6c0Q6eS0fPCAj38Dfh4BiNwmDjFCUOEfHhRYN/nskMAKdCYojdc889cscdd7iXPTKai8Hol9u0VKMlDzFEUXDZFIxxhoBlWSb53VoCwzDqgjro2wydGUvR6DBZlsvMGTPVvv0ZRk34uuEPkmJwjzrEElk/swEm74zm4usQdYsZKvpVVqmglLPPO1r5bw2o5zyTbQvslWcgmAHZU045xRmL0UsOGwtpJXz0FQaWOfyEmTLCZlaOdPuBaw/GE/c0t61Vz0P/N2FHw3XvGktT76sJ0s3kAks9yRfynRVbnF3AIH31eLcEZpwZzcY3eiovB2zQQDDOWL+MQOH3pgoUD2F6QclSF97YH73RNBquIdQQuPhn1B5BS5yq++capxPRAGsLi9MnOZ6f911gfHLCEOH5JQ81GYexhGfgEBDsxSBfyQtmJDBUGc0hnq0hMAyjLqiDOAZGaCuMSNM+GJ3FOGMk2jDqAlkHKEeMXvuX2KI88xoRlntRx2qS14bRGKhrDORykjP1ikFWDBZmzvz+89aC+oxjkPu+++5zhgDvR+OYfA7qQI9pKj5sHGnleHja1FFHHeUGpnlXmtczouFvr3d52e6v1wd+eF70yh4fVvTfwDVvCIL/vT6i/fmwYoFPH4evsMIKmMFEB6SeRKehpTDjzGgWVFAaFIYC0/CM+GBEMCuFgGO2h0bnK3tzIAw6agQKwoq/qzdI4sPoF9P1GGcYX2yk9cupqscj+u+a4sg1RvsZQeEEyPPOO08uueQSOeKII9zMYGtC2kg/S0XJV4QeSjCzE/xWU/wNozWhDlIXMcoYNKAtMojCsmJmQoDfDaMhMBiFnKVPYTaWJfMMvFkdMpoLegv6A1sk2DeOkYauwgobDgKhzrVWn0p99noUBgCv/MEo4GTpffbZp8ZZrcZA2NzL4Pmtt97qDgM59thj5eyzz67RMPPfeWa0AeVpaPvDn19VBD4sfz/hA397B9HPqotog457mpNH0RBP4sIqJfRYvhM2K6U4gZi/eXZLYsaZ0WxoDCytQ8BxUAWVmFFPXmgYa1D0aDCEXx0aDA2VaXsELiMcCFiUQgwaaGzDxT8za7z/gw2iLH3E8GyNxhkN8cCRbpY2IlAReuT7jBkznOJS3VA1jNaENkEdpf2x/IwjmmmPfiSa2WZobBs0tj28vENJZvaAVQrIW2bPqFetKXuNrROv1LMvFn2B/pQ+lJdOMyALyLTWwOsT6FD//Oc/3eogBoJZIYS+0Ryjg7BxHMx04403OgMNw4w99hiADGDXFja/RR9AQp41Jk/wH22cVTd4CdvrLaS/sflN2D595FGsVmYQR8LEKEbv869TYNUU+RedppbCtDmjWfhKzGjml19+6a7R2DCIWMbk/25NGH365ptvXAOicTFrhkGHoIgWDI3BCwD/fUtA3DFOe/fuXTlrhyKMcYYyTLx8h2MYrY2vf9WXNLKJHVng9w4ZRkOgPqGksrQIAx+oUyhHDErBlpLFxtYB+xfRFdAZkE0YZX5JI3pLU/WFhuJlJs/icK9bbrnFyUwO6GDGzG+daCoYPISPUXHzzTe7fcAHHXSQOwQNnYjn1qWfERd0KK/nNdYo4R5WT/h2ytLM6PSQPm+wRftrKMTH9ynEM5YHuBAX0s8JmV5/JD/Z589geCyeURdmnBnNhg2SGAcYaFRmGiAHgfiXzXKtNWHNNqNEwKgTR+4jgHwjbgrRDb6lG2VteMHFkkZmJRnVQjhxKh4KCzRWuBlGrGE5IwM1yAXqKLO8LMe1umk0BuQ1fQeyDgOf75ymx+FMHIZk9cloKr5uobPQd2KcYaihK2CceYOkNSAuxOFf//qXW3l04YUXVi5lbA60D8Lmfa6czPjf//5XfvSjH1UuZawP7iePvKEK5BHXG5o36CfkrQ+LfoCw/P0YwxhU/I4/DDTg77rwuhz7wHgG/v3ZAYRdl8HZULzOyGFyDIbzDAxJ9r2ylaSlMePMaDZ0mOwFYM02FRrjgVO2mOXxjailoeHgGNmg42aElbiwDNCf0tje8QKN/GU2EGFE/jKKwx47hFRrdSiGUR3qHu2Pg4FYekabo7NkKTAHgvC71U+jsaAYsSQW5Q4Zh2LE8kbqGmwNst1oXbxewiASA8tewWePoz+lsaXrFXFAHjKQfP3117t+/Kyzzqo8/IP63lR56eOOMcXJjBhn7JPnOH724BMuaawevr+P67Qv/DAwwiAbeOOsoXmDscUsN2ExUE5fgIFDuMCySr9k0J963Zjw0T29QYecqGm7S1MhTsSH2T1WglEe5AP6JStDfFxbCjPOjCZDxaTRLVu2zG2U9JWVJShUZi8AWgue7febMVqEEEDQ4ogLbmsAYca+M5Y3kv+kmYNY2GPXGp2KYdQE7QsFA8WZEWDqIUfos2fIG2etKQ+M9o2X2SiHjF77vb4Y/mzKR+6ZrDOaAvWKvpNBZXQFfw0FH8OIetWSdYtnEz6yktfysBScUxP33HNPV88xAohPddCxvIFUG97wxN/zzz/vXjTNSib2mbFMmLBrMvwIM/qYeP/JLBsD7eCXf9aHjx/hcdo18WYwGb2FsPzz6RfoI/iOX2bCuLemtNcEB5twH/6ZYWfg2hu9sYBwcLzOwM/KkQfsUyRNLYn1lEaToAEhYBi1oKPEIELxovLS4BidaSl4tm/80XCNJY0se6HRImQZCaNzh+oNFv8IA+KOkGwvYHT6E6V8OTBzxtr52vLGMFoSX+9QdGhLtCvaGx07o6XNXaLTlqguR4yWwfcnjFyjeDHoh+xjhQazs8h6k3dGU6BuoWTPmTPHGfko9NQz+lX0Bmipds6zcAxqc2Q+Sxo5Ln+//farNACq4+s4/TyGgTdiqsM1wsZgYW8U4e+6667y85//3C0hrO0eoF299dZbTnfimo8HeYIBRZ4xAOyNoYbArBmrmNBRmCXD+PWGGc/AmOI619AlCZ/41wf34w+jFiOUAWv/HrhY4gcT/ftlfdyYbWXWDmrK01hgxpnRZKiUNAw/a0PDwGEQ0VhaAp5JA6mpQXCNeLBUgVENhC2j9kx18xsCIBqu0bgRYKwj9tfaOqSf/GXmzAs5/143fmuo4NzWIJ/aQ/m2V6h77DdDHtAZ097o0Oh8twa25bqDTNkScoU8Z6Qf44xBP5Ql6hYDghxysLVicqrlIG+py9QfjHzqE7ILOcVAUvQJgrGG5+AwDB999FE3oHrCCSe4l15jFNY2Y+brA+8o452rGAbEu3o9IWzkLsvubrvtNtlpp53k+OOPd3u9CLum8H04LNe7//77nS5BOB4Oc2LmGt0OQwuDqz5Z4ONF/mLs4Z8Ts5k98/fih1lCXrOCUYouybNrSlc0/OaNa/obdD3iN2HCBJf26npec/D1gLpBPMkXrrHPHxnky7MlMOPMaBaMojCaw6gHjcLvMfHT4PU14sZAo2R0h+fRMGjE0dBIWb+NQEAI+YMziFf1xs7fxBlFkqUNTPdzraUaWiwhTxFqLNf0I0UsJ2M0h1FAfq+eXiOsqyy349OIHb6uUffotGiDXKMNMoPuZ64No7FQj3AoR8hoFCP+RpFk5gF5Hcs+Zkvg24+n+t9GbPF1CjlFHfL5zaAyg0nILepZrOsVz6G+osOw3JBTljk5EQPK60s+bjU57kW+Er+aDBDfFtBnHnvsMWdMHHnkkW5w2utK+MFFh+t/o03RN6LDkX7/DNodhhXXGczGQPNh1IYPm/2hGHMYnv6gFX+f/xw3bpzrJ3g2ZYJeVlfYPp3Ew+8XZBURg9WxxutSGLf+PZ3oXEwC8Oz6DMnmYMaZ0WRowF4ho4L6SswUMMSy0tIgWTKF0LnmmmvkhhtucDNFvnHwO3FBGDAihmBhGt/PLhFXj/ePos4SSJTHkSNHut9iLZBbAuLI6B7GGYIX4cQyBwxWv9cnlnm/NcDoHSOObI5mGavlUeygLeHohP0sOnlLHaVjZwabOtse2lZNRNcT0rCt1R2f3i2VZvIcGe0Ho/jbK2YsbWyv9Qp8ntJ+6MtQTJlBYFYAmc51I7b4PGfWikFN8h39AGOGpbPUp1jXqehyfvPNN5078MAD3R4zv4wSP16WVnfg+3hmn/ygrMeHz8D0vffe62aZzzjjDLesnPtJH368qx42oMchqxn4Ba8zcY1DSgiTdofxhyHlw6oLv/yPAXtWMRFvf4+PE++QxUAD9DH0N/K/trD9c9l7yhJ64sueMC8bYl125BFhY7x7g5V2yqsPyIe64toczDgzmgwVks2ejHb4v1HG/PvNYgmN4N1335U//vGPTvg88MAD7mhYrtN4MFCY4uY9Hn5ZAkKP2bPohsN3HIKOkSsE0qGHHlr50kkvkNoqXvggLPzePtJDHjCqRXlAtNDdVvFlTR1577335E9/+pN7wSd1BCyPYgf5jKLD6CuDJECnTv2MHi1tD/h6g6OO+O/Vf8NF/45r70SnJTptvq1U/716/sQa5DHyDoWU2TPqEgoSA3WzZs2q3B/TUs9vaZDXpGP69OnyxhtvuD7tmWeecUvtGUyywbbYQ32iT2AgCSOYvKU/RW9pqe0YQFuhnF944QXZfvvtZezYsS4exAEDhsGt6o76TR2hvmMUYRwxIEsbIB3g6wbGyl133eWMlYMPPtj5IVwc9cg7HzbfMYT4xMjhUDdkNvf5du3BeMKIQm/iRdncz+8+DtFwL+2WQToMYPKWGUJ/4qHXsbgXwxidkVcHYEjSTzPojj5HODXhy4+9eqSNWT1eEYC+R/ixxscD44y0+HyhLMkH0lNbXJuDGWdGo6Fy0qh8A2GdsF/LzOimf2ForOB5CDBGVRAiNBAMMISQb+A0Ujo3lgzQ0GmoXij5+PpG5eP93HPPuWWPU6ZMcY2rJkHTVkEIMZrMZl3iTfwRFAhvaE9paSkob4Q8o4nPPvusM8p8p8RvlkexhVkM8hfIWxRqOlzqqm977QHiSnuK7nCZzaAukRZGTf3Sm5r8tneqpwd5SdpRQnzaITr9LQnhI/Mx9FGeiQdKIoNR1Ln2DAcwXHvttXLFFVfIb3/7W7nkkkvkN7/5jfz61792g5Asu4vuu4zmQT5SfxhE4jAQ6jL5i9FP/WJ5YUv0CzyXvfB///vf3eoeZpTuvvtu+fe//y3/+c9/3GdNjhdH8/6zG2+8Uf7617+6tohM9UsvPRhZhMc+Noyixx9/vDIMwq/ufNg33XSTG7CkDjL4zYEdfoklkBfEnQNBjj76aDf7hR4WbUCRf15mcA3/fL744otu4IHXKh1yyCFuoJzwovPXh48OtvfeeztD9PXXX3d6nA/Ph43jWaSbsnv66aedPCBeHAaCbG6JsvNhMjjEID7x4BqTEl6XwMWahN8pke+G0WCooBg/Tz31lBvho0HTgU6dOtWdOkQDimVDQSh99tlnbtQGo2S33XaTY445xgkqBBPXOdSDjbU0coQCM2lsFPWn+NCw8csIEXGmYfPuD78npiHx9Q0RJfSVV15xo28s4/RH4PJbtNBsSVAYEfTMAFIeGKQIQr9EoCUEVXshupwYqbznnntc2dMJM2LJ0cKxrqPbMuQ1HSZ5TadFvtLu9t9//8pTRVurXTQH6gtLhxiFRvnHsGcZLPICuYFRgCxhhBmZxIg2CgWOvxk04vf2CAoR6aX8SDvyk5FvlmChuDGKjwLEyD3yxqcdA4K+gLRHK3axgroDKNQciMAzeT6KEv0NA1TQntoyaSK+tBk/4IiiR39CvlKXdthhB5c+f9S4yarmgw5APmJgcPgFdQkDAD0CJR99gToeK6LLGcOMQULaF/WYdsWJigwq1+bwgwFP+2NAGZmKoUN8fX1g4JqVRBhc1CVm2F577TV3X03hEyaf/ObDZsYK+XzUUUe55Z3e0PEOkOPkFYOc1FVmGhmI93KdtHrjifzF4COcU045RXbZZRdXx6vnLX5py4TDfj+MPuQtg/wshYzuMwgfR5lhVJIGVj3xCgI/IeDjGmt8uMxsIxeJF3mB/ojRRrxiWW/AjDOjSXjjjD1gGE2+Y542bZozkHwjjQU0DCo+4SGgGJHfY489XINEmWB6GeWJaffDDjvMGVuMLNHI+R1FCkOGJYwIJgQXYXCKkd9E2tC4egGxpY0znoNwQHlC0DMCiPBDeE+ePLlSuG6rkD/UUYxXRgo5vYo8wbExmTpKHTFiA+2LTvvll192yqXPZ79cBVqjXTQX5AsvbCUdXq5gcJI2jBdkHLM1KFsMiuBQRPjk91i/CLU1oK0ASscTTzzhDitApiAnUUb88h3SjnGKzCE/fPrZe8HqCZQrZG+s5Y6PH/UK+Y2RRttGrnNMOKsf2kPdisbnEUul/KwBA0fMrrA8mFkGlqax/M2vENmW5Xms8HoJ9ZaZF9os/SgKNsYZS+ximdfUU8JiJgtjkH4a2UhbaoyjDqBjUR+QqX75JWnB2PvLX/7idB3CRg/w+lhNjt+j/2ZQl09kF8YZn4RbvU3xN/oSYSMbGOxEj+Jv8pW0IRuRh7fffrsb5OIVAeyto63W1t/65zBzybPpszEYGXyhTZB/hE1ZIaPIS2QyAxe8IgC5Q7pbun0Qf+Qhs558RxaSNr+NhzjEkjgVfDZfbjQKqgyNkdFlRkVoqAgPBMZVV13ljB4EHkIgVvBMOi2mvHnPB/taaAwIPwQLoywYSDRwns0oLyNDKBbgR3tpVL5DZMSVcKsLobogDNKOIGTpCY31xz/+sVx99dVOMeH3WDfS6hBnHMLqoYcekosvvtgpT6SRkSSWyNDZbKuQN5QDI2yMKHJ4DHWV69RT6uzll1/uOgyjeZCnwFKaW2+91eU1sy4ol4xoXnjhha7Dhca0sy0FyjEyhrpDZ48s8Qodf/u256Gt4/idgRGMfhS89oRPD0oeshzZxjXSjSPd0YqP90+avQymjDk0gJmHWCtJhE+YyH2W/jEoxswSo+vIXQbkUDDbI+Ql6YM777xT/vznP7vZDw6oQo6Tp6Qt1nm6rYKSjw7Ai5/pA9ATULIx8lne5w99iFV+U76ERbtiwIP25NtPQ8E/bY16wv4q4ko/BoSNvGWQHGPJ16XGQHrRp2hPhx9+uNOhCLd6Hvh4IxsxjhjwxDDDYPNGFAP2DN7wndUpe+21lxtErym86hA++cMqKF6czewcOhr3o0vS5hmYwY0aNcqFjWFEedYXdnPxMghjk8FeyoN6g/w577zzXBxwscSMM6PR+EbEzBSNmZEOv2Yb5YxljbE2zjw0EkZnmLGi8Xrh4A0tHA3Hf8doobPDL3FE+Hrlid8b26h5PmnfksYZEHeEFULynHPOcQILY4ORNQ5N4XNbhTKgE8Y4/8c//lF5qhMdMQMIP/3pT10e+aUQRtOhHgKvt7juuuvc8lHqJYfVMKp56qmnVhrBLd2BtiSkk3oFpMO7bQXSjiPNyNfWTLuX08hcBv84cZWBOuoVMpjBloYqgG0N0oasAk4hZn8RM4Qsl7r00kvdIQrkN85oPt44+7//+z9nCGNMYJgwoMwiMuRWLI2zaKJlSFMhXrXVBfSSpuLbWH26i5cBOGQ+BhozZCyt5DeMRgwmluRGz0LiGoIPn4FntqkwS0V7IG3ok4TJyYwjRoxwf3O9tfQt4nX99de7esJKEdxPfvITt3ePAZRYG2fW4o1G4xsayi7GD1B5aZhMc0NDG2NjQTCxBp99Q4wgMTrjR+Z5phdcfMcRH5ZXMQXOssfoUe2WimNrgTBAKcHgIC0IKgQZI1tAmWxr+DSzD4Z19Chw0ctAEP50yAh//G6LedQSkKfUPTos2iD5jaLDgIjvcNszxB8lAEf62nt6GgtpRt60lOJaF/55zMYyus+AHPFh5Jp2jnLdXtsyaUPJJA0c5sTABmljBtL3pUbsIG8x0Ogj+fR1Br2AetWSRMuQpjriXxs1+W+o8227Png+6SDfqKMMzp999tluIA7HLBInJ9JO8ev9NxSfPvoPzhVg4MWHy+fJJ5/s9DlvCDUkzrGEFVroFPRpgIGKYdqYNDYUM86MRkPDZGYMZYxOxTdADAW/36IlKms0vjP2wrUmfBwa4re94dOCEPPGGSAomCXcFvFljKHAmnVG9Ni3gSFPx+vziFF3nBEbyHNms6Prnd/LAFtTuzO2DNQhb/AzCEifg4JEH0R7p223dJ/TEkQreeyJxuBE+WM1iJfr7TFdbRXqDbKKlSYMJPkZGfY3xXrmY2uGOunlOn0rdRXdD7nvaWq99WHjML4ImwF5v3SS663dJnxaORSFQSLaLXWJ5fwMELUEZpwZjYaKinHG6BOdCQ2IisroEw2UhsPfLQnh81xcXQ3Vx8X73ZqgHBCG0bOVdDh+NnNbhDzBKGNJI8tMGX0jf/yJZwhVOmdvnHmhazQNn3/kaXS9Q+HxHXVd7dMwGgrKM205en8ZypE3ztoryCS2CLDnD/nNrAPGme01iy3kM/nJih+MM3QYHH0DfQUyy/K74aBXkV/V+1B/vTlwv9chawq/tfHpyc/Pd4MnxAl5RF3ikJKW0CPMODMaBZUQ52fOWIbhjTNOZaPiggm5loc8jjbOgKUaKMotISzaOuQHszecHoeSwwExzOYy4sbIKL+TL94483XZaB7kIctEyVdPtHFmGM3Ft1NG0aONMw5BwDjztKf2TFzpNxng5PRPFD3g9ElOoEP5Q2ZZXxo7yHP6CGY7+I7BRv+J7mL53TSow97FOu8ILzr8LQ36rZ/BIz7oEZxUSz2Ktexp98YZmdKQjPENEWc0H4wyZs58vmOgMfpE5xnrStoWiK4/fuOtT6f/jU9+899bA5RgbxDzTIyzlloD3dZhwID323Eq1oQJE5yjPJjNjT4wgKW40YaE0XTIT+o7xhkygTqIwzAz48yIJdQrFKPoGQ7aMcaZl8ntDdKEscCSRhQ9ZDnvmUJe8Rv4fsf/bTQNL/+rz7YycIfusrWtrDFih68rLOH0WySoLwwCM0BE24x1+2y3xln1zPDf68ogL+Cq32s0HC/gUHCZOQPyklEnBBwVt712lHURXW98Q40m+pr31xqQ79HGGQYKHQ9G2rYEaac+csITecJLL/1xw3z6vZDASLWfOaupLI2GQ/752Vry1YNhhiyA1moLxtaLr0MYZ9Qt/zcDUd44a2/1zMcXY4EljfSpLLEbNmyYm83h92gH0d+NxuFlPbNmDCR5yHPyuyVmfoytB9odfZqfufd1heX8LdEm251x5oUTjtFaTjhiWtHvIakJjDIEOP6Y7UEIGk3DV0IUMb8MAxhFYKPk1ggGD/WGvUw4Nm8zQ0PdQzFl/TrvR2L0k/XHOEZTWoOajDPaAm0D4eHLa2vFywLaNKczsjyI959wqhLpJ38YaUep8/7pmKm75FVbWCrR3iEfyX8+yV/ylDrp98yYwmPECuoU7dlDP4Ss83WvPcJ7quhfSAN7Wjh92C+dIn38hkHRnmcI2xIo0/TbXi752Vhor3XIaHmwI7w+Ed2v0S5bot60K83Ez3yhCHzxxRfyzDPPuBc38jZyXjb70UcfuRFc/OAXhyL22WefuZf03Xbbbe49PM8//7xT4qJHeo2G4fOWMvDGGZUUhczPVGxNkF6EOe8zu+mmm5zjHSm33HKLM8YYxcUw+9vf/iY33nij+53f3nzzTZdPLYUXDN4445O40nljnHmBgdvaIZ8ZeSbPGQVl1sx3tuQT31luywAC+UG7Z7Saz20lj1oCn3d+KS3KJfiBGjPOjFjDyHW0Is2yIvoib7S0p7ZMn0l8/Ts7+c6hWqxAIV28zJd+B52FlyY/8sgj8vHHHzu/ZqQ1HfpzZJWXS8gpXxaGURvUD+qMH+j1eF0r1v1cuzHOvLHFKNOTTz7pBNXMmTOdgcDI0iuvvCJ/+tOfnJHGNfzSCJ9++mnnF2OOETb8vvzyy/KXv/zFCT6UCqNhUAG9izbO+BuFzFfarUUZ82n1IMBRDlA8Bw8e7F5AeNppp7mXUDNT4/fZ4K+18oB8x/AgXr6NMEBBXYfo+G9t+PLBGOUQENrytGnT3OZu8t93uJRJtHHm90tSh304RtPxxplXGMl3ZIFf1ri1yANjy0Nbjjb6acvRxll7wcscdBQGipFhDLBxSiPXnn32WXn00UedXGPWjCXbr7/+utxwww1y7733upfqt+fZwi0J+YvM8mDsI7PAZJVRH34JrAddqyXaYbsyzhBSGF+vvvqqU4ZPPPFE+eUvf+nepM8b3hFYV199tbzwwguuAb799tvOP28sP/PMM+XXv/61HHbYYS4jmUm77rrr5PPPP3fhxyJzCcMryK3tWlNI8yw6xeiZRzqWrW3mzCv4bBg++uij5Y9//KP8/ve/d3WMusMn1/i89tpr5aqrrnK/X3755XLQQQdt0oBbAuJHvrOfitkzygXHSM62YHiQNhQU2jCzZqNGjZKddtrJXfedLJ90vv7dSMCoNAML1GFoiTwizJraaWu51ip3noOiQ176Z/rZXBRpw4gFvj1Tp6hbDLQA7b+9Gmc4DDMcCh4DSMiq1157zek4HApy5JFHyoUXXii/+tWvnI7DjD8G2v333++W08eqrRNGdRnSWi4W8W8oPI/6Ev1c6hT1qzXjYbRf/MnPHm+cRV+LBe3COCPhzAYwksQM2DHHHCPHHnusM9AQYDjeZ8RypoULF7olACx5fOqpp2SfffaRo446yq3jRvA98cQTbsaMMFmOFkvjbEvSWvHnOTiUMZRcf80bZ1TQWFfSLQ3pQRkgjXyi5HONvxHsfHKN37xracMM/DPJd2YpqpcN37dWSBtlwN4+ljNTBrR/Zmx8un095DcUOto/v9ExM9PjjTOjefilZeQrkM+2rNGINdQj5J1fhgYYZdS/9jpzxvvN2MdM/EmbXw10yCGHuJUZI0eOdMsccVOnTpUDDzzQGaT33XefG3z2iqEPr6k09/72AnmH3PeyCujDW6O/NrYO6Nui+7SW0iPitFG26VZJI0Jwvfjii/LPf/5TLrjgAtl1111d5vAbjcorouz5ufjii92yJt4VwqlHzHCgmBEGCtl+++3nDg5gtoH13X//+9+dAcf9zVEiaPQI2Xnz5lWG0xpZ659Fhdluu+3c6FtLQXrIR9L60ksvuSV9zGYi3DCU7777bhk3blxluWxtNKY8m1OXGoKPC3WaJTC//e1v3d4FOng69H/84x8yadIkVxYYJ1sTpB3HzC1LfUj/HnvsIfvvv3/lKGi0P+rr448/7mQDhwJRN6dMmeJkw4gRI5yfWNZX8pzDYjg4BsHdWvLAP4c8YDCqR48erj60FD49jPyzpPyhhx5yed25c2f5+c9/LmeccUaLyiNj28HXNdrVFVdc4WaOkH1cv+iii+S8885zh2nQjttD34OMoL0ig9BBmBFjkA3d5pxzznGyO3pZsO9Tp0+f7mQ9OswRRxzh0j5o0CDXzn37bywYg/QdrLiAlpZT4ONKmvr06ePe68agTktBmngmg0g/+9nP3FYXrtGHUHfIR+oP+dge6o/R+tC3oUuxJeqyyy5z35k04gAy6hM6eCxp08YZUcMYYJ/ZlVde6Yyp3/3ud5WZ5Bs4y2q4xnQ/0/8YYzQ0lpwxy+b9I3x+8YtfuBEnlAaMMpQI/DYH4skI1q233uoKiXgR79bAC2WWbiJgeEcK8fF5E0t8eZDfKMQIOfbu0InwfJaQDh8+fKs1ztoalAedDTPBv/nNb2T27NmunmNwcGjJjjvuuNUaZ6QLhYIDgfj7/PPPr2zHvu5zHfDL4A7GGYYEbWb77bd3itH48eOdv1jUV/88OnwGLzgYhpk94sNv/veWgGd4x0qCH/3oR24vJLLQ/x5rfHo4uZQlvewFRtZ269bN5fWpp57qFK6WeLaxbeHrGnuv/vCHP7hDMuhzadsM2NKPMyhLO24PfQ/pwbjE0EKGkRbkNXIMA40VANEGF/75ziFU6ECsAGLwhbxgwLk5s9Tsa2Ngm8Ek8hPX0vi4ojuwZYCZQuRWS+Hzj3w+/fTTXf4Bspr6Q76zXM2MM6M2vB3BwDd2BnUF44yBYfR+DiOLJW26FiIkMAY4XREl57jjjnPXaTzVhRCNj9EnPrmH0ST2n4BXThF4jOZecsklzvEdhY57mgtxonC6du1auQyhpR2dEY6Raj/q09KQVzhvEPtr0BrPNzaFdoACHG2A0W6YTa7eRrYGfP1jAz3vNOPksj333NN1rKS7epq5hn8GY7zwxA91N3rPZCwhfEbBaZe0z5rabPS1hjp/b02uuh/S21pKBrKA+gakHTlgRpnRElCnqV/RdYu23BoGRazwcWWPPMsakUMYKSh5DBqhp9Sm4yBXcPzOK1sYoMLI83KuKfBsZFVN8qolnJdROAbcW1NW+cHl6Lzy9amp+WdsW/jVOb6+0PdRp2JNm545oyEheFh7zYzMn//8Z3ctWnARfa4xK3b22We7k4wQXhwAwlIbqK64Rgu96gKwqRAuCiPL/LzR0hr4+CPgGLFuyVkS8pq0URkZeSK/OXiFysqSSkYPMIrJi9YSttsq0YKBpX0MNnz66aeuo6EsmBViup2y2JqMZtJNmmbMmOFmqocOHSonn3yya/M11TuuAa/TYCkCM2gYDsgTZuNRiCBWcsCD3GKUn5Ha1oT0o2wxWFN9bXys8XWQ471ZpcAMLvnNkkrqIwcY8HyTBUZz8XWNwRhmaXktDqPW1DdWcHBoBkvjqGttvb55mUQfyuFR7H2n3yRd++67b6XyF912ST9/s3UCOca9yBhmqOmHMXqQ801JO30Issrnp8/rliI6XaQVIw1Z1ZLl5vOP+sOMPit/eB6GMYfKsbSRU/jQn9p6/TG2DOi+1A9mus8991xXp7A7GFDhgEEmZiC6fjeHNl0LaSRe2dx9993dNd/IovGNjv1eQAaytIt7vSCMxgufWAoh4krjZnkfSwtby5E3fKIQtaRhVh0qqs8/8p+8bs3nb+v4NsAn+U7++/KgzrfESE5bgPQyCPLhhx+6Ns8rDRggYOkzAyPsKYt27FHhOkI0un6ikGA4+XyMNYx+9+rVa7P22tKO/Ojbt6/bU9tSaasO9Y0Bsmh5ijzk+bGUsYZBnapuhNAXUf/aA7QH0oB8Zhk6K4K4ht7AMfrIKH6vre36F1L79kY4Nek4jQEDCcMW2YEMYcCrJV20vGKvOisaWssgIs+qyyQvqwyjLnwdob1QZ3w9Qv7gYk2bNs7IDNZSs0F28uTJ7lp1A8CP9LAWm6NluQfFpF+/fhEfm+IbIq4lBIJv/K3l/DNbE55HvuN8hSUv6TTBXzNaHvLaL2v09ZpyaQlhsSXx9Z2RTvZIcBor7Z0lz2yor89xuhkvdfV5w149jLroOhxrfJy3lGtpfL55WeDx9bC14mFsG1Cn6GOQd9EKNe05uv61ZXx74BAOljQy0MSsP4PJLPGrTydB5jHgFGtj1LfVLeVaE+pK9HO93mIYdeHlDStTotspbdHrW7Gsy23aOAMygRGluk5CIWNYWsPUPA2N03+YSSIzaxJ2PpNbAp7fmo704VoyTTVR0/NaOw7bOuR3tPMgINrLSHJDIU10qsyGvfHGG27EmRFXBmV4vQaO12JUd/46m93JE4xYPjHOCKOljFjKo6b22hquteRBLDsiw2govm77+ueV7faAjyeyB0MLOcSKG2aU+Kyt3XKde9lnhmHHd9o6g9d8Nre9IzOiZUhrutaQVTUR/dwtFQej/VG9f0WfwMVaBrV54wxIdG0JJ5MQcCxzYpkSyhfHuTMKBTT+1sTHdUu41oI8J5/JW/9cOkhvELRmXLZ1yGvyPXo0kPLZ2job0sOeCGbNOPiHfQPs18BxtHZtjpPN+OQ0S04wZJCHvGIGDgWpJZd/+vLYEq41QQ74mVvYEnEwtn58vao+U9beZB1pYJAJ+YPs5jAjlhUyIg/V0+PbEkux2XOGHOQ+ZBn7tbiPe5qTDz5vt4RrTcij6gZhezLujS2HryPVlxL7ttec9lcT7cI4q290heVJLBEA9nqwQY8DMsjAWGdYXWwrDZw8pUwYQfCQ9paahTBqhjz3+e4NY/DlszVBOlmW+Oqrr7rN84ceeqiMHj3aDcSMGTOmTuf9sXSIo+UJC0Un2jjj2tZEa6bHG2fAc5G7XoGOlhGG0VyoU7jo+l29L2rLeH2EGX9mwIBTEjHQ+K2mdss1HP4xzvzpjOzXYs95bac7Gpvj+8bovEJW1ZTvhhGNryPV6wv1qSX0rXbdc3qhxRpslgiQQbwrg5fwtjYISzbq8s4f3vLP6XCt5Xief+FtS+OFWvUOkfS35CyEsSleOPBJ3kcbZ5SLV5bbO76NMwDD0mVmvHbZZZfKGTD/e32O/GDAxq8XJ78IE0WH32MJ4XFYCe9Uq6m9tpRDDuB4LrOL5E9rgCyInjnjuRi/fJrCaMQS2lb1el29L2rL0B5oGxxexgwYf7MNg33ytckhf5170HNQDkkveg4GGnvwmgMrjjAW0V1qkist5ZBVLDvnkJPo/qslId+q1xWfvyarjIZA+4vG938QyzrUpo/Srw+ENBnFy4/POussZxxMnDjRHRLg3wVSHZKLEYMw8C9obS6EydLKBx98sPI46eodSEtBZSCdHIDCUq8BAwa4+LSEoCFc8o18Jo85whiDFIWX06buv/9+NztB2mvKeyN2+GZLR//aa6/Jr3/9a9fhISQ4BYuj9Hn/F+XVXg010ogjjdOnT5eHHnpIJkyY4F6tUX1TbkNg1o2XjbIHjdFmToDl+Gr2e0Bz24wvE+TLW2+95eLr94e0Bj7+7F2ZNm2aezkt6YSWkgeAgnX11Ve7472Rx8wEcLQ58og9MdASzze2HXxdoz3xCow77rij8uh3+n5eJNzWj9InDbQDjBGOw+eQImTbpZdeKqeddpqbPSPu1duK13N4TRCvB2IFAX5Z0n3MMce4vbfc09Q2Rr9B2Lx3jWe1prxCjrPcnNe++PdQtgQ+7zFEec0SR58Dg332EmqjIdAG0aVuv/12+cUvfuHaCqdA77DDDq4++a1UTW2H1WnztZBG9f/t3Qe4vFV17/Ex3pibq9FErzEWNMar3hhLgoKiYO+oNLuCgo0iotgriRoLNooVEBWIioIKCsEae4kN9VqvMZpIci3XGGNNbjL3fLasfyaTOefMzJmZ8878f9/neZ85Z+Yt+93v2muvtfba+1UJtlGIfHu/k4rTsDgJnK71IjH2s7+5K7NE+aRJSTu46KKLFr7JYV/UyBXhI6Tqu/CcMnK2eMidDp5cFzoXy70uAs99Xp15tX2jQB/72MfafXkvGYN/mmuS2Zqf4bxWSqvUolneg3MxHLXLb3/72y3aPdxe57m5Xq1EuQjogYreu3cbXUAHq+tZdVYhkGlyNSjbZG+wL+oq1TY4CIK5/hZI8X6k0kvDuE/fc+i8dJ8u9L/3NP7RH/1RywbYahvjoHgVCV01Sp/MYyudaIETWQaL1FX6gcH6Ik+eRQjjwN6qvg3abr2bcJZ0fuRM8UpBDUY0fG/zAkcvEBSpFiU2guDFjIyD4eF++zNajj322LYC5KGHHtoqeRaK3Xk4ZqJayrqoai2BkM5p1Koi1fPAPblPm1EI9UehE0wjd6KZu+++e3teiT7Nl5IvwQnLyj/96U9vqSlk+YY3vGHvhBNOaHMvPYt5jJwNy/esFZPzKztDxku2vTzaSNc97nGPdo+TXK/KysHzwtFPfOITTTcYMbNgyN57792uNSsDz7msHGserOezSH0AetC7zq561avOtR3WPf3VX/1V7wUveEGLvuu4vBDX60+MrM8zGh62l3r+s277o9CmXMcUBgv8yNKolOTHP/7xzQbw4nXyPmuZH9V2p7nnugeOkHuQaXPlK1+596xnPWvHKPfweQXd3M8HP/jBNsImtVub8hJcL9+3IIhjpilPIUglFZqTtEg9BX2T96txUOfRTw1DP3lpt2wrz4NjSlexGbfyIu+u47natior24HnhO0ue42cvfjFL272lr8FYe94xzv23vzmN2+4ovxUrD2wzrLmBPS///3v99ccr/6nP/3p/s9+9rP2/drD6q9VVP8Xv/hFf61S+msKrr/mlPTXDJL+W97ylrbPmnPWPgvn8p1z7bfffv01Q619P7zfVqhybcfm/uZN3d+aQuuvGcutvtcUWav7NQXb/9CHPtT2W0RZdnY8C/W81qH2Tz755P6aId5fUxb9NUe5v8cee/Q/+clP7pD5eeD62uN3v/vd1kbXOr2Lf5kNdX+f//zn+2tGfv8Zz3hG/wc/+MGO7yehjvn4xz/eX3Pw+muOWX/NEOqvOWf9M844o/1GrmeJaw62z0Vu7sf1541r2L75zW/21wye/qUvfelWt1e60pX6xxxzTJOL2mdnZdJ7X6a6ImeTtsVpqWv9zd/8Tf/AAw/sX+Yyl2myRt/RDWtO2w7ZnzWeiT6PPH/ve99rf09DtYU1Z6i/5gz015yB/q677to/77zzdtg2g9jXPdHxz3/+8/u77LJL62v33Xffpt/p3FnJy6D+WPQ2q3sYB9c77LDD+pe97GWbDK05Y/0jjjiif9FFF820PjfCNaa5zlaO8Vl1Xds0THrstNeBtux4n4Nl3y7Klnra057W2uHlLne5/pqz2N977737a05a+22WdDJEsPYAmpcvSmY0Rn62uSGVirj2sNq29sB6F154YRvyF+2QIiBaPIxzOadUAvMi5KZbxc13s4qWF661XduiEL0w8mArPA+jHIssx86Ouq56FwGsyJLRU1v9P2tcVwqvEa2Xv/zlvVNOOaW1TWXYqizWPWmbUnhcw+isuaTaNyaNbFaZtHUyW/Vibpic8XlS1170tkhEEAfTOuhlEUX6dl4yOA5VF2SJTC26Xup6VYbNttq/5L/LKKP2Obji6TypunEtI2b1PMmetKJZ9+OD0K8yc171qlc1fffRj360ZeBUmcal2oERMnaK6Rfux2iOcw2fr2Tgs5/9bBs5M8IlnfFe97pXW7F2EbbLoHxudRt1/kWjzuiqwT5EP6B826Gnqm6qzdfftfm/6qr+HofB+nWcNmNkVH83+L1tGqo8tQ2Wf3CrffUJdd3NGNzPObQ/Za+R8rr2uOebNdX26/psrXnQSefMg/YwKUFDiBTj+eef3xah8BuFpiFx3qwwZDhaY9PoKL6qNJ8lND6lM0nBMQFVhfp9lg3SuXQW27HNs3Maxn2qvxrG9b9novNA1X+YL+q5lNegISztxVwE+H+WuCYnzAIdFoE47rjj2sZosTBE7TMpjqnjfJKl97znPb23vvWt7YXyUnYnPa/91U8pco4Z/VDQMTpmDO43C9S7Njmqrc57c91ZP/eNcE36oK5LFzDaK1ijXheF69H1pfcZvl/72tfaogccxkVBriywIO1eXZRsrbcpr/qyv7lFFlrqIlVec5wFOrXRRS5643nSdSVT+nyLf5HBeeA6n/70p5t+o+fYIy95yUuaLaEck96382knUqqlYUp/Zse4r0EZqb/9Jm2dg2bBgYMPPrgtnmF1RzbPrNr5erqqgrCz2Eadf9G6CvpG1y08R+1vEehz9JNf+cpXmj6q54x69oMoF6eE/mIP+3sz6pz0sHTV9773vb23v/3tvbPPPrv1pxatsyhWya/9x0F5lcP0iTp2uMyD3yk7R4atQH4rCLERdazzs+1NZ6BnzjrrrB36hg1fz2vcss+S4fTfmve52b1NSiedMzep8nVU8rM1bIpMtMlvKsKDlrPNEH3Qgx7UjlNplBmqonxqEDq8008/va1gZyluD3XSCPzOjnpXZzYdonluhTquUYhZC2lYH+2Es1QBC50Op1lU1v+2WeG52nQQFtUxh8u1tbsPfOADTZFuZSSqOiJzN3UmRs3pAPc0rUw5Th04d43m1H0woI26cwTtU9+HyaCfy0BWj2SRTAzW9aKoa/kki/T+K17xirZyZvUN86Tul1Fy3nnntfnNr3zlK5th8aEPfagZRZZE16/5ZKQxXux78skn90488cS2Xzm2dT9doMrjuZpzbNUyOkC7WlRZ9TO20m0VkC1j23ezhCy7R8/IfdIZVsdlJBo5nPS+q3xW1LUUPjuGjtNeijon3cSgplfZPwcddFCbcysYPev73JmQgUFn1XPTh83byK/z69/OOOOMturmqaee2jv33HN7H/nIR5oesDgKvaD/879BiXPOOacFBl72spe1+YbkbzN58zsHyrw6czM5dbJP6ENBH1kufmM/uw4Z3Ii6ngVc6FIrQbOl6Sz6VfCrFpMRkOJUyXixgiF95hj3VA7VZjhe309nf+pTn2rtgD50Dbrxda97XTu3+qILNquPWVO6uShba9Zc8o/NiO8YJci8fg/Zjd/lLndpEzkpYg+LwmTA3f/+9+/d+c53bg+RAFgOVcqixufB6ZBFvgi5ybMPfehDdyyhH+dsOgimjqqUSkXF9thjj7YgiN9Tt/NFHdsoXAqL8eAZeBZSAC1y4e95KA0dhOgfpV+KXVsTQbIIiTaobONeW4elM+HwUfYUr8UlvAfHtRiD7o0hJoWJI7DZ+f0uok+HiLQ5l5F3dcUZ8zvDS4fhPOSZrvB/RaXDxlT9q7OK7FZqq9FOQTAp5FhEfSoHWdI/6Av0HTr5Cy64oAXxbnGLW7Rl/hcB2WO8MIL0VeSaUSQNv+ScLIpqGxnRl/ldwMviENLXytntCp6rvpkxJpVZn6uc9H4F6uZV3mrvDECRf4aZ7xja+n8j61VfsywDmaI72BAcbk4gncSWcN/lKI17zdqXDUKX0U0Mcu3E4iDugQwzcskEA9V+lsx/4AMf2PaZ5HrhP8P45/jQVfotiyd59QgZnlfdajfOq58R1OCUae90JqeLTjC6RC9IYRX8sA+7lexZcG3//fdvepUMjipjtU8ypX3SP9e73vWa7XzLW96y9c0WC/NePSO2HH8L2FkcrxbTWe/efU8mBZAEJpRT2ZVZ2ZXRaLKyv/vd727BKOWnK6wqut9++7W2WkGUYZS9+hHpw54Pfe256EfYNNq4duL+LMAhOOI9f/pr5Vuv7LNCGeEVGOpNW2X/3OY2t2nbes9lWjrpnIGglCNGKUoDYJxRlDo0nZwokhXcdLxG1ezre8pThMC+BIkhKVJFwVGqdf4wOYSPkBJKDdJGSG03vvGNW4e1USMPs6EUsYir9kBJegY6cu/dsILQrBVWnct1PGMGqOszGKrT8PwpUOUbp43Zj1NE2YoocvjLENLeOZicM84bZawjGRxBH4XfKHqjFDopKdFG9hiTnFkpeOrJuV2HA6f+6AvfX/e6122/bXSN8O+oJ9F/z05UUZ15RgyCXXbZpe0zT33LEavUGQYD451jVt+RUUaKTn5RzpkAAOOLsUHmtJUaKWOMkUVlU2/6KsbRPvvs03vwgx/c23XXXVvf1yXZ84zBqNNWtSmGJmOPvpm3c1YwzDxfDo0y6c85Z/r3MvxmWQbn5EhJTaV/XE96oQAUXWeVQdeb9Jr2dyzD0ogAOVC3nE9GLsOWnLB7OGXukezO2gDcmSh9Tl9wfugqzpn+SqpoTY+ZV/06N8eb/DLu9WsVSGKjet50RukFMkdGZIaRATKuTxxVvmqf+lKpt3SxuYlGWzl2FQwQ2KRr6EPOqXbs+vq8jZxT30llNopLX9Uo3F//9V83Z7d0GvubQ0b/mRfp/X33uc99Wn+wnuyW42p1Y2tLcAKtRHrve9+73b8yK7t78L+yaydSHdWh/+c1jWMQ52b3GjV03+wgAV5tkyM567bZSeeMENs0FkLD+XLThINAEESVYe6YB6dSeNAiIB40g0uHTLjty0jgyFGodf4wHepTHds0SpGSMtY1Es9FQwrzxXOwMRiMCFHmngPHY8899+zd6la3avvNWlk5n/ambWpzjO9b3/rWzYgQzWaoUcQYt50JpjBeOUQ6IMapKJ9omZFYn5Zb1r5F6nUu2OzedCB0AP2hrEbUlc+5axNQ0InooDmYZFhk0T1i1vW3apBBdcTYqFFJ/3PY6V11iXnqXIaIDlMEVx9Bnmokwv8MFv0I56xeFDpv9D+MLGVhHGmX6oCMM7D0W8oiGizqet/73rd3z3vec0dgAF2TPTqf8SjizskUAJGax0mpvnVeZS45Y8QKuJYdoM0aafR+07r2LMvgXBwy16HX6FXPk5F2oxvdqMmZfaa5pn5SuZ2X0U4H0lelC29+85s3ufDifTosdsvWIC/QZ3KQ1DMZJrv6MM9SHc9SfoqSXw6hkSWjSNXP6Lc973JA6C19lXd6cso4Kcpm341kQH8n60QaIRvA6xb0laPk0/X0qQJG2rMgQb2KadT+/ucQ0bXkX5tQFmWqsptOoZ3or414HXLIIa1tbuT0qheb9mzETFnowYMPPnhHgGrwODqI7lQGDiHb51rXutaO4Myoa8wK59a/6WvYOp6b8hjRZLPM+vqdf8+Zm+fhU1o+3bzGVCu3VWW4DfvypFVgpULZj9DYzz5RcFuj6pkikDPt/SDqWePUqEQ+RPjsN0tBDf8Rz0DHYtTHe34YLJ6BtvG4xz2uvbsF83oGJQciRzAyJYXMm/MpZ79RVuPifO7HcbZhqiOY9JzO5XPw72GcuzqP9TqRMJp6VlKwnva0p7Xop/rTWR1zzDHNwMAkz21SjHhyhHTmDF2GDOPBCIT3SfmUVvOUpzylORPzpOSL0XPaaac1w4VxbaSHcVPRemVlhHHGBA4YMBUV75r81T0ZtTLiwEEzMsnxPfDAA1ubZyBhXv1rlYHx9sxnPrPJGX0hAOA9YQIt86w712J/eEbSUOk7mThStkp/TErdk0/OGYeeM09mOGMMde3G712Ui2WDrlKHRrO9o9Wn+tb+vKdRtonnO48+wLWdV6CInuR4c85khBg9MwptHyNAdBhnQzBSf86+wnoyVueWNeA9nkZizWm7+93v3mTJ8cP3I7jgN/Mn1QXbwVwywYeqg6Lkjx41/+2AAw5oTpyAHEeX7JJTdrZgrQCnDJdKN9yoPqvsFiphxzjH8ccf3wI+jql7H4TN4Rgp4+wcdfn85z+/6VLfD5Z91qhbg0JGCMspZQer61H1vBXmdxczhKfMI9cBaEijUij8bSPcOj37lYAU83xoOwvqWD0SRAYQ4WRsaGTe+q+D0Zir4wnzhaISjCgojEGZnydkgSL3rBmdDE4GRf02CfYnU85H8Q9vvp/UwHdOxzhvKdL1zm0f+05a7vBL6F0GZaHzZ/gsAg6X9B1pPDp1el+fQSdtpx4iU5wuwQojIAyJo48+uvfYxz62vTRZmUW49W1kkOx1Tf6q/hhgsiRqxKie9SLLqyyCguTK3zb1y6CbN/q80kH6OPdNp2yFwbqjNxnl7BYGLh1e9orPrsnFMqIObRweNqK/tVHOEduFbM9bX7gmGZKeR1cZGRvUC0a7OP2CDUbWlc8xm9mu7ACZCzJoOHYcpOrXHD9Mnc/IrU2ww4iedl5taxRknnyaTiQF+9GPfnQrt/JbE4IOph/UcZV71PXhGn7TngSXBXvUSb0mQtlH4Ri/c8ZcpxZUohfo/HlQ9cHOMfDjfwEbelC73ez5TEPnvZW66UFhqYc6jH0H9ys2EpAwHRpO5QNrEARVVEhDw6jnEGYHebZRSBQG1DmFXCPF86SujxqtNmKhQxn8bRKUf6NtWkada9QWpkPd6aQqaAZyaaRh0Qw+yy7o/SoLY4KuVEccCvUlWKB89ulqH6Vs9Dujz+gfw6kyIxYN47lGl1xffTHOODb+n2eZXMsz9KmfE9Rx3a0+M8ev9+xjt8wWdUlGpPoZtSrnxagVx4CDsyi5rutwdugFZapAw6DTv5kMOI99yKSRLTqXc8b5XM8xA1mGtszJURdGxCtdeFQ9DJ/LMYJyyl3tsMru+Gov60Gv+F06ulE//wu0DQb5RuF+wSlSds9PuqV7X6/ss8K8UA6sMiivslaq/Eb3Og2dd84KNz64rcfwfhvtG6ZHvVIog1FLUU3z/TDPBhJ+CeVAMXHO1LdnIo235mTNm2pbUht0DiJwjM8qy6Q4ZqNtWkada9QWpkPd0QPkTqfl+ZNJqegMnkXWretvZhQsimoHtRWDunH4ty5R5We4WnHSiKR0VUYf3bMoqr4EgDiIgkGuzzhkGDJuF4G6UIYKRDHMZvn86lyzPGf4jwgiV0ox+SlD3+gZ539R9V7O0eD1tqIXzMW0OUY/LPCzEfZzPUEGGWnqwiIXUsTLSR0sT+G4qjOfVcZpy+44TqU5XJWWvpn+dl3tX39jrjt9ZBERaeMYVe6tUueUhsrmqjKUHpiHPlwa5yx0C41H1GRw+FqnyVDfDjQeDWR4G8WofefRoOeFstooUZEcTjFErRhQFAbGVZDTUHWoQzPvTS62qFcprbBzQMZKFxhJ19lLc9aB6XAr5XZnlIlqf9pK1RPqs+sot/ZtfgXdbsEAztCgUbYIlAOcfXP5Kq2IzDHmOGeD9TsPXM/GeHUdaWOMskXXRdgaJUvSRhn1BaffiOyiGZTbaeTIMRxOc245mJwyi2Vwtjaj7B6jZ45zvJWSta9RVN0Vg+WdpuzaDv0ipdI19R2c5nJcN0LZ3SNbx3O04qQ6UBfz6mvcv4WQao4d6MTNHOFpiXMWpkJjJJQMsvq/0k6wHcaYxjO4rcfwfrUtE8qrMzFiRVmof0pKPrhnMu/7qTrjHJpYbeREypPvplHUYTnxrG0MZYGBGjk1csbg4aSVrOzMLNv9Vzuu9wQyQmo15O1C30LfMcAYdnSOlCIR95LDeVBGLOfQ3BhOmZXu5mWUhflDdvSXpZu2yzmbBfp/qYEcHPe00fvEBqk2Y38BDvdvGfxaeG9e7alwfoFlgV0BPe1pcK7lOOhvOGmCgFKv2aDzQFkFw40ulv5BvY9yHsQ5C1Mj0qHDrkasgenAMO+GPYhGo4HLmbb6kM1LEkVZlQmlhGtfaTr2M8ldZFiutUa3LKhfBrB7cU+UBeUmkqTjca/zxPWlsKpnn1a6olh9P4lyDcsP45WBzDmTakIGalQ3ac7/TtXBqLroUv1UWRg82jfjg3PGgNtO50zfwtkHGWNUjmuIbgX1weiTfmXhCHWxXfPuwtYgN2DU1+JVsKx+TQ9YJOX4w+fgVt+tR/3GwZHSR+dyVGx1nxtR/bRgA1vOMbIdqo1tBntpsJyjts3QR7C91AP9MmlbVvYKklg90jN0X+Nce1yUTd2oFyne/nfvlak0L3snVlSYGo1CvjIlR1gph4pAzbvDhAaowVit53Wve11bWvWCCy5oy7KecMIJveOOO645YZUG45MDZ8n3M888s71Q0So/3thvE3lZJhhPhvM5oBSE0QsjZ5ilchoFY8V77iytLYpsdSmM0ymE1YKskT8Gj86yvpPirPNF5OKXdUIHMQSlEKkf+mswgNQVlKmi8ZaLN0LlGc/LENkI9WJTZ+qr6mlwMZB54dz6MnUhmOe1CN6NOK4BHLpFya8gpq3+J1fa46KCD8Myy6mgF5TB5v9Bx20U9Zt9a5VFsmqbRDYF1sgz2G/sCuda79r1vWv42/5VblvZW+PA2ak2zUEUCJqk7Bw6TpJj5pVGX+cSHFI/YOsKguvzXHuSMo9LnLMwFYRRYzIhUxSRsa5D5yxQMpTeuA10UpxXg9GovUzSu2+g4/Tyw9vf/vZN8b73ve9tTppcZEP1Pr2kUVm9G8O+ln01yfPVr351c/Aoizr/etTvg9u87nU9XFOaj4iZvz0PysKy3Jh3edS9KDLn3As8yULYuREcqNFTMKarPW2HUd8l1IUVxc4555wWPPL5tre9rQWU/G3eBb2krhatSwapa8s6+NSnPtXmgNDx5YzMwwjZDNdULv3KoBHKYSRz8yyX81a6l7qwhHitSBuWD3rIsxPElIbPGfCd0Se6itE9b8ivPhuu6Z2BdALb5Nxzz2364IwzzmjvjqyUP8dU2xyGM1S6w71Mqms5N+XQ6dfJ+6hr+X2wHGw9L4Fmfym/8vrbS5rZZXRe2UfD1Dk4PJVOqgzjlr3aXz0/0A/lGI4q/1Yp51M53RO7VzBSWao8syTOWZiYEkYNQ1qjSdmVEkjZiGDMGxES+f/SEi0de9hhh/Xuf//7t85z7733bv/vvvvuLdpJYRhdYwyJtj7iEY9o7+MQAdWwRUMoCaNANXo2SqGgGv7gVgz/Pw/qGhQ25VcjE3BvJuxjHspiEArdAiD3u9/92rt5QhAc8O5DnRcZ1Ubpg+p8dyZKD7h3OoVuoYMqmKL90D3mUNFjRu69Z0h79vu89ch6uC5DVao3HWLhCw435q1TRqE8rsvoou8E2dSPMgkMSWucd7mUwejhve9979bfheWG/Bjx4JwJKmqH5IuzQb7mSclzBYsFkKXLVj9eeoGe4OycdNJJzcZhn6w37YKOqd+ce9L2UE6R49gV6mKU/VNlpx9kJNFpn/nMZ9r/zlGjXtIL3/SmN/VOPvnkHYHx4fPV//VqDDhHlb0+16N+HzyGg2qbF56Jstb1BK1K/6i/WRPnLEwFgdRYdZI174yAyh8uB6eEeNaIbn3xi19skSZLO3tpo0YCZbJxUkzWpDgYPy972cuaE7b//vs3Z5ISYhhRgFbg8v8ohTRInVsDrdSkitY4flFUGdyPMqh3itF9VT3Mq+4LESP1K5rsWvO+Xugu1fbJnpXCKrVRp0wfGO0Aud2ZYDBZ3prTRQ/d8pa3bAGkAw88sH3SWw996EN7d73rXdtS0NKwRaAZaqVrFo3nKF1ZeWQVlG7frvZddSBiXcaReqXfOY6l7+YJA948M6Mt9GxYfsizdHwBJTJPpqzEx1lYRLvj1NAL5Ml8bTrBS+lLLwgu0wsCOs973vPavjUqNIyyl3M2DeWcwflrdHrUteh0zqLRPsHg/fbbr5XdJlD7oAc9qJXdy/XPOuus3rHHHtucT07ToH1V53atsp0GyzEuRvQd43myC+mHUeXeCs6v7JxOZS19KPhfU3rmoR/jnIWp0QjMO9OBa1gQLZeis5mjMy3OyymhrKxKSLHJO4ZGpBwVTRGF0nAYGuYM7Lbbbu0dIMpNKdrf5m9K+mY3u1lT2HWuohq7IX9v4f+zP/uz3mmnndaiWieeeGLvFa94RTOqGGKlHGatIIahqKU8UG7KKr3HvW1nlDvsnJA/8qYNGc3QLn2ns+Ro1DyAnYFq93QKg4SuMpp4hzvcoaVdS4mjM/3OsPCbtOB999231ZP0asEkfy9CjxR1LRF60W5Gh4wE81G6AMesUrwgbd1kfHW5qDoKqwFdZRNI4mBUX296w2Aq3jzkSrvn4FgBVfuiF254wxu2hZQqvZBeoCfufOc7twwf9hRbg6M2PAqljFVeTNPvK1Md53z09qh7Vy4LPMmM4piYPmL0SDBO2UunaZf3vOc9m3PJXnrpS1/a0oK13eHzVj27ftltGHX9UTimnp9zbcVJHUWVjT7mvPvfNdhbf/iHf9jueV7EOQtTQ2hrURDCyhjRsDlDlMgsqUbhvKJOnC1pJkZu/KaRFrVvrb5kk3pHmZQC8EkBHnDAAS3qI4J9yCGHtNEnv1eDdyylQnHLB5cm6W9OEUfMyMCHP/zh3stf/vLe85///JZCSXk5blCJzhrKwrKurqG8jDzRXcrRtX0XwiLRUV3jGtdowRrtRxs0Om0DuVx1qt3Rh9J+73GPe7Q0a6Mu67VJDtBtbnOb3q1udauWWvWGN7yhOUjliMwbz8Um4PPRj3606XAL/NAp2E5d4trkiHHHQavINTlj0FbZQxiXkmdzhvT31dfrtwUAhkd5ZkFdU1s3nWKfffZpzhcZxrAM+19fzskR1GHzSBOkH7SH2gf+H2wH47bX2s/9Dx5TDtMwHNlb3OIWrUx0FR03CscK1D3sYQ/rXfe6123pj6eddtqOVRkHz11lhzJUOca9h3p2cJ71yj4tZV+ZgyvDyvXoRw6oQD47ctD2nCVxzsJUEFiCSoFwfAgrodXYKLl639ksG4pzcUpMVBet4Yz4brhxKBsnjjKo340q1ahZKSMK5C53uUvvmGOO6T3qUY9qSnMQ+7ofDdOqjqJdlBKlc/jhh/eOPvro3pOf/OTekUce2eYkyMM2jE8RcVAdb5slyk1huDflquegk5FDH8J2YkRDO6tRa3PO6pUWZHXVcY+lWwSDBH8s0lPttHRPQTf5X3oefWYujOXrP/CBD7RRLMxahwzj/MpAZ3kJLV3C8JhnVHgc6r7pcoGoGtWQZsjZrfTZECaFHMkyKV2lXZIvckbe5tFvg+wKKgvauL7ramfDesF3ysAhktHDqatX/1Taof1t5eDU/1tl+N7rnDIiHvzgBzcbqObqlf4q/K0+nYNNSKfR/eag0S3+VveF/+t6PoevPQlbOXY9qqxsP46xe4ZRV6nVs6rzUcQ5C1NTioVBZmje/xqIVCZKbquNbRANwPk1FmmMIs2VcjOsHKoMhqFBkRgl40gOYl/nMPrGKKqGhyq7YXwKkTNkvhrFxDBgTNkYMlZ+lGdN6dqPcybf2jyTOtcsEeE2eieSrMzuy2hFrdQ4eB8hLIJqg9qEUY2KqporZA6quZmYdVvoKowWdaEeBvXTetCj2i9dZMRfAKpSgcY5flrqeQimyUYQyTfXjI513XleezOqbHSwEY2ac6OMDL8ulDEsJ+wITgTngZOvzzRiJpA066yfQVzHiDS7YzO5rd/N7Wa/0AteFaSMHDL3oD3QNVvp8+s8hXONKpssKWWfJGgjcK+dsovMU3MPgww6d4PlGCzPRjgGzjHsKM4C5bBZ44BTDNcxIlgO9LyIFRe2hMbAsTHqVPn/OvrPf/7zMxdcSoMivfvd795ytV17lFJi0HAONSgNiULZaFRpvXIaCeQEORdnkCIvZVDH+HQNkZT73Oc+bdjfEvNWhjQRtvafFa7H6eN4ckBd2/wQEUCG4KzrPIRxIXt0AMNZm9M2jXRrhwIJ2sKs28MqUAYFx4yDptP/6le/2nRopWbPE9eXRsnoo8c5113BvUuLJT/0MZli8NG3ZE3Zq/5CGJeSGanH5L3sCCMkNWK93VQZybuAsL7e6JMFe2phHNAXW2kH5ejBOSZxvjbCuWpFQ0iZZhsV2nZdy77+n1TXDTqpnqE6mrYeRuGcriHAyK70d9m7s6qn9YhzFraMKJCVswzBayQiDCK/tZLgLA0yjohROqN1w7i2a4l8mUQrpcqokjlxwymLRSmjUs6Fc4nYemm19AOpBb7T+O3v0zH+rrQIo1fSJDlJot7eAWIRkVI8W6XOwTmzcpBIsnKIqonkhLDdkHXOmWAB2WRQWxRDIGFnQltVF5MYCtJktGX6hO7Uxmv1uHk5tcrH+eEIGpGiK6cxOmah39ZDOpEyMoxkQdD/ZGxYZ4cwLmSHzHLyOWjkitwLxuq7jaLNA9d07XH0QukPto75cY4zAkUvVPkG9UzpiXF1RbVZ+9ffzlMpi8NMUvY6nk1U2QOC3JwcfUJdj67TT/h/MMVxnGugyl5lc75ZomzqXNldS71byMU8wHHrYlqi3cKWIcA6S6NTBFgjkyJDiWg04yqLWeBanMN6qStFw3FRvmrA48I5M/+DcSD6z+kb1Rh9pw44juZqcFI5UMognWuWdaBuGbvmh4DzaUSPc6wc81QWIWxEyZ/RH8EQ7YBBrQ2UcT1J+1tWtPf6rL/HwUiQQBcjka4RZZ7X0t5VNnrKu5boFYuAiArX73TW8FbH2Wq/+qzfZwVZooNNxJce6/xkqla3C2FayBZ54jgwtqXeMey1ObZLzeuaJcNtZjOqL6cT2DH+Z9NwFoYdnHJK6NhJy63tqws4Dztm0PFwvknLXjgXveZ8sig4Z+6hzqP+a7qJcig/NrtO/a4equyuU6Pps6CuYTEWadXVd3klyqjBgVkT5yxsiRJgnWalNmosjDFODTZraLPGaFW9CJtiq5dNVsMfFwaSiMn555/fVmOkWDa6F43XQgAUjmsxfCpPeau4rk2ak3Jw0FzPtdS7uW9+n5ViCmFSyJ6NgW/eUsmkNKF6hxA2akPLTrVR7dP9luGwGepNe6Y/OWcMFcZMzbOadZ3V+QTQjBQY6bSVATKKQd0yrGfq2c8K5XM+fYgXYqsL/5Mpo3v0OmZ5zbBzUbIjoGrEmuxrb9IG2RCzxjml506Sqmw/5eLAKC99oi0MOmHaAqfK7+XgjHt+sHMc55hBR7Dwfb1n0L6TnFu5OL6C15wyzu+gHaavoPOcc7Acm1H7VHqn/9le5ZwNln8rOL/Fmdy/c6ofWVTua5J6mIY4Z2FLVEMQISG0Ok8NjJIzcuTvjTr8WaGh1CYliHOoXFISjZpNg3OJzDAQvGOk3nMxivrevdYwvWMHFdEsqPl8IsqMOMrNqNkilEUIm8F40Aas7CUVR1sQpGDwVMBkFeXUPdmkb0pn9tL7c845p6VW12/rUYZEGWE+7a8uNzpuWpzTNRlL5rDQlaLxRtCU3aIDG23mpzE06Xbz1Bgvvn/nO9/ZjjfysNW5co61yRCgfxlJDC8OZKV4hbAVqp/Wf1ptmXxBamOtDLoVGUYdzymxSNgJJ5zQ2sgkI+LaajlnKAem/md71e9+s41DXV8AWftyv1Kra6Gdun9t8PTTT2/vdPXeskkcNO20HCYMjvhBP8Hh8TudMam95BjnhDm7HDRsVT+4d2USWDRypk6Vzdw/cxTJzrx1UDRc2DKEmHMgvc4EUIKssZt3VisKEvZ54xrlFDI2lMnCBBotSkGMg32lzhjCprylPojY+n6UYqrvKQqbexaBqiH7WeD8jD3Gj/p1fyYLM1hC6ALagU2bs8qY4Ij2YKJ9Tar2+6qhbdoETrxI+pRTTum96lWvasaMtroRpU/oL3XFCFBHjJpp5n+Ni2fBMKNTvIvojW98Y3vH2utf//qRm9+8gN++jFfHW7jk7W9/e/utNgsh1chD3dukuH91IXOBw6tOjG54+a3PkrMQtgL55CB4EbyFK7Q37UEwiS2xVcrB8S7UV77ylW0lZ07O8NyrjbCPtlawK9gX1QY4Z7Usv3OWo7UZzmsT6OVwQSDbuXxf5xB4UfbXvva1TacJsvltnGtot1Ue5eM8+bRBW65XYggW2SaBk1tlZwdV2beqG+reOOq2Ku9tb3vbltI4i2tsRpyzMDM4QrvuumtzSCgT87R01CDMi0AkhYEk4sG4MSFVpBXVwAahDESGNMBBNDzHHXzwwe1dZpbK90b4UojDuD+KiKIzUsBxkuop7RBbacjObaOEGLk259OZ7LHHHq1zwaj7C2GRVMdLF3jFhA6T7DJ4GCTaBhalDxaJNuk+ORTm2RnxEZwaxyFVH+UsMbAYido3w8uxW9Efw9T56EfBp/vf//5tBdy73vWubbOo0Xob40SQio4XPRZF9noRL9StfaS0Kndda1JKNgTYvvSlLzWdyliSfmaEgzE36zoJOydkjRxZ4IHRTaa1XaPBggJ+34quqmP12ewMKYkCGs49jnOjbPQCR5F9oXz0gs+SfzaGtqE921e78bkZVTYpe87vnNq2tuta9Lh9ZAwZ+dMOpUBPMurHvmKTuVc6g/NHt5Wt4l7YL65N71Vb3+z8de/u1TWMvgmgq4Nx6nUznF8dGGAgD/5mz+299947nMkqw7yINRdmgsZmOHy33XZrHTbloNFbPlXDn7cgF5wyRqAGqzxGvSgAlEIoKAAR4He84x1tNKq+KzhYlJ73l93udrdrEatROIZCoIQoXo1ZQ+bM1QT7rd6/81NcHE/KUdmsNGXp/vXKFcJ2oSO2EI/RdB0mp0MnX/NQlw1tvLb18Jt2yViS3q1tWrzC/Y+D0SZtm5HCQGLI0F301jz0JyNJ+e51r3s1B+1+97tf+9xos685riLgpR85dve9733bq0Scw8Iifp+2zFXPgnucM0EpdUiXW2xmWI+HMC0lS9qaVRsZ+QxxQWUOVY1ubdTux4E+dG7yWwGOzUbF67psGjYFG4BekFrnfNqX3/3N7uI0KC8ncJwRKPfuePNjjW7JFGKz1Jyzar/+Z8coMzuIEzuuTuI8CcipUwE7day8jnc/bDQBPO1bmQW37LtZfTueXWmhDvurV0EhTp5tqzi/shjxZMvaZIW5hvv2+7yJlgtbpoSVsiHAe+21V/teg5ceIHpsn1lENDRERkxF4Avn95trmeSugRriZiBSBsONXVk0OCNmH/nIR5pBZZ9RZRynwZeSE3FjiDIk7nSnO20pgjyIe1NWkRxlpOgpCtfx/1bPH8KsERGV2qhj19YETcxxqjSUZWFYd4wyHHxnY8gw9AR0Hv3oRzdHZlwjjO4yh4uBxQDTttWdtj2v9l3n3myrfcsoqTIPU/tOi3M6B8OLrHDmyY76MGpWqzRu9TohgDyTOU6C1EY6i6Mgdc8qofryWSBYK2BzxBFH9I4++ujm6LApNpLjskX0+/SC/wW+2VjKWDaJc7AFTHGwj/03S6W2n3sXULY/x0iWEefMuf1WdoV5aHSRcj/sYQ8bK624ys7+q5E2gbp6eTN85x5kW7mGMnC2tPeNqHIZfRQMt79AtTr1femoaSkdZK6ZzfXYW7IMZhVsH4c4Z2FmEFipgKIrg1EcnSyBrwY7DY4VPXrrW9/aO/7449u8DkPscG7OC6PPfDONVqPXkBhKGGxMVRZOnpEoykhEB8ONzv/2X486F2OC42TpfcpLmg+F5vetNGTH26RDfOxjH2vKTsRaJyJCXTnWIXQJMikwoV1ZLVV7lBpjYR1OiN+3og/GZRZtQ9v74Ac/2CbFWzTDaPvwebVxm7l25VgxOioFZiOcq4Iv9CXjgiPC4FrEqLjrb7YNMvw/SseN+m0SyIRzMNLoZjpfcM1iUwxHRtJW9GkI62Gkm4yRN84Nw1z2D3mcVubqOE6JPtsIVzlAm1FtSTk4i3ToHe5wh+ac1ehTOVGck1rURIaCQDGdsp6OrXZmZKteOySQxoFU5kEHx+g4XS5NXeqg38apD9fQhulPeoxdyEmt+3Ief5uaoU78zSHmzDl/7TdM3ZN7pDPVheM52FjvuElguxo1qxRR982mY3sN1s08iXMWZkI1aMpBqkyN6BiSf9e73tWE3D7rKYuN0NgoD6uEPfe5z+29+MUvbquhMZR875wUkcZq2WWRGWXRWBlHg43V3/Z3nLQZqQtGuDaal7aRInI+DZmCO++889p5pfnY1MUsFIXyMgg5fj4pSopYnryybVS+ELYLbYlRsueee7ZOWZSW4VAv9JxF2yicq9p2GSXD5x/8vfZfj/rdCP1f/MVf9I499tjeM57xjN7znve83rvf/e4W2Bk8vvQfR9Q9c7Lcp+83upby2IcRyDCRSsO5E6UVyV5E23aNjTbUPQzf86xxTsYQo45OZSRLh2I4GzWYxzXDzk31+dL1BAGk5HKE2BvsCUHf9drvZjgPmeX4GDkS5GELafejdFThN+jvOQmmNNAH5oSyVQbbgXMoM+dJcEjQWvtR7tJ1w9T5OTdGpzmOt7nNbVoGkXPb1ItPdoZAtwwj+rDKvh6u6Vg6UDCZfSRQZWSyUiZhH+eh76R6ugc2jvKXDl8POsKoGcdPAFC9OHfV97SoK8erE2Wp+lM+1/HbVs4/CXHOwswgtBocBWHipKFqCoKQUxbVGKdBeoHzSI1yTkrCp0aq8TP8zG8TnZdWKcLBUfK9xmW/avD+t5+5ZuZ03P72tx+pwDajjhHpsWIZZe5cFhERyYJ7nhbnt7kPRi1FBw4ng5dScz9buUYI84AuILvS0Bg8lXJjREQ7YWzUPvOCYa/tuEb9XdR117u+stoEfARdrLpoyXk6yJLxItmOreOrw6ZP6B96x3GcLdA9pX9qo5N82pcB5hoCOnQnZ8QoUZeo+y2Dpf52D+6/6mArOIc6Vx90NGNL1FqwryLjIcwD8iwbpWSNcyGwbPTWb1tBn32Pe9yj6T7BnUqX1HYG9YK/2TOux75hV8jIEdwyn5ODMJwmXf2/Eai73e1u7bhaMbXOO4hraGd0sGkYPvfZZ5+mc4xCVTt2XuXgtB5wwAG997///c1Bq/I5z3DZ6TS/sYnOOOOMZrOwU6RDmlumPQ/aK6U3OG6uL6tC2y/bzjkHqbJL8/T+WecyD1awuoLyW8W9eO6CQ87HjuW4LiKLYZBYdWHmiL4YfjeCpiFLMxQxEuXQsKZRdI5hXGmwFJXGrMFQJhqy1EmblcMe9KAHtSiTCJVo9KByYqRRkGeeeWZz4ERcnA+llMZBeWwUoBE8jVka0qGHHtoiZBr1rBSF+xC9p5AYb9IMLCm9aGURwqRon4xrnafIKFlmEFjoAdPogmHoGO3QKL1IMydKMINR43owilWT/OkjI1WMLkEeOmU96AvnZUzRD/5neEhjxqjyGz1j5DHuLEHvXksH1f716fp042mnndbKTR+Zrya4Q39MopPmQdWt+lJv7kXGgfpwT+pVBJtDpe7VjTqahqoT1/jkJz/ZziWiL2rNue9CfYTVpOwSKYN3vOMdmzPF3jCVgM4op2NaHMs+YBc5p1dOaDODtskg2td73vOe3qmnntraIOeIXmCrDLeD+ltK4gMf+MCmezg4nJf1FmPjyHjfmgC1US2L/Qiqj2pj/jeSb/Tv3HPP7b3tbW/7Tw7r4N/0JfvKazcE5w455JC2iquMn+Fzl41EZz784Q9v7Vy5BNqHHbPC929+85vbPUo1lKU0i8BNXY/eUS8+IR3Ts1PWKu8iuOQfr3Hx3yHMDFFfhpFIM+VC2YhIMTo05FEKYyPs7zwMA0Yex8wKPRwWKy0ycKS9iC6ZZ0axGrIXfTUvS3SIIcEx4+gwig488MDmQDq3iM6kUHwiSa95zWuaYjPZl9NUCm7SexyFTsH9eW8SZS6K9YAHPKApjIpyzeI6IcyakktBBHLMYRIZFUzRVnV4FQWeVobpEsaTzlSQRHvUvhkmjJt6J4/2L1WFIyFVqYI5nA6RUTpiGGVyfk4T3aG9a+fSoBkrjhnV/twTQ0lnX8Yd/UfnOIe/OTIWLlJGhoZrOK/AkuDOIuc2jKKMLWU3Ami0UOTc34wi9eaZMtI8UxkN5sbQzwwlqYilB8ehrieA5+XdnqW/jUIyOE32n+R8IUwKPaFPpa8EctgvZNAccm1ylHMxCeRXyjPnRYBKuzFqbhPQ8EkPGLHhoAjs0BX7779/0wt05np6ocrFGaLP6Bbtka0kJZE95jj3aDSfnjSH1v0eddRRLbvB38N2UJ2XTjPyRYca4dfulVf56HO6ja1Fv5599tnN+eTgcsys5KoM66Uc+s5vbBu6gy6hRxxDx6p3sOnoc7roTW96U6vLxz72se1T+bbybEBfKwdbkr3l/uixJz7xidvinF1iTSlOHw4IYQQUgI6b8fOEJzyhOWjSfTRUsYBpDA9iSiFICRBVFc0tKAERLw4bx4wTx5HxslQGhQZH8bimyBMlY2KuY4aV0WYoh42iEJk/+eST2/+HH354OycFMYsGXNdhBLmGOS/uyz2+8IUvbAoJW1VIIcyTkmPpjMcdd1wLZOgEpdE86UlPam0Q07YZ59aRM2Zcg+5h6NA//i7sV0YA/VOGiOtzikYtHARtjmPGiWLwiOwayRHpdZ71cG36qgJHnBxlYHAwQHT8jD/7MP5kAtgYYMqlHNvZtpUV0pK8hLZWkaT33Fv9XuVUnwwkxpTRP0Eq3417D85pX0ajeX10t3pifD30oQ9tetvvizSOws4FmbZxOMxr1+9ylhjm/jciRca3IoPknHPGJmKbcGjINYdKexFEErixD51kZMgUBiPIrjvOtek/tpcgBweQrSDbhqOm/dKXRqfpGkFe6ZCbjTyVLnU+bVSARhll8ig76DKj62wzetVomXPTedis7Oresc4t2KYuLPRB17qO/+lT+lh6J73tc1aBLPeo7p/ylKe0gJl61E9ZgI6TNqmtuFXinIW5QKw0JsPyz372s5ugc168aZ6y8Ps0DUqUhqFDuYhqUWiUjLQp6ZSDiFKL5DCqNHoRMY6ZNCvRmGkcMw2Y4ee8oisiRobja8nsae9rGOepkbnnPOc5LZJHQR955JFthG6rnUQIi4IsM+w5UIIMRq+1WbJsFFi7JcvjGvLDMKYYBgyPOke1jTIqfG9TFht8iigzHnT+62E/+oNDpayMnM0YvI5os4CSNEdtWplsrilazPhjPDn3tHUwL9yz9J6q2ypf3dtgvbon9a4+1dEk9+J4uvSEE05oRrHoPsPxyU9+covql8MawjwpfcGBEVgWWCHTFgN6yEMe0oIPW5FF569jZRJwogQ+tC9BK+2ATjJPi01TjgkmuabrCFYZuRcEYi9UBgMdpI1y+mQf+W2cc1fZldOonHUEKjXTd3ANZWbryR7gOLmncc5fOsX52GxSG+l251BGNqStFkxyD847C6epRs04ZY9//OObU845ZnuZxzcrB3AS4pyFuUCsCLw5X5QcJ8OQuyF0zkw5UpMKfCmIzRp7ibXP4Wv4znkmbdSOodxEbgzbG9Wql646JwUyC6p8DBTGykknndSUg0gUY4UhZ59ZKKUQ5g1ZtYkSC2jYRF11ek996lNb9HOr8lzXmJRxdYmt9tts/2K4PAywmuhOJzFkGF7+HlevbQeT1O0091Dn58A+61nPaiMKItWPe9zj2lwYWRddrJewmmifMGJy4okntn7YXHYOmiCsNrsVeay25FPb5yzRC+UgcM7qGtPqhcHjBFhcw/n9b5TMVnpn2D7aiCq78/ib88Rh8jf7R9nZKn6f9Nyo88M5KhW86obdSG9Oe/5RuKZNn2Sk3nw517KIif6J/nFPi2brdxbCCDQeAi4NyGo6ln8l/CaUikr5XYOblHEbo/PbhtEIq2yT4DjKgKI2AmBU8KCDDmqOGYbPR2HZl/KaBoac0TlOLeVUK2Aa+VOWScsfwnZR7VD6HiNHyouRNClz0nt0wPYh112kdEnpjnGp4wqj/DUHRIfPyCh95nOSc68KdCqkQ0mflBGhLuhVKVFS1nfGegnbB/nTv1oYxKitLBtTGCrVbqsM6gU6hR4g51J36YVB529avVB6BRwxgXE2mKCH+6nfB/cbh8Gy+3Ru+kzZjSqWY4ZJz43B86sbzpi0SX2HT3VVv01z/lGUHSqV2kgj59wcV6tr1ujcdjCbuwthBISaIjBPyjKpGpSURJ2wVJlphX6S46oBuzamuSYDwqbM5p7ISzbJVdqB89sGz+ta9tHYOWj+r+uPg30Nq1tGl4NG8TFqGSs6jWnrLYTtgsySXSnFViyT1mgkjS4wuo5J2sgwzl9tcZJt3LZU558Gx457nS4ySd1Oep+lG80lKX0pLcoKbAJ7ISwacgzTL6ySKD1PWrP57oIHAqcVVNgK07SXSVh2nWMb1SfUb7PAc3QuqZ8WGdEncQDZd9LN9VnbFQiPcxbmCgVkXoVlYKUvUXJGnqz447etGGSTMG1jVj7HmtNilSCNV3ohx0zEpRw3f4u4GBHwNyNDTjZFjnGUuWvZz0iZSJ0V56Q7qLf73Oc+I9/eH8IyQG5tIrcWjBBsIO/mUjLKjaqvOtV2yyiz7cyUTrTIgNUZBaJE4jnvgnnjzO0LYR5om0aBLNJDHo08mQf1lre8pc2zortmZbvMWy/UOQe3WTHPc2Pe54csJ7aWtGo6SRBctlfpn3lccxxi5YW5QuHIQ9bZEnj/64TPOuusFq3ArJTcrCkFLDXRIgaUsxWCTHaFexlGQ+aguTeOlaH++n4cOHYWDjBqZkIvx5YzaNWi7VISIcwC8isKKWXEKmRG0QQ9GOacNMGNWRo9ofvQlV59ICNB4O7mN795c97rnUujdGwIi0IqnXmPAqRkVWqjVGx9O0M+ump58fzoF5kb3jMp28lo/WGHHdYWA/Hbdtpcec9ZWAjmW8inltZoY5RJ1/P+EBNJKbkuOh8cM3nIUhoYk15uLcov99xnbe7HJ6fsa1/7WlsOVuOXtz7Oakvu3/5SJ0XnvOMEFk04+OCDWyfh+C7WUQiToNPT9hk40oS8u4Z+0L58ry3EKF9t6Dq6zIp1r33ta3sf//jH22q0ls2XBl8LFoSwXVRfa7RfNgtdZdRMNgxdpU8ed6XD0C3oH1jx+1WvelXL5hIctCKnFYTZbNs9hSTOWZg7JeAmdzK+LAjCQePgeOu8dL2uGWTKwzGznKulnX1qyFYSs3mJ5OBW3/k0EsDoMDxuxND9b9TIyzGzqpIFQKxmZ3ldk+IpC2/wt8925T6HMCsGdYG0EXMrjUgLbgjeiFwyzDdrM2F5oevoM6nfVr2VJUC33fOe92xzfDhpef6hS8hg0f8LvNJXdJTRNHoscrp80D9461vf2t69qf/x/kqvKfJ6Ac90u+3ROGdhIRB2USYrBkkPMB/LCl3S+KzexjCr/bqAxmt+mfeymROj8UrH9PZ+ytnn8OZ7y+ybQ0F577fffi3C5lwb3Zff1YPzi+IYqbMq46GHHtpy3kVxKIp0AmEVKDnmnNmk7375y19uo8Y6RmmP2x21DPOBruOcGYl417ve1dKJ6Evzeg455JC2CIN+IqNmoQvQQeTVaopWDKy+XoaMRY1k0tToWfTVclCjZgYJvMeM3cXesmy+tQRkcXRB/8Q5CwuhlBdFJjJqfoEVuqQ0MdCMDvltM0dmkTAgRPYp4Zvc5CbtHSfmm/n0//BW37sXS/DutddebaRwI8VdxgpHUPf9zCAAAFaQSURBVBRZSqPVgrw/Ta57LSUdYyWsEqULpAyRfyPNRtPhPX6+R1d0QZgNpe8EoKQzmsvLIJIhIFPA/OSN9GUIi6Zk0aIgVp+mq77xjW+0YJJpGdIbK3gaue02guCekcwk77GzyBt71IiZuf2VtdEF4pyFhULwpQKIQomYi154mbMJ4Ne85jU7EzFXBoaCUT2Olk2a4kabyew+7ctBc48VVRtFjZhJl7BakPRJqY3mmTFWsjpjWHVEKTli5nEYPTPyrIO0nDo90aVgTdgaFbFm2L761a9u6d8MI7rOQksWT/Ks87xDlyiZ1A8b2ddnk2EjLvQTu8X7sMpBC93Es7KZrmLEXjqj5+V9tQ960IPaIEGXMjbinIWFUQrOJgol4mSSLSUnTUBKC+WnE++CQ6IMRrEYiZNuDEyO2XpQEu7T6Jwosnlm0iLlPVstyDs2kHlmYVWhD2yMcvpAkEawxlwkxo4Vs7S/2i8sL3QdnUfPv/GNb2yr9Xq2DCPp39LdY9yGLkM29ccyaSxm5CX69BU51l9HV3Ufeujcc8/tvfSlL22rM1pB/OEPf3gLhLPXumB3FnHOwsKhvDQEzplohWi5OWjmoplvwlDrioO2FdZT0hXBsToQ5X7CCSf0Pv3pT7fRtkc/+tG93XffvXUCcczCqlNthINmpNmKp9KdOWhG083pqHYQo2c5KcfMAlCWIhe1ltbu3ZcPfOADO7FsdQjjwmaxQMiPf/zj3mc+85mWIleZP96NRo4jy92i0hkFws0zY3cZrT/66KPbugD6mK7Zm3HOwrYhpYnxZZTJCBqjTHoTB03kHNut5ErRTrONokbMOKJy10899dSW92zlJyNmlpFWLxudI4RVQ+fIOZPiyDEzF8lImu9sjB6kTSwfdJ507QsuuKDpO8uR77vvvi2VyER8zz7PNSwD1S9bwExQgY7ynixZL/TULrvssqP/Dt2gHDMB8Be+8IVt5W121uMf//j2/tiujZgVcc7CtlBKjiKTymh+l2iGETRc73rXa+mBOvZVU3RGzLxoWgT5nHPOafNrDK2bkJqVGcPORukCRro5SAwfDppgDeOHfpD2FiN+uaC7IXXbex8rddsLyL27kY6vObl5rmGZINsyfzhjRoG9RN8Imv+lyNUIWtheSgeZz2wBECvEWhvgsY99bPvUp9i6SJyzsG1UpyxX2wiadAHL1EoV0GDkdtck8VVBFEcaJ0PlvPPOa8r8UY96VIvkcEbjmIWdkdIF2r3RM2lDHLNPfepT7ZPB47vaLywHMiE4ZieddFJzzLyU/8EPfnB7v6XAXPRdWEZKbgWTjKBJcaSrrD4tkFRzmCLb2w+b0oiZVyJZTZtjZtG2CoR3lThnYVsp5WXkjIPGGdOJi0RZtlZj6nIDGpeK4JgQb8n817/+9S1904iZ3GeOqbpYhXsNYVq0E0Y7R0yakHch/uVf/mVb0dQLqkWrY/B0H6nbnhM9zjGz6JN3mVkAhGPGMPJ7nmVYVkp+6SS2i1UAybusmBve8IY7dFVkfPGU/pFCbcRMINxcfnP6OWbLMHUkzlnYdqqBGEEzqVbUyWpIJtlaJKOrw86TUPdoUrz0TYbngQce2EbMOKacsjhmYWenOkxtXlTayLIINGPe/KQaPQvLgXQiASkpRBYAMfk+I2ZhVSgZNtpPP7FhOAbslqxAun14Buqe7jHXjLMsldq7FGuOWdefyyX6FdIPoQMQx1/84he9iy66qBlkjLFVclo4nebTgPHpHhEFHsK/Qw/YpMVJa9RurOJqPlpYHixX7WW9XqZvkacKtEXfhVWDvjLST94Flk1TiJxvL0Yz2ZIC4ALiy5RqGucsdBJiucqKre5v1e8zhK1SXVTaSQihq6Qv7y7L2IfEOQthG4giDyGEEEIIw2SSSwjbQByzEEIIIYQwTJyzEEIIIYQQQugAcc5CCCGEEEIIoQPEOQshhBBCCCGEDhDnLIQQQgghhBA6QJyzEEIIIYQQQugAcc5CCCGEEEIIoQPEOQshhBBCCCGEDhDnLIQQQgghhBA6QJyzEEIIIYQQQugAcc5CCCGEEEIIoQPEOQshhBBCCCGEDhDnLIQQQgghhBA6QJyzEEIIIYQQQugAcc5CCCGEEEIIoQPEOQshhBBCCCGEDhDnLIQQQgghhBA6QJyzEEIIIYQQQugAcc5CCCGEEEIIoQPEOQshhBBCCCGEDhDnLIQQQgghhBA6QJyzEEIIIYQQQugAcc5CCCGEEEIIoQPEOQshhBBCCCGEDhDnLIQQQgghhBA6QJyzEEIIIYQQQugAcc5CCCGEEEIIoQPEOQshhBBCCCGEDhDnLIQQQgghhBA6QJyzEEIIIYQQQugAcc5CCCGEEEIIoQPEOQshhBBCCCGEDhDnLIQQQgghhBA6QJyzEEIIIYQQQugAcc5CCCGEEEIIoQPEOQshhBBCCCGEDhDnLIQQQgghhBA6QJyzEEIIIYQQQugAcc5CCCGEEEIIoQPEOQshhBBCCCGEDhDnLIQQQgghhBA6QJyzEEIIIYQQQugAcc5CCCGEEEIIoQPEOQshhBBCCCGEDhDnLIQQQgghhBA6QJyzEEIIIYQQQugAcc5CCCGEEEIIoQPEOQshhBBCCCGEDhDnLIQQQgghhBA6QJyzEEIIIYQQQugAcc5CCCGEEEIIoQPEOQshhBBCCCGEDhDnLIQQQgghhBA6QJyzEEIIIYQQQugAcc5CCCGEEEIIoQPEOQshhBBCCCGEDhDnLIQQQgghhBA6QJyzEEIIIYQQQugAcc5CCCGEEEIIoQPEOQshhBBCCCGEDhDnLIQQQgghhBA6QJyzEEIIIYQQQugAcc5CCCGEEEIIoQPEOQshhBBCCCGEDhDnLIQQQgghhBA6QJyzEEIIIYQQQugAcc5CCCGEEEIIoQPEOQshhBBCCCGEDhDnLIQQQgghhBA6QJyzEEIIIYQQQugAcc5CCCGEEEIIoQPEOQshhBBCCCGEDhDnLIQQQgghhBA6QJyzEEIIIYQQQugAcc5CCCGEEEIIoQPEOQshhBBCCGHF6Pf7bQvLRZyzEEIIIYQQVpB/+qd/6v30pz+Nk7ZExDkLIYQQQghhyamRMtu//du/9b785S/33vCGN/Q+/vGP937+859fvFfoOnHOQgghhBBCWBKGnbB//dd/bVvxL//yL70LL7yw9+pXv7r3yle+svehD32o97Of/aztH7pPnLMQQgghhBCWhEtc4hJtG/zbxgH7yle+0jv55JN7z3nOc3pvectbel/72td63/nOd/6D8xa6zSXWvOi40SGEEEIIIXQcTpY5ZP/8z//cNumKP/rRj3rf/e53Wxrj5z//+d6nPvWp3re+9a3eL37xizaKdtBBBzVn7YpXvGLvV34l4zJdJ85ZCCGEEEIIHYdj9rd/+7ctTdFo2A9/+MPmlH37299ufzPpr3KVq/T+7u/+rjlp9i/n7HnPe17vt3/7t3eMuIXuEvc5hBBCCCGEDsPxqkU+XvOa17TtggsuaGmMl7rUpXo3utGNeve61716Rx99dO/Wt75179d+7dcuPvLfyXjMcpCRsxBCCCGEEDoO58yI2Nvf/vY2v+zyl798Gw275jWv2UbMfuM3fqN9d+KJJ7Y0xh//+Mct9bFGzpLWuBzkCYUQQgghhNBxOFbXuc51eg95yEN6RxxxRHO67nGPe/RuetObNgftN3/zN3uXvOQlL947LCtxzkIIIYQQQlgCfv3Xf72Nll3pSlfqXeEKV+hd9rKXbWmNmUu2OsQ5CyGEEEIIYQnghBlBq62cMp9x0FaDOGchhBBCCCEsCYOOWRyy1SPOWQghhBBCCCF0gDhnIYQQQgghhNAB4pyFEEIIIYQQQgeIcxZCCCGEEEIIHSDOWQghhBBCCCF0gDhnIYQQQgghhNAB4pyFEEIIIYQQQgeIc7ai9Pv9i/8KIYQQQgghLANxzlYUztmPfvSj3o9//OOLvwkhhBBC2F7++Z//udknP//5zxNIDmEEcc5WDIruZz/7We9zn/tc75RTTum95S1v6f393//9jt9CWBXI8/AWQgihu/zkJz/pfehDH+qddtppvT//8z/v/d//+3+ju1eA4b64tjAdcc5WCA1BROpTn/pU7/nPf37vxBNPbA6a//32r//6rxfvGcLyc4lLXOI/bSGEELrJT3/609773//+3ite8YreS1/60t5JJ53U+8Y3vtH7t3/7txjyS86o/tgWpuMSaw0iLWIFKOfru9/9bu9lL3tZ75WvfGXvn/7pn3pXvOIVe0972tN6hx56aPv9v/yX/3LxESEsL//yL//SUnbJuE16jO0Xv/hF+zR6LFBR31/pSlfq7bHHHr0rX/nKF58hhBDCIuB8MdT/1//6X73jjz++9853vrPZKle5ylV6L3/5y3u3u93ter/6q78aY34G6BvZeccdd1zvOc95Tusn9YUHHXRQ73nPe16zCX/lV2Y7LuP8riNV1cho9cHVH/vd376z39WudrXerW99695v/uZv5pmvQ5yzFYHy0yguuOCC3gte8ILeZz/72Sb0l7vc5XpHH31079GPfnTv137t12beKENYNJT85z//+d7b3/723t/+7d82uR/sCGz+1kn9v//3/9rnjW50o94Tn/jE3s1udrN2jnQIIYQwf5iYNob7GWec0Zwxepue/u3f/u3ei170ot7d73733n/7b/8tenkGbIdz9oEPfKClqHK4Xa+cs+qLXV9fbPP9H/3RH/We+9zn9q5znev0LnnJS158ljBILPUVgXNG4Z1zzjm9r371q03J+U5j+Md//MfWSKL4wipAlj/zmc+0OQvmVOoU3vve9/Y+/OEPtxTeL3zhC60NSJe56KKLet///vfbMSGEELYHAbX3vOc9bQ48Y519wpFgn/g/LC9/8Rd/0XvDG97Q+uPzzz//P/XHX/7yl3tf//rXe9/+9rd7/+f//J9ml2agYGNSOysAJSe1S/Tiox/9aItM1Pc2ESvRizhnYRWQ/rLLLrv09tprr5Ya4XO33XbrXeMa1+hd6lKX2jFiJo3X5jtpjb/1W7+VNhBCCAuELrboh1TGCy+8sNknNZrmtx/+8Idzcc7qGl3fVoFrXetabdqA/viWt7xl7yY3uUnv6le/enPA9Mc1UKA/1gdf85rX7F360pdOf7wBcc6WGA27DFCjBG9729vasLLvNQaUc1YjB6uiDMLOy3/9r/+1d/Ob37x3zDHHtIVvpPH6fMxjHtO76U1v2lI6quMr54wz99//+39v36VDCCGExcA4FzR+3/ve1/ve977XdDK7hB5msLNPOGeztk2cv+u6flX6orvc5S69Zz7zmS1t8oUvfGFLWXzc4x7Xu+51r7sjbbH6Y/3z9a53vd5v/MZvpC/egDhnSw4lJyplKPkTn/jEjijFsHNm5CyEVUA0zlxK0TrK/3/+z//Zcthvf/vb93bdddc2slb71b5G1XzO2gAIIYTwn2F70LdS2c4999yWal7pjGCYM9bnNXJmhO473/lOu74pH7X9zd/8zbZuVQ7lYrvNwzFdNAKf1772tdumT9YPH3DAAb3f+73f29EPFxYB+f3f//02xzCsTxYEWWI8OkvTyu8Vsagl80WjKiLx67/+6y3l6yUveUkzYP2eaEVYBQZVl05ex+f1EVYqFaQg5xbBkW4hinfHO96xGQaZgBxCCPOFrmWfnHXWWb0Xv/jFzTljm/i+DHajKPvvv3/vqU996n8YZdkKrvnJT36y97GPfaxlEglMd9HMda+yOiyKYeTpqle96kzuX9+36AVBCvVs84wNChx44IHNPvWdZy/rZffdd2+vUBBcnVc5VoE4Z0sMg1QE5lnPelabiEkJ2TSMcsAYp6IUVkiyUl0pxhBWCZ2PRUIYAdJ7S62ZZ3bve9+7d9RRR/X+x//4H+37yH8IIcwPdgZdy0GydL4FIyz8wWYpyhERNHv2s5/du+ENb7gl56TsHqNlgtFson/4h3/Y0Rd0EeU12uT+99xzz+asbTV4vp3OWcER+9znPtc7/PDDW7/suSqDUbOHPexhbeXkzAHfmFgpSwqFo9FZBMTb9qVslfE5KPAVwchqdWEVIe82QYlKF0G1AZOORei8T8d36QxCCGG+0LPSFTllVmmUVm5RJkZ66WEb+8RiZpXaZ5uWOqdsoRvc4AZthEa2kL+vf/3rd25TLuVTzt/5nd/ZUTergOf4v//3/+794Ac/uPibXyKV0b17Rp59WJ+MnC0hHpkIlBc6moRpCP+ud71rU3CnnXZaa+D2sYmgUIreyL/33nu341dFAYRQcq4T8A4dI2eWai4ZN2r8pCc9qXff+963/R/ZDyGE+WLk5IMf/GBbqIk+3nfffVsg+S//8i93pDbSxT6t7Hfssce2RZ6MHG2Vmsf2d3/3dzvms+kjuob7l+bnXW9eyuzvWfRPXRg5cz3P1Agm59v1fMcxUy6jhL5TzjCaOGdLCIVG6XDEpAyIvhx55JEtt5cyrH08WsKvMfr+nve8Z1MAIawKZNxmcrW28KpXvap1AhCJtKzv0572tNYZIM5ZCCHMB7qYjv3Wt77VXi79rne9q+neQw45pBnq5513XnOebPbzaQRJWp8FnWbloMC5OYJdNnHLQZmls9QF58xCJ4997GN7b37zm3fM//Z5t7vdra2uLMvLd/MuxzKTmlkyKBwNTQTKCo2Ee5999mkRCUuTlvM1qODKmcuKjWHVKDkn3xw0baMcNh2UUWMpI+hyJx1CCMsOfWxBjo985CNtuoV0Rga5VfvMN6qRsdLR9jflggPBkZolgnPm3NvYRV3blEt9rJKDUn2sxbm++c1vNocM1U97v5mVHT2bOGYbk9pZMgi/N6xbmpbw3+lOd+rd4ha3aI39Mpe5zMhcXg3k+9///g7nLEZqWAWqgyfv5JtzJngBncFlL3vZ9iJMRkF9F0IIYfaUXfHFL36xBY7ZHV5K/Id/+IdtrpF58RySovbnnAmuzdo5K7qq91exP6pnWq8K0DfXpj/+3d/93SYDtV9YnzhnSwQB9+4OS+aLTMlVvt/97rfjTeyMUAsgYLDhO86cnIychVXEaJkVurzgFNqCTfuQPiFwoT3EOfslOkZOrI1uWCTbee0Qwnwxavb+97+/99nPfrbN95VWLo3Ouyc5Z6WLUTqZc2bRsnLOYrgvN3T7RRdd1Fbn1A+XzueYGTmT0ZK+eHPinC0JBJwxIxpxzjnntEmWe+21147lZ20iEyJUw8pNw7CkbFZsDKtEde6irlaG0sGD/Pv+yle+cntBNYMg/Dvqhi6hFxbdSdb16hmFEFYDOuXTn/507z3veU+zR7y7yzu8ak5VOWfQ9ukA3wsas2cSsFluSqd7t5z+uAYDykHzygDBUvIQNifO2ZJAaXGw3ve+9/U+/vGP925605v27nGPe7RUxlJynLNRI2ciUiZoGnWzbxRgWAXIMdnWGXz5y19uUduSe7n8nDOjyukM/h06gAFl9VaraV1wwQXNuV0EDDBLa1tR82Uve1kb/TfXJISwvLApYLrF29/+9jbfyMqLNg4Z24QONtfItAsM2ieMeDqo5ieF5UR/7LmabqM/rvnfvvP8zTvUJ5OHsDmppSWBEfqlL32pvWCXcJtke6Mb3agJfk2utCBIOWeFxuFYc3Jq5KyUaQjLDNknyxWp43jUdzXfTJvw3c6OOtF5Wtb67LPP7p1wwgm9V77ylW31NIZR/T4PnNsmzcWKsl6Iz0F73ete1/urv/qrdl2/hxCWC+2WfmVbWKRM+5ZOfuc737ktDy+d0e8VPK6Rs9IJfuOU0Q2V1hiWk3qmVur86le/usNZMyLKSZfWmCyW8YlztgQQcilbotyMUJNs5XKLQlF6GoBtcORsEMcbVUhkKqwKOgEwCjgcgg/1nTZhnoNIXSYf/xJ1IELt3YhWUTNHTwq0SGZN0qdD5omO+fKXv3wz2FyfMecdjUbUkOcUwnJRgRUjJaZb0MN3uMMdervtttt/SGGEOfF0Tv1fn6WbGPHRAcsNebAYSAX8PGOf+pmabxbGI87ZEsAAraVpRaP233//ZnwOG1Mcs1HOmf04ZmUEDR8XwjKiI9AJ/PVf//UO2UY5Z5ZxTmfwS9SVl7J+7GMf6339619v33FeGVGMJjphXnrBeXXQgkfmyOqkPSMO2ic+8Yn2/MrICyEsB2V8/+QnP+l9+MMf7l144YW9G9/4xr3b3OY2vStc4Qoto2dQp9ScswooD7Z3No4tOmB58byNgEprlNI4iNfZ7LLLLumPJyDOWYehqBgtRgbOOuusZlzd7na3a/PNRJ+LUmgEv3K6B5UcRShlgBL196DCDGGZMQ/za1/7WhsZ1umTeyNBV7nKVVp6zc4u6+rDVnPNPvCBD7Q6YyhJi7ai2uDy1vPCc6h5B16az3iTDVCjZ5WSGkJYHugWo2bSGY18WQTEIkz1PrNBfGfTztk1KDuF/qYPfB89sHx4jp6btQ0E/ypLi0yU3v+t3/qttk+e73jEOesohJ1gmzBvxIwB40XTe++9d4tAi1IMwzj126CxVcpPY6H8qhEtgoqGVxkK//utFPRmjDrP4DmGfws7B9qHzsCyveS7FL95ZjqDer8ZSl5GycmgHK0i7sso1Uc/+tHmyMKqWTe72c2ak7QI6tlwmL2XkQFHX0mB4TDWHIWdjY1kbyOZHWac89hCmAUlZ15fIp3R3NGb3OQmvT322KMFfqq9oz7ZJewTxnp9V3DOjLoktXHrVDtXj7XV/4L06njWuqDOZ1EY/bFreMa+55Td4AY3+A+LwSiL36psqLKO+m1nJM5Zh9GQPvOZz7QJ/AR1n332aUI+3LAIu43DZkUkqY3D+2gsnDOf86QaFqoRMpzllFPAIuT+to/fN8PxNSJiqFzqg3P4uxRAbWHngCyAHJh8zPFAyQCn7LrXvW7rFIZlhNyRoZJFf48ri8sKo8cKr0apBHvoCHNWGVMVyV4ErmPOiZfS7rnnns0x9Ay8t1HknaHn2dbzXWXqPqvuySm9qD7Ipq2iz+M8H/vYnIdM25yPniz5tu0MdRsWA/miVyydf6UrXalNt7Dow7DzVX9zzjhufi+qHdBLUtSzKMj4qDdt21b1iFqExfOp70CfsKUGn08dN3j8NDgv3WVO8/AggICcdFfPv8oLx5S+qr54sD+2baVMy84l/3iNi/8OHaEEkrL6sz/7s6b8bn/72/fuf//7NyWIEvzCMRSbBUOkLzkWJeSMMEaRqPWgcpw11aCkUIrSWzr7rW99a4uuWdBE9P6LX/xiS62iRLwKYNQoYEGhiK5/8IMfbOexWuW73/3uZmh+5StfaffpPHLZ53lfoVtQ4EbN3vnOdzbZKEOWLHm3jkCGOWfVlryE/fOf/3zbnyxapdBrKbwstUbeyJDo3nDbWmbU0xe+8IXeGWec0UbfdYicsvve975tJH7YkJo3rqWePSf17r2N1Zkb7TSnVhlX6RmMwv2ROQ7p5z73uaYb6bd3vOMdTS45rObiMVbIZM3VGYW6U4dW8y35dp56GbA5IIwfxtFG5wlhXMjvN77xjWafGPWWznjXu961BVxGtd2Sd/PSyDv7oL4nv+yAXXfdtXe9611v5XTwvFBHg5t6rOkrbCx6gI3EAbJxjKWxyyyh9+mB0rW1TYPrOlYfe/rpp7fnW/2x/kf6/IEHHtiecfU39B7ddP755/fOPffcpq/Yio41jcd9kAM6a9pyLTuXWKvYndc17SjVmEyyfepTn9qin89//vNbtLuiIsN4jDpgzsuzn/3slgdenbBPDeNhD3tYjy9eL6qetdA7J2OCUcHYeNe73tWWOXd9v2moojn2oSAoYkail2kb7ajylkgyOCyEogOodCy/2eyrAWvsUrS8WuC2t71ti9L4bWdt0DsD5MgmEPGnf/qnvTe96U3tmWsz5IosPPGJT2ypc5x3HRR5lB4sQuvYQXnEVa961da+7n73u7fjBlMwlpFqQ+apWrL+Na95Tev0LMbx8Ic/vAV6FpXSOIx6t4ALZ8SS+uYoWMCFQ61sDIiNAjbLTOkvcslZZpwwSIyU1W8MG7qc7JlIb3Ve77Qsw7WwL5nnfHm/lCAeo6d+q096kv6XcqaOGUuyK0rfhjAJJXf65RNPPLEt9HDUUUe1NGnO/zAli3Sv9ys6RvobPUDGfZLzI488sveQhzxk5GJn4T9CR+jX6FHPgo2oL/O/fpFuEaQXwKz+jnMmIGcU6w/+4A/ayrn6Sw6Q3+kEgc3BFTXHwfXpa076QQcd1IKgdI7rkocHPehBvWOOOab1N7I47HfmmWc254wj6dolB/43kGAQwoAEvScLxvl3NpnIyFnHIKiElPLyHiIN0DyzAw44oHWwGwmo4xhgjFCfta9PHbGGZ0GRUqCzFHbXpggYwV4waxU2SpbBK6pms4qTMtiXs2UTfaNYjHLU/Wns7p/xxqgUkdl9991bPTCeGSv+98Z5Cknqp4gcxaSjkM6GWd5f6A7aCJkRgPjzP//zJkPkm1xJ2bvTne7U5MPLUC2k8/rXv751WByTW93qVk0W73jHOzZjglOmw5COoa0xdMFYGLXy6TKgHqCjY7CLZrovHbEO7973vndrJ9tpnNfiAJwJwRzOik2QRrte1rrfCHLLqCK3RjLf+MY3Nj3nfulGQQVyaQVNxgm9RyaNiNnPfB3fC9DVuei+U089tc3bU3d0oxEM75kS9OKIaRP6A6Nx2oF6t7Q1IyyESSB3IHennXZay4C53/3u12SNfhnV59Z3Psmz7JkaLa/v6SJTNsi+tu+7Uefa2VFn6oXeZLoLvLG59INGzaWHC2jTMTWHz+Y4AR/BOr/JPDKyLoDuGEF9o221WNOk9e/8nC39LZmAfogtdq973avpIdfl0CuzqQiC6voj/bXXL1joTn9MV8n2sL++gb5iH5KR7eyzFk2cs45ByCkuQ7yUn2jpgx/84N61rnWtDRuM7x2rYUjzYpgSZN+JOvibcarjnuWogPOLklAWFMQb3vCG1vA4gQ94wANawxOtYYBIWxIF8amcFLXUJqNrDAjlU1a/iShryMpN+d/nPvdpitt55LUzLjR+aVHOY+6RMlAsokKLTtcKi4G8ea7aiE6e8+HdOiX/lDvZg+icFDFOP4esRmlLHm1khSzpEBiuNYeNHJEzhvCyoV0YnRaw4ASoJ+3ByIkRM5HT9UbgF4Hr2jgHAkXqnr5iTBhB8jykNypzPe9lx314JgwOOpJBROcZybrnPe/Z5uAZMaQb6fpKP+JUM1DoOcYVp5psOh95FXhgjJFj+pZT5nUFzsGgcQ5BKws22BwjsEEPq+edydgJW4PMQRCFDAsC65P322+/He11PegkfTsZFEjQ1p3PRgb9ToZNuygnbxXa/aypOhGY0ZaNegkkastWKPYctH12I2fXRh/UpzoWIKcb7F/H0UWOE7AczGIaF0Fyjp7+lg5XTs9UecgHm+61r31tywYzYseeM+BA7ykrR81m6o2y6IfJik8bvSgrajv7rUUT56xDUFQcHVH8k08+uSnBgw8+uBmbFB/lthGEVqPl2Gm4JcQamr81SEYqYxWzEHJl1vBEbZRZlENqkui8xu5aFEiV3+8an09D7wxhjVmUmEFCMTAmjZg59xFHHNEcShFjxzgPI8Wxr3rVq3ak8ogO+V7jFYWuewyrB7moYIBABGOzOnkdjWgdA0C6GIdEcEMb0lGQi5IjssJBqNEInYH5jWSRTFZnt0wGrHZABxhtMaJifiZHVtt/4AMf2OpBcEbHuZ2bckJHTQ/RVwI1nqt2fPWrX31HivIy1f8o3K9nIn1TwI2BIkJ9yCGHNF1FzowWkMHSkwxUdSNwJQ2ITMpMMHpGr3K4GMgcMwaVdCJOt9Ql53EOx4qI1zwQaWUcRH0MXctIsy9m0ReE1YYckx/vSiRTdKmAAKOfTtlIhhyrHQsyCEyQZTobvvc7mZRpwwZwrsjk+ujDpN+rL6Pl9MjwZppHfQ5uw/vV8fpKjh4dNAmeE2ebPjKiSr/4zjPleNFtb37zm5v+M1J22GGHNSecY+i3wf5YsE5f5W86iw1MZuguASV9ws4iG3HOOgJFVQ6GOTQWLJCCZdSI8TiOQDoHQ9Uwt9EkSq+MVscyApxTuqHvtyLgji9lTdkaqtag5BdLz6Fg/V/lrmv51BB9iiJLbdSYGRvu0zlFgw2/c/BEluvVAY5xXUYcw1MdMTwZPo6Dc9TrBraLqpv6XObNPaCeX1fgRJlELP0ByknObWSHPEkRYzzoIEqGqi3U/fgUPGBcSI90Pu2QMew3kcZaGrrrqANl1wkaNVQ/RhWNSNMjVlPT+VY9bPdGD5Rz7H+jRIw2HTI9aBRUef22DPW/ERx/aYwCT0YbTJBn1HLCSrcNbmC0CHwJ1pXTSqcyUMzrMM/M6C6d61zkuOqWTnUtelm6kWCD9gyyLoVINN0x2I76VR7yOqhvlnHT7myDz27VqPsjx0ZApMAZpdXXCoZt1kbVk98Z2gJG9JLv4HvnN3LC2TAy7HxhfdSPdkx/bLTp92ob9Xttfudsl202KUa39DlG+asfgjKyRaXY64Nkr8hY8X1da3ADHafPFYDXJ9NlbD5yRmdx4HYG+UgL6AgEk0DrSA0Nayz77rtvM1Dq942oDkJHr5H5u5Qf/M+R0tljs/NtRJ1bo+FgMToYsxqe3GHXHzQ4Cn9rVH7T0ERCNFIOpciLkRBpWAwPw9uUP8VRDdHxHDEKQMpWLe5Qit95RWJ8bid1n3Wvy7y5h8FnuN0oC7ljrEqHKxkvmdTpc9ilL8p1J2M1wXn4Puo79yhgwYljGDiP8zNudRC1aEjXUW7GD6Pdxkl1b1LhjES5J85n1zbzqdS/MuqYlZMBJ9pqRK2e8bIiUCCbwSg/Z0o6DyODrhrVvkomOU6eHecVdB9Dx7wOK7HpLyodsgyWOhcnV90ymujXQdQxx2/4uovG9UfpnGXb1Puo57gq0K2gB81btHy+UVejMNoteXL/m6F+yLQ+Xb0N15cAwmAQIWyMOuTgjNo2+m3UVrI8rQyzyWRBkZXanI/+YafReYKDAoVkYL1rVVsykFDBK/JQ9qHRtHL8Vp2s1tgRyrB6znOe0zpxc0Me/ehHj53/6zESWkL8J3/yJ72Xv/zl7ZwaQHUcDIJnPOMZbQUcTNsQXYuBzKh66Utf2hoNR0p5KWuNfbNzMx5E4J773Oc2x46xoNGWQfKUpzyljcCV4nBN98PBNGL2zGc+s40QwG/uUZRdCttjHvOY5txuB8pn/ox78jyWuXmV7HC2PROy2AUo+7e85S1Nzil/5VTX5IQha9GYRzziEc1oLfnZDEaBnPljjz22BUjImrQy7fBRj3pUS7XoItXulVcHKVCibkS4GfPqRluQSqxtYdp2P2uqbfjUbrQZjrX/6YOar+AZiKp7luRxHH3YFdyX1Fur1BkRJJfStLWpje6jnitZpCPpPDrXM+SI2ehxKUKCCgxkkAN4/ieddFKTB+mNcD2/S1960pOe1FKZSiYWjSCK4EEF2JYZ7al0j1Qtz2aV8HxsRste8IIXtMDoIx/5yGZwjzvKRZbtx7iWrCVYYTTFeet4qW5W37WYk/YflgdyYaO/6Sn6y3PVh8peIS/ss3FGvcgEebEgXK08Tr/R/0cffXRbGbRSX1eZOGcdwCMQlbIIhqXzRRc4H+YlEORxhZBQc85e9KIXtc05yzB1DsPJj33sY1sazCTnHUZ5RYM5kZw90WCfyut6mzU+x+ucX/3qVzdjmNGi4fle42U0KD+DzHd1Pn+LAhvR4LxZcahg7HAQOWbShrZyf9OgbIxhkUVLBUvX9B1FtayoQ8+FwWEUijHYBQfNyArZYbRyqkD2yYBURkGCesEyxpEDcmUuhVdWGLn27Nw7Q1ablJc/KItdoWTMvCTpwDo0ThpZrN/HYZK2Mu45t4J61iELCkidMl/OaPo4jnYXqDryLOgDDpr2Q/caIVTfG9W54xko9Ak5FwDzf92/yLLXRagXcl/nqutqI1IarfhbK5Dah64WwJJWWeVYNJxwGRJGdwXp3NciZGpeeCZk1Zw/z5ecrpKDVnaFOd5GbS2oxI6QleC+x5Ghcs70i8973vPau60Y8s5dx3vPGWNcauOqObirjL6T3UXf6Iuq7/G8tQeOWQVKfbeZvJAJmE9Lx9GB5Iw9a8708ccf30Zuu9YXz5rMOdtmqhMWHSDcRgIItFUOCd8kxohzaRiiUwTb34MCLL3LHBoTyMdpJKNwDY3H6NBpp53WlK3ItmiwBjRug+GQiZ5xsDToOo4jIJ3T3Dgpj4Nl9Lf9GN2OYZgzTKzko9HWSnSiwdPc21ahpNQ9w4NR5h4ZH1JJl3FTfp+i29JrpRkYhSED21G/8Ny1EQvQmHxMFpWHTCifKB1HqmRgknK6V/LI0anjdCiMLaPOrjOufM+baoeiz2TOZGwGj7l4YNyoA/UyONqy3mafcbdRx89ic+4qr0/3SPaMsGjrUqEFBzwTbJcMjoOyMSYs/uG5iBqbc2ES/zgBLHi+9KtgAX2LknWBMPNxBdwGz1Uyrw5dR73pX0SwLWctyGJk2Uhw1eOiUHZwzozuWrRHKpT/bYO6Z1k2OrL0PPSvgqueUZflc1w8M/2a9G6rJ7uvWnxGm8W492k/8khfsXf87fwls/oW6egWvGFLhOWArVMLfoDeolvoG4FSuorc0EfjyErJhL5Nejvd51j2rHMLwMqqKLlZVTJyts2ofqNQIpxGAzglj3vc43a8D2xcY9B57E/hcQ5E+3UahNpvziMFgeNnVE5jmZS6BqNDmo0olzRGw9ka4riNxXk0aKNtJpFW+RxrxMPohRGL+m4YBrpOneEiosdBY2yIJnPoxq2zWaNcDHv1b7U89aRjcw/qrRinjgp1MylbOf/gsWSHQ88xM3rB6TFPZjuocloUgVFH5hi+8BvZNhogSqe843YEhXN4ZmTvTW9608Xf/nKBGWmNhx56aDNGnHc7IUc298ZxMYpM3oz6ae/aNWdSO/Ks3Nd67WgrzPp89XyrnUgH9BJVRqG/ORd0AgfHPCsTxovtau+bwViR9m3BJIsbPexhD2uLeWCzMqsPusPoEpkUiHCM+uGg0uNWsuUIeBajngfjRiCDccOwcW16Ul2OO+IxD8itkUBpxOaNer7uq2SgmKR8w8duxqT3Pnj+4WO1OW2NESqwWCNKy457dq/6aqNmFhrj2JNjfe0kOrbOJcWWrWNlZ324wIHvbc4prVHQwVyj0G3qmQo+seWkvdJR7CA2mdHVww8/vOlqztq4skIXOA/dpd8VnNKe2LZ010te8pL2+hG23ioT52wbIYQE2bwCcwAYV1JYTLSl+CYxBD1G5+MQ6NBFLCg/jaJSChjaIqdeEi2yWo1rXOyvvKKEGohImsanAYlqj3OuKqeGfOSRR7Z3pSij7zU2qT/qQDpTNdJR2J/xUvemg1xv30VRZVI/nqW/3cMy4lnaPBtywwkfTJ9aNCU3UmHMoyEjRlS0Eb+Jtj7+8Y9vI2dkYdJyOreIrjRby4/733nJNUNYe6qVA7eDun+fZN4ImTRoIxAWiWDwciS9KsPE68F5SMsIZ8JiIGeffXYLBNFl9IOgFQOYkcgxqefvuWyXbA6jPMrCATGHmDwyVOh1ehebldU5GCOyE1784hf/hxetS/cmj94VRD4x6nwlK3S2v7XlSYykeeEeBCTpSQ5klW8ZUZdkUFvjNDMep9E/XYTseC50DBnkPAl+CZIIVE1zj/SUDCHTFsyxdw2QbfUn4GthMaNoq1CHqwq5sHlGgkfkw0iy50h301EvfOEL2yjXpLYZ/eC8At3kjY2ojbFtB50+AVmsrJysVXDYJtaEuP/3f//3/Sc84Qn9NWHuH3HEEf01I6S/1ln115TWxXuNx5pA99ecgf7Pfvaz/ppz1r/a1a7WXxPa/lqn0V9rGP21Trm/Ztz099tvv/6agtxxzCTY3/k//OEP99ecqP7v//7v99///ve38trGwX05xzvf+c7+H/zBH7QyrjXeVr4147L/jGc8o7/m2IxVNvvU1iWUx31WvSz7NqkszgN1qixrHXr/qU99an+tI++vKewm37Y999yz/653vWtqedB2PvCBD/TXnJv+mgHdzkkm14yt/mGHHdb/+te/vm31UPLk8/vf/37/He94R9MVN7zhDfuXu9zl+mvOc3/NaemvOaf9T37yk/01w7fpluHnuCybsnse7uPTn/50/+lPf3r/Bje4Qf/Sl750f81oa3+7/zUnuulPdVNbV/jBD37Qf8lLXtK//vWv3z/yyCP7a87V2HJZMuze3Pvv/M7v7NDhPvfaa68mA2vO28VHrE+da9xrLwrl8bxGPf9l3Kp9rgr1fL7whS/0H/KQhzRdc8IJJ/Qvuuiidr+T3qv9bT//+c/7p512Wv/a1752k2c6nEz7XDO8+2tGfn/Nab/4qNBVSt7XHLL+oYce2p6d56nfZNPd7na361944YVNVibFuW1rTln/Zje7WTuvPpmc6AOOOuqoJoclU6vK9g417MSsCV9L5zDHxUiXKLDUF0PAa8+l7eNzTfjG2mrfNQFu0YWK0A7id9eUGjYNrmET7VxrhC2CJpItquG6m1HHG1EySV2kpb4X/TBCUy+uVtbNcExtXUJ51Id6WYVtnGe7CNSrNFZpWmTI/2RnTXm3lC2R3WlZ60TauW3VnqCdGsEQtcM4cjkrlKHKogxG9kSdRSTl+FuRD+YxmQdioQdzXqRY1XNbxk3ZPVP6wP24t4MPPrjNKfS7NCvp0BYWkB4l5Y9OUk+1bRd1bfJJZsyNkO5WL08dh7oHI0tk3bN3bG1GSKXu0sGbyePgcV1CeepZr8LmXrpWx1vBvZA7i35ZkEGqtP7e6FZRcjruRlbJLBunRhd9D3/TwdoxnRu6TT032StG9YefmcwnmSbTtgmyIltiUK87l+8HV4Sscqwicc62gRIqHa+UAR25OT1WKyKAg4re5zgb6jgpB9ICMCjAPjlnUgvqu0lwfkqVwSTv/KEPfWhbohtVhnFgtLh3hrDjlMWn1DkGtutMU76w+kgX5diToZI5zryV5wbnIU0KZe/cZBLkb1AGywieRM63imu5T06ZV2PI6/dpLpayum/vFZTOadU+AR5BGcetwkYPMOZ09OYYSGextD6d4zl5H+JrXvOa3rOe9axWLwJddNt2otwgi56NtByrz00zP8KKtlK/6Gx1Ac+cY8ZIrmuFMGvoQy8/tyADmZOeVovIlNxNIn/2ra0W/yl7paBv6TXB4/T/3aaejzmjgmXVP/qkm/RFdN60z9FxXtVUzll95/wcwWnPu0xkztk2UKNm5mwxLGAhEAJN+IaV1jh4jPUoCbXJ1jp2UT3Xc06bhQJMyBWFrmtNivNxKB07aoRuIyh9jtkxxxzTlv6ue6WwGV6WTrXsqnuZpmxhddFpm3/09Kc/vS0Gw1AgJ0aOvP+E/EzqoFWbMUpx6qmntlEpBkJ1NiamO69FelynDIx54to6JXOurLpqGXYOmcn02o9Ozyp9Vig1x0xbrpe1z7ts24FnVHVikQ0LE5ADc+1E98mB+QfqwbuSLBhizh1Z2C4dosx0JF0poKWM4+JY8zbMfTS3kpHsuaoDczksBGJhlJWfcxEWDtkjT+a0WgTk9NNPb87ZTW9604leOD2KOreFHiySw04pG6R0l0Wd6HKLqrBdQjfRD9FtbFjrJdRrEXxvJc+nPe1pbcXxChZOQulOr0sSfBOIIwvO7XxkhA0gSIXt0vHzJs7ZglHdHDMvctTxmtRPuKTwlLG51c6WEDNafDqXc5bysyT4cccd15asre+nYZpyOsZIgJXlvMHBanvOoeGJtlDKD3/4wxMVDiMRbOBAMRqkPJAbcmIVSQsvWDG05HxcyCSc2yI3Xhas09HROA9ZrBfCixz7bp6yqTw6OsEVi0FYOIfjqN34jRMmkKNMAi0MJoGNVe2gBnH/nBYjSlKtpHaK7FuG3f1zgiyQQcdxXrz3sByYZcJ9km/Pn6wLZhVG4YyUknnPPYRZQu/Rf4If0oYtVqZtlY6Zhe5jlwi0+IRz0uXOb6EfAVq6nCM4T10bpqP6TA78CSec0F52X5ksnCrTc/TH3qk4ab9U59bnecH+O97xjqbznZtcspN9L4tCejdWVUZWv0fvGITPSlVeFisNR4qgSC9DS1qjqIPPaTZzGyg1UWNRBUJL2dZ1bRxD19+qQE96vGsri0bsHSfylEshO5c0TKMBPqvMIRTkh8I2iiCSRm58ZxTJvB6KmjxNSrURBj6DmMHgvAUDwQpsNSK31XazGa6tjXBAGOWiywIt7tcmciiX37v9fCqfYwbLvMrU8/C8Oc6DkVkjq0YX1RkZGX6Wy0CV1z0YGTSKW89X8I6s2+q5hzAryJO2VO+RvOiii5otYdSMfbFV28SnuWsyEARNKrhWuL52KzU5NkB38Ww8NzpKyj3naVBHmWIgSDapY1Y4t75YH8gh83/JifOb+sJJG/x+FcnI2QJR1QwIqUqGbBkWRos4JZiFoLkGwbbIiMnynLE6r08NR1TDMswa2TQG7TQol4bGCLb06oknntjK43v1oANQrt13372Va9qGHVYTsuP9Zk9+8pPbAhDklpx4abm5j17LwIGapg1pI1IHyZ9le0v2nEuQw0iFOZa+X0R7EX3kmNETXtT+8Y9/vP3P2dBWGOc3v/nN2zxVaXyjDJ1Vw7MmAzpsz+icc85pwS26zvPjrHBYvWDfyKL6MVfN98sEfWiT9iWzwnvs3Lf7t6iIzAKyWCk9q/zMw2IhZwJBFh3yUntGsBF60y3ovln0yWTbPCVTK4x61/yy0qtGvU15uP3tb99G68h3ZLxbkBOyYFTrMY95TOubPCPf64NN1fH6mXKgJqFsP6nrRsdMX/Ad+dD/yRSR3aLvq0VlVpVYwAuCAiJk0qc4TlYqlJNroi3nzDyrrWyiUfUp2uWco+Y5MPykTS2aakTuWx1oaPWdcjKsarW9VW5wYToY4Dp1o2dlwEKan4DDNAsuwHm0CatOOf8wRnJ1CItwygqdjpSQmusmpbLe66W8Itte/Hn88ce3F1DrwNwD/bJqlN40mmgkSaqf+/YOMXqEQaBevLhWPenQ/S0FddkcM9B97rVk3f2VPmT4kPVa7CmEWaKtyWqxQiOZo39Mfxi2NabdykZhnwg06PdLtqudGznjIK6iLlsVOE/0kpFVz8uzg2cmm4GOGmV7TgLdTv+Rjzo/atG4RfbH20WcswVBwBiY73//+1s0XGTXC5cte82IIMwEbtrN8RqNv2vuhb9RChA6fg1q0bh/DhnDcnAOhe+NBjCwpln5sYu4J4rKRokt8+YeBpXjduD6AgqWjpfmVZB3cl5pXtN26NJoyGSduzoEcilooLPx3SLlUns2Ed8CEFYqNMH6qU99ansBsw5KxNlqhebgeQEoneI+PLPtfl6zotoQfSXK/oIXvKBNEGdA0mP0BUdMvchEYEzSI/UqgWVF2nnJ46DMkXUjZiLSWBU9OaxzlnHrgp6clir39773vRb0MOVgt912a1ksAgJ00Vbtk9robIE0us3/GKy3wbTGVdFjq4RnQu94RhasoocH0Tfpj8nLNPqJfNB7Fn7ipA9CXsqxt9+y67/NiHO2IChwAmcBEDAqRJJQSmqrEFabdACGCwGu7+tTORh28oQXiUbNOZOnXCMU1dClZTGCOZWrgHsq5eFz2beSn+2gOmgGK8dep6BMvueQSWvUIWyljFLlauW/OrfzMSLIZc3f9NsicU0OovZBVwjmGB06/PDDm+GkvZiUzaB62cte1lL93Eu1NdugAblMW5XdiKbXjVgqX6qL+/Xc3b+J4UcddVQbVVQ/orarkOpCxkWlK8OBoUqnG01lmMyqv9huqk2twuZellXuykG2+IcgiJGJ29zmNm1OawV9Z3FvdQ7BBZvzDuJ3tokgdpyzbuK5gI6yhD470nP0rOhe76mddkE3MgjBAYHHmssG56P36HlzjodlZxWJc7YACBjjUjqj1dcs/mGuCMNrFkpvEOdz3jJUMKjoNACRiTJEF4nUK8PVUhvrvpVBJ6BRrwLqWt0ykssRXeTGmJ10W+9Y35nTw0hkLG8nInTkRjlKbo2QGCnhnJHvaeTZcSLGooAMg/oO2hC5NGKxHWgjtXFIRLEtF3/wwQe3kSLOmu/Ui/l4cvEtNOS56chs6mRZN7J39tlnt/kp5l7RoZ6J+QbmHj7kIQ9pCw34btCILN2yrGhvFjZhpNa9uEcpYRZCWYV7ZHgZJdkOHTmrrcruUwpWzZ9aJvRXZEngywqx5M5KoBb/EJyataypH/aJkTNtFs7vexv9Xv3Nssv4KlLPiawPpl371B9bkM6znebZlZ1qEIOd7O9yBv3NTrzOda6z06xSmwVB5ozq1RFZNt58CALsZbK3ve1tm/E0DwVEsRFuS5oSdCgH44XC9f0zn/nMNiLg+0UoQY3My4P/5E/+pHfmmWe2OqGcGZ1GES3JOs0KPyW+XVDkFJRokhEMKXiMKw7popmkSQ/X22B9ehY6UmkK3qklqLBoxag8ZOeTn/xke7fJ+973viYzvrfgg8U6OCvljEyCczAEzjrrrNYeBA7cs++dSwCFvO6xxx47DIntpuqDXGnbZO1Nb3pT+9uzkoJpHqsFdvxv383aht8naT/KYJsXyqLteOZGyxiOdJpRzAMOOKCldnoPkuBTOWSrAqPHSKj37XldgHujV0SMK3WzFkqYhHpeXagrwSvp/Ra8ERipkZJlo+qSDJr7KnBiIQvzHSfVRdsF2bJ55+hLX/rSplPNc7Wy4jRythmlj7wiQjp2te1CXbq+EXFBt1Vr38uOZ0W2LVLlGRlt1TcKnpIdi9CZpzjNHHDnpqfoPovG0YW+8/zJjWDks5/97Kb72QCrTpyzOaJqbUYhvDNEVNtqW4985CPb0Oy8lA5l+9WvfrX34Ac/uL28FsrhehqNyDOjU4df388T11AmDdm9W23P/4wrnZoIuBV+NPJlVcTukTKRFsL5lpbkfkY5Z/adhEU8n2LwWjpGilhandU9PSeO2iJkpnAtjrzVFNXrJz7xiR3OGSVtZS8GK+U9qQPlGE60lEBzmSpl0r0ZobBSmdVUpZJ1SS7du02HKHJv1OyNb3xjW73QPQkADaYNKXv93VXcj7L7VF6fjHijZfSEwMC97nWvFtWXysrxXBYDeBzcO0SjTznllGbkCBaoC7rSKpTeDSmo57suyeOk0I36Q4GFcszq/pcRcqh9eS3Oox71qOagaYPL8Iz0T2wFRq8Aj5VA6dN5rQCrXYMz+KIXvagFken3QZmWruxdZ9IrB78P24926nlYqdE86C996UutP9aOrbTppdRG+CfVzSUX0tbNIZYxwTGj+yBDxPfkU9/WlWDpPOl2j73EEDaCRfGIgJqwT3mLaktRmTeiXuadjWokDB6GKKpRzBsNTfqHfOLqiF2b4WvRg2kam/swIim6XvMzthMdNGeTYa/+1T3DkvLyWRvDcpLN8eNug9cZdxu81vBv7sOIpudU0bBFdZYlmz4ZEWSoIC/KVSvXTVMm57Pwgvx2joDn5VruW1s1WliL1HSJMlg8L9FKc650WhYZUvZaEdVItU2b44Qa1bX5f6ub821lG3U+n1VmnbT7IHMisY94xCOa0WhUgkx23dmclJJ1KefqgZMGulK7FhRhME8j5565lDXvCByewL8dkFspSu7H39PqrS5tDEZ6n06imxalI6dlUN6M1DKyjfxpa+5hHo4Zqu93DXaQ6wy2Zb+zTchplTF0C8+IM8a+9YxsnqO+UjuYRm7qWVdKI7vZ+Z0X0mzJ5mDQcdXJyNmcUK0UjKiUlD3L05onIRovqlZCNw8ItYj6E57whBaBIOgog86LIP/0T/+0RaE1tHmWBa5hDpaoimiLevGdsmhwRj8YlhinYatbx6tbQ+DuV8obJ89v29UxurZ5FFaTk7uvjKOal/KNW0bHjzrHrKiyDF5nsHwUIQdI3RqxmLesDFLlIS/SGY0cGAlm/JTsaFNkx76TlM3+DGDv85Few0lzvO+l0xx00EFtlJdR3GWUl5MpOCHVxKiLUcaf/OQnO+RPXdnc37hyt0iUURv2nOkq/3vGAh1GiqStGjnzv3tYxc7Zs4JUTqMY+gvfqRftj/N9xBFHNGcc4z5HdWqUwnxnr24x+ihrYztxT9obp5EhXve+rHgW5NJIjzmqnlcX29kg6lwZ6Qrv06M/vCtSVo12Nq/ye/bObQ6pvtv7/GScFMq1//77tzRzmRHaetfrcmeidLVFmjwjC2nR1b6/613v2mxd02Um0dGO9YwFSB3vVSnSneF7ATojqbLOOIA7izzEOZsTqtULl6Wn2KSlSCU0b4JwzUvAXJeCY3gyZi21Xal1rilKqQPxwl05vBqaxjUpg2Kz2b0wHjlS0hg4aGV0cFIpYmWpFIZxcG3Gp6F1Cp4Sd27RWL/Nq27HwfUr6rMKqMuSm+0witUn+WFEcOI5IAwhssPYrPkRZMr34+Cc9i/nnvFaRoO2IHhhLtvd7na3dt9dx/3YjCR/7GMf67361a9u6bXaCKeMY3PnO9+5tQ/3OPwct6u91HPwKfX7ne98Z0t5pq+ksUgP45hZmbEMxu0q67S4N2xWbvVAzr2/7thjj+1deOGFO74XFCHnXuyqXsatA8dygsi4lFfGt9cyTDMfZNZob+63ZHeZqedB/9AfyyCj6tzousV2pJdyygQALLA0rh6dhnreRkfIpWtXIIleIheyi8w5kianLpehPncWqp+UrSTN0Gg8efGdqQ9sOf3MpM4ZZAwceuihzXHXB/jeuY3octgs/jSPeZCdZa0CwoxZUzT9X/ziF/01Q7J/61vfun+d61ynf/bZZ/fXBK79Nk+cf63T6685hv2nPOUp/bWOmOT31wS6bWvGWn+XXXbpn3766W3fNUfi4iPng2v87Gc/668Zi/2b3vSm/bVG21/rwFpZrnCFK7Qy/vCHP5yoXtYURP9b3/pW//DDD+9f//rX7685oa2+u4QyrsLmuUzybOaBcnziE5/o3+EOd+ivKesmw1e84hX7D33oQ/trnfzEZbQvmTvzzDP7N7vZzZpMXupSl2rb7/3e7/Wf8Yxn9L/5zW9evPdy4J7U0z/+4z/23/rWt/Zvd7vb9dcc2HZPN77xjfunnHJKf80Y6//oRz/q//jHP+7MtuZQ9tccs1a+Nad4x7PdZ599+ueff35/zXBr97XsbCSfJb//8A//0H/BC17Qv8Y1rtHk/Fd/9VfbtuuuuzZZ/elPf3rxEeNBJ5533nn9NSe3tZ33ve99narLktlV2TZ6xl1COX/+85/3X/e61/X32muvJh/6Z/K1iHtwDfr1iCOO6F/+8pdv9sCgXXCLW9yi2U5sk2Wp050FtqVn4vmw5+gnOvsyl7lM/1GPelT/O9/5TmsLk6IveP3rX9+/+tWv3uTAeckCXUgn0o3ztlW7xurlh2wza3XaNvOrrAInOm/VN+8NWVRUzfVFLkRZK6oxiFSXtcbQ/rbvJKw1vBbltgiBeQxy1Y0UbYTrqQdR3EKZREFEWUT31xr8xb9sjPK6njkpouxG3KQ+GeGY9F7mifpfhc1zWoTMrodnWrJitKzwPZkZV24K+5Nhy7ST4a997WutjTgfOTQKZ8SMXE167u2knpM6kq685ri2F3a6L/doRUdtVT3WZgRlOzbzBnyqb+1WuSyW5HUGyitibvGZPffcs+1DDpcNKTrui4780Ic+1NLMyd0oSpaNZEiJlhpdbc69m8u03vzhUTifjY7/3Oc+17IoRJ2NinSpLt1j6ZlV2OqZdRlyAXM8pbpKH5OOps1pa4tC6iddNareZACY01RyXGUO3cHzM9dyq9SztUiQUVTTX6o94Za3vGVLxZY5Ud/tLMQ5mzGEzTD9eeed11JUrn3ta7eJ7Ca/LlJ568grFWhQufmbkaCMk+A4k4elEprnYz7bk570pPbJsNrIQWOoMBIcr1wMEefTuM3v4bROYghLF5W2ZcEAjde7NbAMnWOYjHqmNeF+0ICQFjWJ3JA55zPHgWNvKW9zLXxPLhko2qp3qZDJZesM3Jsye88Mx8b8VvfC0LHoifmn0okG992OzbVtnh3H8W1ve1tbNMn/2vKBBx7YAlplvC0T9KB78s45qbF0pJTEl7zkJa3u6V7yNox755jZRzCr6sf9WzijFmmYBOUwh42ONT9T+wk7LxUcYAC/+c1vbvN3TQnwqpB6sS+5mydkn1wLzmjfo2Sa/LMZ7Be6Reluzpl0a/0kPFe6b9Jn5jj9uDnl0hn9XTJoKpDXPlWa5LL1BVslztkMofwIl/x+BgcnYrfddmvKb9EQcNFxken6v9CAOGca0+D366EBUZjuy4RNEbcvfOELbTSMgcsJNbnbfraijrP6mn3L6KiNczbuylDOpX7L0BSNNjmeEccJDasL2dAZiPx71uSXLHCsdOIYlLuNkMsut917lozkOrc28ru/+7tt1cNb3epWU6841QWUWyfGIDcnT1TcSpvqyj0LGhk1HLe+5oVyWjTHPDMjmEZ5OA/KbORPMGsRxuKsMULGCfZqBvMkTZgXmHKfVpYVUBrGsxC44pyRSX2I78rQIfPjRo4d41jZDa7vWVvp7PrXv34LbGz3cw/bg+duMypLD5BHfalMAe9GLCN7EWjTrsc+IdNVtpJNdol2slHAN2wPpY/1x9ZP0Hd6hvSOZzboXG2GPtxxAlIWhqlRM8dblderoLyvk524bP3ALIhzNgMoFUJJmXBSTMjnyIhgi0wxNKqjXSQUIENzEGVVFkp6ktRG6Q+cMPdVLwe0UfCGpL1MctR5GB1eIyBlR5rlIPbXQMe5vjKrX8ZLpWOY3M7o0HB3xsa7M0F2vD+FAe9ZkwVyR6GXTG9EyU85BDoDjprOwDm93NjGkRnHCO4yyq9Ds/CPezK67H+Og1UAjaaoi3Ha3TzwLNS9TlnaH91BVyonZ1JEdhnbs/p0T5Ym1w+oYzrS/TJcfDfsnJUOlNJpcr39K5VTHZRs+9zsedW+gmAcQXVbLyWv6HP05M4HuSBX5MwI9WmnndaCBlK3ZfZoe4uUi5Jlcl4jZ4PX127o9UptDN3BcyJHRj3ZXjV1xjMThB93xLNkoFZMttBX6Tt9sNWSTS+YZAGkVSPO2QwoBSIif+KJJ7bIFCFlEFW6wCKVjGu5ZnXyw2hcnDOjZ6N+H8S5NDajgCK7HDP/O0dRKWeDjchxGqzcdpFxI2QMxcH9dBgi+j43wzH2tYQr49KQt3l8ww5fWE20Jcv5G4lmTJAtMsxJJ4ubKfCSH+mw0nCNKJA7HYFVS600xZDVHiZNH+si7ldUU1qjOZnuTbuV6sZ50C6xSL1UuKbrcx4Yicrlhfieg/fLCSpt9jy7RNUhh9NcWEEDf5NL92ZzT/oCslv43rHk0svVGTdWCiXjNVKmHgTRbPbfDOeT1WCElHFrFLJGzcLOR8kMWSRjr3vd65qDpu/Xd5ZxvUg94Fpku9r5cFun2wUxBBnGkfmwWDw7mznNVtKt/pJDLQjvuW0kT37zzMmg9Nrzzz+/BfHJqIEMae36Y/qyMr92RuKcTQgBYtTZKBFbjQ6ZV2DiPcVCAHW6JayUjGMcP0tcp8rj3DbX4hyKxppcW/vVpzKLVhuFsr//6xy22hcakf/dg8ZUv/leA2VsSI0wxO03m3M4p0VRKjJuWWxLQUvxZGhr0M7JmGFEKPPgdeH/qm/nMt/N6J30NktsMzhXwZAOm0PepLFaEt5otI6dc8bQqFHb4bZV31UblYL7xje+sTkEzud9LAIGlpB2Th3BKsmTe5R+IvXX6Im5S4Is0t0ETOinRRs/nonnJi3Z6KXyiODf4Q53aCks9Am9smy4LxtdxjGr/23uR9osx0uQynfqnWzS05bN9zwYJuYJ3ve+920jGvQkjHhKUyTHdc5BnMtvrs0xO/3005tevctd7tJepO6aYfUhF9VfVh9sIz8CMscdd1zrj+lCMqNPtZGb2n9YtraK61R5alNGZTKSPPyOM9dnZ5gGoZzDx9pmXcYwGWUT0lH77LNPy3Qwh9AoGPmi0z0nz3MY39OP9J4AkvRvwSznFCi1kJV0RradgJLvd1Yu+cdehhXGhrAQOhF7HaBo1JvXvH9CViNmpeRKEEVBGUY1AXaWAudcNgaA60rbMsdB6h9HUac+aLQql005IXLGKGXs2kaVz/4MKg6o6G4ZDUbMDD0/8IEPbA20cDwFa96duhEVt/qaT2WUviPK4rqMR86d1ciU07UGr+9/+5555pktXVR5DzvssObkrZoxHdaHHHjW2lCN4hpNIDMUuY5CG9A2hzsF+zF+vW/QJHjGiGMe8IAHtPQJx5L9ZXQKxkEb09EZNePIapvq0qhavftsuM3PA8/Q8+Ic001SpMF55JRwkGetHxeJcpNLKTqCYqWb3BeHyyhWpZDZ1IcVHaX1yLowcrjvvvs2XSqoZ3RRAEudCUhJ6zVPp/Rk4Vz6Gk4eGfeuO1kF5JtTuMx1Gsan5IrNwT4hUwJS+k7vFxXIogvJCvxN57FNjFLoz0tmZ4lr2JSLPUJOyTyHkZOmPCXPJcvsjVo0pNIfq7+PLG8/npfnwaFiE379619vNqWAnyCU/tVzKocb9T8bkG14yimntDRw/bG+SJBUAF+wjo25sz/nvIR6TFSTVKgzzjijpdXpNCkQ34k+EUz7lHFIGREuiqWMR4qGISIyQBHafysC6JocQsPCylJKjWLWuRvB05GXsVrX8ql8IrUmXmpgtbS1clnpzXyuwTJykF7+8pf3XvziFzcla0jb0LNFFBgO5bC5nhE5L/aVgni1q12trVYmVcc1OY8cWUaEczJE1Mfhhx/eOgjXsrlupftIxdCIpbV5SaGURkbOVusvLB9kj3HPUSdjFL029fCHP7zNWSLThX2NHusILNPLOdGhcOw5A/aXZrvKHX61fXrqta99bWvD9JX5aI94xCNaZ6jdzZsqh/bvuWn/IudGQx/5yEe2kXBBrGV9DnQRGMNexGr1MfdDxiwF7ZOeLeOXYUy36U+MElgIRZCLPibTHKyTTjqpzRGk5x1/1FFHNQePri7oW7q+sgrofyNmVjnzjGPkrD7VD1qBlgwwlI06lX2inzVCNcoWELghc/ppThrZMYpNj25VbtgfXlZsFT59OSPcJx1AZv1N1qv81Yb8LVimvdAPykXmfae8Xpht4SbtK2wfnhd5EpDy0nCyR8Zktwig65fZlPBMPWvBKAF7r5kyuEE/kTf9MbvTKH/Zzjs7GTkbA0LI0PvsZz/b3qjPIaIAOSGl+DhGBNW+tfmfQIr0iy7YKBdzQKqDnVYInd+1Tz311NbBc14YraJlolEitxWRqq2OsymbTp+iVC5GrOMZTIw1Sy8rY5WPUcFZc6+GrzmnGp7GyBk0NK2RqhupY4wUUVsjE5wpjinlKvJb7zZTfmWlqJ2TstaZqFsT2s0NYlTbR8oTQ9KncqUB75x47tqQkVZyXG2L3JNDBgl5kd4lxYIsMhDIFedeMIERrOOod0etshy5N5u2BzrL6Jl2rD0bjbGyYzkN86L0jrZt1MwIputzOvbff/8W4KmyLiNVdsaGuqbLyKJ79j/DtHStfoQzRb/5Th14hQP5FDywPyOFHtbvkGsjDhVws9G3MhDIuPqkb+lFmQxG36SZ07HLWp9hMsgXWRD45NjTh9WvDjpmNlR7dBz5Ipf6fo6ad+Jpm9O2R+d1HF0jiMZoN1omCOEagkOV9VA2Ux1Xf/uNDUOXO0ZgzfF0l6CD156wKcL24Rnrj+kpQU62LnnzvIz6s+/oQbqqsrmMmBpM8GyNlhkEYCMK3uvXV70/noSMnI0JwWPweX8N718nTIGUQlmvGkvB6XAdY44LYeSkbAXXK+eMUq6yDCvfwt+jhL7KV41ClEoesUZTDiQcT5FT+tIRRHQpX06aBlrXY1yIut385jdv0VtKtJypOg+nUYfAkWNY1DL76qjKaX/HSQlSHuejAAYjMWHnhIwwWil9MqTz13kzQkqe7QNtjhPG4DA6IeXC/74vmdwZUB8cWfORjj/++OYUcAaMOBoBVyfzxPV1yEYxzX0RTJJNcMQRR7SUv1WZF0UPM0g4nxwwo2MMlkG9XLqNIWykglwaIaA7S6/Zn74l1+qMvmWoOp6urk8b40iwwUqXMhroX7o0OnLngCywTwShpC8KRPlu2PEZBRkhQ/YVpJEKayRjFqPYjHTOovRl/XuVZ3DbCNcvHV2fUt4sGCGgEeesG3iO+mMBJLYhvScI57uy6WyeP6efrhewp/e815K+Kt0XnfXvxDkbE9VEwTBqjDgRokmqrgSv8rtnIYScHFFUKQzKUts0VHk0JuVbL61BJ+CaGqLRNhESEWJ1Q8lLU7TimvllRsgYwaPOo+yiZ4a2nUdEjPGobqsMor9WGpNyoVFT0LOot7AakKGKzBn1JYsMYTJK7rQ1Rq9IKxki04OBgp0JHSPHgbNw7LHHNmNfoON+97tfSzs2yo151E3pJM9JWqW5Bto5Z8KLms051a5X5bm4X4ECwTN6TfCJvuSckk0RYrqNnjRiWPN+h3Ee+5Npsk1PMrzpe4YPWbaoDV3L0eZg17ujws4FWSFfZI7M1HfjoO3Zt3Qmx2wWMlSyq593/sFtUpTRVsG2sgdCN/BM9TFsQUF7Axicc7YiOaCX2HT6GUE5gXZOWvTV+sQ5m5CK/kwLQZylg1GNYpZsVkbXs2l0FRGzOYZjpcH53Og8yl1lZ2gwtG11Ho4eRWxznjTgMMywDNlqBHlQhhi+JYu17WyoEzDeRNitlKXtWsVRWqH5HZhn3RgtF1WV1kJHcM5ET2vUbJWeS8kleSSXdKX/fU8WySXnmIxupNvqPHSjc/gsGXcc2XauzfRt2DkgG9NAnsjOrGWo5HdWVBlDNymdR1cN98d0FH1lo/d8N0tZWzXinIWpITqjxGfSRjer84Sdl1EyVLITGfp3dJ4VYddxikLXu47mjesZ6RRNZ2C59rIunT8uJZOD8jmo18aVzUHZHvx78FwhhNAFBvWdz0EdFed6POKchRDCTgSVX9HsWUfKx8G1q8Pe2TrqYUMlhBBWmei86YhzFkIIIYQQQggdIOOLIYQQQgghhNAB4pyFEEIIIYQQQgeIcxZCCCGEEEIIHSDOWQghhBBCCCF0gDhnIYQQQgghhNAB4pyFEEIIIYQQQgeIcxZCCCGEEEIIHSDOWQghhBBCCCF0gDhnIYQQQgghhNAB4pyFEEIIIYQQQgeIcxZCCCGEEEIIHSDOWQghhBBCCCF0gDhnIYQQQgghhNAB4pyFEEIIIYQQQgeIcxZCCCGEEEIIHSDOWQghhBBCCCF0gDhnIYQQQgghhNAB4pyFEEIIIYQQQgeIcxZCCCGEEEIIHSDOWQghhBBCCCF0gDhnIYQQQgghhNAB4pyFEEIIIYQQQgeIcxZCCCGEEEIIHSDOWQghhBBCCCF0gDhnIYQQQgghhNAB4pyFEEIIIYQQQgeIcxZCCCGEEEIIHSDOWQghhBBCCCFsO73e/wcLm0S2i4LQogAAAABJRU5ErkJggg==)"
      ],
      "metadata": {
        "id": "Eemtp0qVbCtQ"
      }
    },
    {
      "cell_type": "markdown",
      "source": [
        "[\n",
        "\n",
        "*   Liste öğesi\n",
        "*   Liste öğesi\n",
        "\n",
        "![image.png](data:image/png;base64,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)"
      ],
      "metadata": {
        "id": "hKQR6RV6bT66"
      }
    },
    {
      "cell_type": "code",
      "source": [
        "A = np.array([[1, 1],[1.5, 4]])\n",
        "b = np.array([2200, 5050])"
      ],
      "metadata": {
        "id": "RB8ikuGHbThM"
      },
      "execution_count": null,
      "outputs": []
    },
    {
      "cell_type": "code",
      "source": [
        "np.linalg.solve(A, b)"
      ],
      "metadata": {
        "colab": {
          "base_uri": "https://localhost:8080/"
        },
        "id": "GL0-MXWBZSY_",
        "outputId": "dc64044f-2485-4130-e6ef-24001b216e52"
      },
      "execution_count": null,
      "outputs": [
        {
          "output_type": "execute_result",
          "data": {
            "text/plain": [
              "array([1500.,  700.])"
            ]
          },
          "metadata": {},
          "execution_count": 86
        }
      ]
    },
    {
      "cell_type": "code",
      "source": [
        "np.linalg.inv(A).dot(b)"
      ],
      "metadata": {
        "colab": {
          "base_uri": "https://localhost:8080/"
        },
        "id": "5Q3kQaVBao6H",
        "outputId": "137e94b5-e43f-470b-ab5f-e8d99a09ef55"
      },
      "execution_count": null,
      "outputs": [
        {
          "output_type": "execute_result",
          "data": {
            "text/plain": [
              "array([1500.,  700.])"
            ]
          },
          "metadata": {},
          "execution_count": 87
        }
      ]
    },
    {
      "cell_type": "markdown",
      "source": [
        "## Generating Data"
      ],
      "metadata": {
        "id": "OVptphl2plub"
      }
    },
    {
      "cell_type": "code",
      "source": [
        "np.zeros((2, 3))"
      ],
      "metadata": {
        "id": "gQEqS_uJao_q",
        "colab": {
          "base_uri": "https://localhost:8080/"
        },
        "outputId": "be762506-7d25-413a-f9d3-441538d573ef"
      },
      "execution_count": 2,
      "outputs": [
        {
          "output_type": "execute_result",
          "data": {
            "text/plain": [
              "array([[0., 0., 0.],\n",
              "       [0., 0., 0.]])"
            ]
          },
          "metadata": {},
          "execution_count": 2
        }
      ]
    },
    {
      "cell_type": "code",
      "source": [
        "np.ones((2, 3))"
      ],
      "metadata": {
        "colab": {
          "base_uri": "https://localhost:8080/"
        },
        "id": "Ze41jujbpocq",
        "outputId": "e6730ead-6f64-4e36-a9ab-da37e5b67565"
      },
      "execution_count": 3,
      "outputs": [
        {
          "output_type": "execute_result",
          "data": {
            "text/plain": [
              "array([[1., 1., 1.],\n",
              "       [1., 1., 1.]])"
            ]
          },
          "metadata": {},
          "execution_count": 3
        }
      ]
    },
    {
      "cell_type": "code",
      "source": [
        "10 * np.ones((2, 3))"
      ],
      "metadata": {
        "colab": {
          "base_uri": "https://localhost:8080/"
        },
        "id": "U0ezfmEsppTG",
        "outputId": "3ec2a260-169e-45a6-e445-94ea06a4c4f2"
      },
      "execution_count": 4,
      "outputs": [
        {
          "output_type": "execute_result",
          "data": {
            "text/plain": [
              "array([[10., 10., 10.],\n",
              "       [10., 10., 10.]])"
            ]
          },
          "metadata": {},
          "execution_count": 4
        }
      ]
    },
    {
      "cell_type": "code",
      "source": [
        "np.eye(3)"
      ],
      "metadata": {
        "colab": {
          "base_uri": "https://localhost:8080/"
        },
        "id": "vfvjgsVqpqcU",
        "outputId": "844d13cb-c6d5-4068-d595-803ec754e020"
      },
      "execution_count": 5,
      "outputs": [
        {
          "output_type": "execute_result",
          "data": {
            "text/plain": [
              "array([[1., 0., 0.],\n",
              "       [0., 1., 0.],\n",
              "       [0., 0., 1.]])"
            ]
          },
          "metadata": {},
          "execution_count": 5
        }
      ]
    },
    {
      "cell_type": "code",
      "source": [
        "np.random.random()"
      ],
      "metadata": {
        "colab": {
          "base_uri": "https://localhost:8080/"
        },
        "id": "C8h34E2MprUE",
        "outputId": "9e5a134d-b268-4961-ac51-dedc3de1f4e9"
      },
      "execution_count": 6,
      "outputs": [
        {
          "output_type": "execute_result",
          "data": {
            "text/plain": [
              "0.09311329196584006"
            ]
          },
          "metadata": {},
          "execution_count": 6
        }
      ]
    },
    {
      "cell_type": "code",
      "source": [
        "np.random.random((2, 3))"
      ],
      "metadata": {
        "colab": {
          "base_uri": "https://localhost:8080/"
        },
        "id": "rT5EWcjtpsmU",
        "outputId": "0d6c5f1a-ecfe-48cd-98a1-e05e2868ef40"
      },
      "execution_count": 7,
      "outputs": [
        {
          "output_type": "execute_result",
          "data": {
            "text/plain": [
              "array([[0.1472093 , 0.76671783, 0.41705102],\n",
              "       [0.52836656, 0.88501417, 0.22360171]])"
            ]
          },
          "metadata": {},
          "execution_count": 7
        }
      ]
    },
    {
      "cell_type": "code",
      "source": [
        "np.random.randn(2, 3)"
      ],
      "metadata": {
        "colab": {
          "base_uri": "https://localhost:8080/"
        },
        "id": "2fNW-YYHpt9T",
        "outputId": "21a853d3-d92f-42ad-a28b-0304d02cba17"
      },
      "execution_count": 8,
      "outputs": [
        {
          "output_type": "execute_result",
          "data": {
            "text/plain": [
              "array([[0.20297542, 0.54600942, 0.14103344],\n",
              "       [1.16561309, 0.66845131, 1.0451558 ]])"
            ]
          },
          "metadata": {},
          "execution_count": 8
        }
      ]
    },
    {
      "cell_type": "markdown",
      "source": [
        "In fact this function draws random numbers from the standard normal distribution meaning that this data has means zero and variance 1.\n",
        "\n",
        "Now what's very odd about the random function is that unlike zeros and ones at random, this function does not accept a tuple as input for the shape.\n",
        "\n",
        "Instead each dimension is passed in as a separate argument."
      ],
      "metadata": {
        "id": "JK0pu3-7pvrQ"
      }
    },
    {
      "cell_type": "code",
      "source": [
        "R = np.random.randn(10000)"
      ],
      "metadata": {
        "id": "r9Tk2bhKpvDh"
      },
      "execution_count": 9,
      "outputs": []
    },
    {
      "cell_type": "code",
      "source": [
        "R.mean()"
      ],
      "metadata": {
        "colab": {
          "base_uri": "https://localhost:8080/"
        },
        "id": "5Qr58VLMpzp7",
        "outputId": "9bfddd7a-b100-448e-a774-b42de37ed768"
      },
      "execution_count": 10,
      "outputs": [
        {
          "output_type": "execute_result",
          "data": {
            "text/plain": [
              "-0.006290819189687498"
            ]
          },
          "metadata": {},
          "execution_count": 10
        }
      ]
    },
    {
      "cell_type": "markdown",
      "source": [
        "And as with a few other functions this is also a top level function as well as an instance method."
      ],
      "metadata": {
        "id": "mKL0CDq4p2v1"
      }
    },
    {
      "cell_type": "code",
      "source": [
        "np.mean(R)"
      ],
      "metadata": {
        "colab": {
          "base_uri": "https://localhost:8080/"
        },
        "id": "dkN_fJMjp0y5",
        "outputId": "591a7f2a-8a41-4c5c-fb49-08f2f92c16e1"
      },
      "execution_count": 11,
      "outputs": [
        {
          "output_type": "execute_result",
          "data": {
            "text/plain": [
              "-0.006290819189687498"
            ]
          },
          "metadata": {},
          "execution_count": 11
        }
      ]
    },
    {
      "cell_type": "code",
      "source": [
        "R.var()"
      ],
      "metadata": {
        "colab": {
          "base_uri": "https://localhost:8080/"
        },
        "id": "c7-_eceJp5Pj",
        "outputId": "50947b4e-3ff0-407d-c82e-b681e80f0f18"
      },
      "execution_count": 21,
      "outputs": [
        {
          "output_type": "execute_result",
          "data": {
            "text/plain": [
              "0.9988567875081009"
            ]
          },
          "metadata": {},
          "execution_count": 21
        }
      ]
    },
    {
      "cell_type": "code",
      "source": [
        "R.std()"
      ],
      "metadata": {
        "id": "DKCKbt-wqS8f",
        "outputId": "a502ad93-3f8b-4d73-c8ae-afa1da9b7c94",
        "colab": {
          "base_uri": "https://localhost:8080/"
        }
      },
      "execution_count": 22,
      "outputs": [
        {
          "output_type": "execute_result",
          "data": {
            "text/plain": [
              "0.9994282302937519"
            ]
          },
          "metadata": {},
          "execution_count": 22
        }
      ]
    },
    {
      "cell_type": "code",
      "source": [
        "np.allclose(R.var(), R.std()**2)"
      ],
      "metadata": {
        "id": "fw_XrcNQqZi1",
        "outputId": "5b02d585-d610-4fd5-9926-d5d759095355",
        "colab": {
          "base_uri": "https://localhost:8080/"
        }
      },
      "execution_count": 27,
      "outputs": [
        {
          "output_type": "execute_result",
          "data": {
            "text/plain": [
              "True"
            ]
          },
          "metadata": {},
          "execution_count": 27
        }
      ]
    },
    {
      "cell_type": "code",
      "source": [
        "R = np.random.randn(10000, 3)"
      ],
      "metadata": {
        "id": "GruVeneOp6Ha"
      },
      "execution_count": 13,
      "outputs": []
    },
    {
      "cell_type": "code",
      "source": [
        "R.mean(axis=0)"
      ],
      "metadata": {
        "colab": {
          "base_uri": "https://localhost:8080/"
        },
        "id": "dzzLREXUp7ye",
        "outputId": "ea7d7011-7fe5-4e6e-a449-c576396d8658"
      },
      "execution_count": 14,
      "outputs": [
        {
          "output_type": "execute_result",
          "data": {
            "text/plain": [
              "array([ 0.01402284,  0.00020045, -0.01566859])"
            ]
          },
          "metadata": {},
          "execution_count": 14
        }
      ]
    },
    {
      "cell_type": "code",
      "source": [
        "R.mean(axis=1)"
      ],
      "metadata": {
        "id": "Wk8WanLWq_7S",
        "outputId": "8ec2598c-50a7-4dac-a4aa-eecf0b0aa6b3",
        "colab": {
          "base_uri": "https://localhost:8080/"
        }
      },
      "execution_count": 28,
      "outputs": [
        {
          "output_type": "execute_result",
          "data": {
            "text/plain": [
              "array([-0.62935506, -0.5654467 ,  0.36878887, ..., -0.10545456,\n",
              "       -0.23862912, -0.81779311])"
            ]
          },
          "metadata": {},
          "execution_count": 28
        }
      ]
    },
    {
      "cell_type": "code",
      "source": [
        "R.mean(axis=1).shape"
      ],
      "metadata": {
        "colab": {
          "base_uri": "https://localhost:8080/"
        },
        "id": "ZQlT5C_Hp9DP",
        "outputId": "2652f800-9904-4649-c921-e9c6bed3893d"
      },
      "execution_count": 29,
      "outputs": [
        {
          "output_type": "execute_result",
          "data": {
            "text/plain": [
              "(10000,)"
            ]
          },
          "metadata": {},
          "execution_count": 29
        }
      ]
    },
    {
      "cell_type": "markdown",
      "source": [
        "And so when you have vectors the analogue of the variance is the covariance."
      ],
      "metadata": {
        "id": "uIeQll62rsop"
      }
    },
    {
      "cell_type": "code",
      "source": [
        "np.cov(R)"
      ],
      "metadata": {
        "id": "Vpnx5KzFrC0q",
        "outputId": "f37b74a8-73e0-45ad-a218-f0a5f093b52e",
        "colab": {
          "base_uri": "https://localhost:8080/"
        }
      },
      "execution_count": 30,
      "outputs": [
        {
          "output_type": "execute_result",
          "data": {
            "text/plain": [
              "array([[ 2.14930692, -0.64296689,  1.33825998, ..., -1.60307687,\n",
              "        -0.7383545 , -1.18230734],\n",
              "       [-0.64296689,  0.19796515, -0.47657241, ...,  0.4969527 ,\n",
              "         0.17468709,  0.39241068],\n",
              "       [ 1.33825998, -0.47657241,  1.86707568, ..., -1.23400049,\n",
              "         0.16670616, -1.26129902],\n",
              "       ...,\n",
              "       [-1.60307687,  0.4969527 , -1.23400049, ...,  1.24947259,\n",
              "         0.407794  ,  1.00163564],\n",
              "       [-0.7383545 ,  0.17468709,  0.16670616, ...,  0.407794  ,\n",
              "         0.63324101,  0.08795083],\n",
              "       [-1.18230734,  0.39241068, -1.26129902, ...,  1.00163564,\n",
              "         0.08795083,  0.91712399]])"
            ]
          },
          "metadata": {},
          "execution_count": 30
        }
      ]
    },
    {
      "cell_type": "code",
      "source": [
        "np.cov(R).shape"
      ],
      "metadata": {
        "colab": {
          "base_uri": "https://localhost:8080/"
        },
        "id": "x0drhoOyp-Ke",
        "outputId": "d0a056d7-3751-4c04-e150-81427d6f3669"
      },
      "execution_count": 16,
      "outputs": [
        {
          "output_type": "execute_result",
          "data": {
            "text/plain": [
              "(10000, 10000)"
            ]
          },
          "metadata": {},
          "execution_count": 16
        }
      ]
    },
    {
      "cell_type": "markdown",
      "source": [
        "So what we've learned is that the co function by default treats each column as a vector observation and by the way this is not the convention and the rest of the numpy stack.\n",
        "\n",
        "So for example if you're using scikitlearn our tensorflow or PyTorch we do expect that each row is a sample observation.\n",
        "\n",
        "In any case we can easily fix this by transposing our first so we can do np.cov(R.T) and this is a three by three matrix as expected and also as expected it's close to identity another option is to use the argument rowvar."
      ],
      "metadata": {
        "id": "z90F50Rgr-1h"
      }
    },
    {
      "cell_type": "code",
      "source": [
        "np.cov(R.T)"
      ],
      "metadata": {
        "colab": {
          "base_uri": "https://localhost:8080/"
        },
        "id": "Jg7VbVJdp_LZ",
        "outputId": "d6931cae-a15f-42c5-a755-a2b121b8b781"
      },
      "execution_count": 17,
      "outputs": [
        {
          "output_type": "execute_result",
          "data": {
            "text/plain": [
              "array([[ 9.96747970e-01,  7.31972423e-03,  2.56070173e-02],\n",
              "       [ 7.31972423e-03,  1.01883147e+00, -5.55831993e-05],\n",
              "       [ 2.56070173e-02, -5.55831993e-05,  9.80849080e-01]])"
            ]
          },
          "metadata": {},
          "execution_count": 17
        }
      ]
    },
    {
      "cell_type": "code",
      "source": [
        "np.cov(R, rowvar=False)"
      ],
      "metadata": {
        "colab": {
          "base_uri": "https://localhost:8080/"
        },
        "id": "wc3S1oDZqAk_",
        "outputId": "716a48f3-e313-4b16-9376-504218fa024a"
      },
      "execution_count": 18,
      "outputs": [
        {
          "output_type": "execute_result",
          "data": {
            "text/plain": [
              "array([[ 9.96747970e-01,  7.31972423e-03,  2.56070173e-02],\n",
              "       [ 7.31972423e-03,  1.01883147e+00, -5.55831993e-05],\n",
              "       [ 2.56070173e-02, -5.55831993e-05,  9.80849080e-01]])"
            ]
          },
          "metadata": {},
          "execution_count": 18
        }
      ]
    },
    {
      "cell_type": "code",
      "source": [
        "np.random.randint(0, 10, size=(3, 3))"
      ],
      "metadata": {
        "colab": {
          "base_uri": "https://localhost:8080/"
        },
        "id": "QL1Dib6xqB8B",
        "outputId": "b54acb73-286f-479e-c3e2-3077c1817351"
      },
      "execution_count": 19,
      "outputs": [
        {
          "output_type": "execute_result",
          "data": {
            "text/plain": [
              "array([[2, 2, 9],\n",
              "       [5, 7, 4],\n",
              "       [0, 7, 0]])"
            ]
          },
          "metadata": {},
          "execution_count": 19
        }
      ]
    },
    {
      "cell_type": "code",
      "source": [
        "np.random.choice(10, size=(3, 3))"
      ],
      "metadata": {
        "colab": {
          "base_uri": "https://localhost:8080/"
        },
        "id": "mAoUjXWuqDFo",
        "outputId": "1353a7aa-3f8f-4f43-e20a-3323bf0f8a0b"
      },
      "execution_count": 20,
      "outputs": [
        {
          "output_type": "execute_result",
          "data": {
            "text/plain": [
              "array([[5, 7, 2],\n",
              "       [8, 7, 4],\n",
              "       [2, 8, 3]])"
            ]
          },
          "metadata": {},
          "execution_count": 20
        }
      ]
    }
  ]
}